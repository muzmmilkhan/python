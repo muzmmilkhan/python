{
 "cells": [
  {
   "cell_type": "markdown",
   "id": "7759ebbb",
   "metadata": {},
   "source": [
    "### Data Types In Python\n",
    "Data types in Python specify the type of value a variable can hold. They determine the operations that can be performed on the data and how the data is stored in memory. Common data types include integers, floating-point numbers, strings, booleans, lists, tuples, dictionaries, sets, and NoneType. Each data type serves a specific purpose and helps organize and manage data efficiently in Python programs."
   ]
  },
  {
   "cell_type": "markdown",
   "id": "5b4eb575",
   "metadata": {},
   "source": [
    "## Common Data Types in Python\n",
    "\n",
    "- **int**: Integer numbers (e.g., `5`, `-3`)\n",
    "- **float**: Floating point numbers (e.g., `3.14`, `-0.001`)\n",
    "- **str**: String/text (e.g., `\"hello\"`, `'Python'`)\n",
    "- **bool**: Boolean values (`True`, `False`)\n",
    "- **list**: Ordered, mutable sequence (e.g., `[1, 2, 3]`)\n",
    "- **tuple**: Ordered, immutable sequence (e.g., `(1, 2, 3)`)\n",
    "- **dict**: Key-value pairs (e.g., `{'name': 'Alice', 'age': 25}`)\n",
    "- **set**: Unordered collection of unique elements (e.g., `{1, 2, 3}`)\n",
    "- **NoneType**: Represents the absence of a value (`None`)"
   ]
  },
  {
   "cell_type": "markdown",
   "id": "deb8c999",
   "metadata": {},
   "source": [
    "### Integers"
   ]
  },
  {
   "cell_type": "code",
   "execution_count": 1,
   "id": "1fa52a09",
   "metadata": {},
   "outputs": [
    {
     "name": "stdout",
     "output_type": "stream",
     "text": [
      "32\n",
      "<class 'int'>\n"
     ]
    }
   ],
   "source": [
    "age = 32\n",
    "print(age)  # This will print 32\n",
    "print(type(age))  # This will print <class 'int'> indicating it's an integer"
   ]
  },
  {
   "cell_type": "markdown",
   "id": "f28e3ca5",
   "metadata": {},
   "source": [
    "### Float"
   ]
  },
  {
   "cell_type": "code",
   "execution_count": 2,
   "id": "d61afa65",
   "metadata": {},
   "outputs": [
    {
     "name": "stdout",
     "output_type": "stream",
     "text": [
      "5.9\n",
      "<class 'float'>\n"
     ]
    }
   ],
   "source": [
    "height = 5.9  # This is a float variable\n",
    "print(height)  # This will print 5.9 float\n",
    "print(type(height))  # This will print <class 'float'> indicating it's a float"
   ]
  },
  {
   "cell_type": "markdown",
   "id": "e153b1e2",
   "metadata": {},
   "source": [
    "### String"
   ]
  },
  {
   "cell_type": "code",
   "execution_count": 3,
   "id": "c11cc64e",
   "metadata": {},
   "outputs": [
    {
     "name": "stdout",
     "output_type": "stream",
     "text": [
      "Muzmmil\n",
      "<class 'str'>\n"
     ]
    }
   ],
   "source": [
    "name = \"Muzmmil\"  # This is a string variable\n",
    "print(name)  # This will print Muzmmil\n",
    "print(type(name))  # This will print <class 'str'> indicating it's a string"
   ]
  },
  {
   "cell_type": "markdown",
   "id": "f97b1eac",
   "metadata": {},
   "source": [
    "### Boolean"
   ]
  },
  {
   "cell_type": "code",
   "execution_count": 4,
   "id": "912f73e5",
   "metadata": {},
   "outputs": [
    {
     "name": "stdout",
     "output_type": "stream",
     "text": [
      "True\n",
      "<class 'bool'>\n"
     ]
    }
   ],
   "source": [
    "is_true = True  # This is a boolean variable\n",
    "print(is_true)  # This will print True\n",
    "print(type(is_true))  # This will print <class 'bool'> indicating it's a boolean"
   ]
  },
  {
   "cell_type": "code",
   "execution_count": 5,
   "id": "2bef4862",
   "metadata": {},
   "outputs": [
    {
     "data": {
      "text/plain": [
       "False"
      ]
     },
     "execution_count": 5,
     "metadata": {},
     "output_type": "execute_result"
    }
   ],
   "source": [
    "bool()"
   ]
  },
  {
   "cell_type": "code",
   "execution_count": 6,
   "id": "269c5d95",
   "metadata": {},
   "outputs": [
    {
     "name": "stdout",
     "output_type": "stream",
     "text": [
      "True\n",
      "False\n",
      "False\n",
      "False\n",
      "True\n",
      "True\n"
     ]
    }
   ],
   "source": [
    "a = 10; b = 10\n",
    "print(a == b)  # This will print True because a and b are equal\n",
    "print(a != b)  # This will print False because a and b are not different\n",
    "print(a > b)   # This will print False because a is not greater than b\n",
    "print(a < b)   # This will print False because a is not less than b\n",
    "print(a >= b)  # This will print True because a is equal to b\n",
    "print(a <= b)  # This will print True because a is equal to b"
   ]
  },
  {
   "cell_type": "code",
   "execution_count": 7,
   "id": "ab0a220c",
   "metadata": {},
   "outputs": [],
   "source": [
    "## Comman Errors\n",
    "# 1. SyntaxError: This occurs when the code is not written correctly, such as\n",
    "#    missing a colon, parentheses, or quotation marks.\n",
    "# 2. TypeError: This occurs when an operation is applied to an object of an\n",
    "#    inappropriate type, such as trying to add a string and an integer.\n",
    "# 3. NameError: This occurs when a variable is not defined or is misspelled.\n",
    "# 4. IndexError: This occurs when trying to access an index that is out of range\n",
    "#    for a list or string.\n",
    "# 5. KeyError: This occurs when trying to access a dictionary with a key that\n",
    "#    does not exist.\n",
    "# 6. ValueError: This occurs when a function receives an argument of the right\n",
    "#    type but an inappropriate value, such as trying to convert a string that\n",
    "#    does not represent a number to an integer.\n",
    "# 7. AttributeError: This occurs when trying to access an attribute or method\n",
    "#    that does not exist for an object.\n",
    "# 8. ImportError: This occurs when trying to import a module that does not\n",
    "#    exist or is not installed.\n",
    "# 9. ZeroDivisionError: This occurs when trying to divide a number by zero. "
   ]
  },
  {
   "cell_type": "code",
   "execution_count": 8,
   "id": "efe20465",
   "metadata": {},
   "outputs": [
    {
     "ename": "ZeroDivisionError",
     "evalue": "division by zero",
     "output_type": "error",
     "traceback": [
      "\u001b[31m---------------------------------------------------------------------------\u001b[39m",
      "\u001b[31mZeroDivisionError\u001b[39m                         Traceback (most recent call last)",
      "\u001b[36mCell\u001b[39m\u001b[36m \u001b[39m\u001b[32mIn[8]\u001b[39m\u001b[32m, line 1\u001b[39m\n\u001b[32m----> \u001b[39m\u001b[32m1\u001b[39m result = \u001b[32;43m10\u001b[39;49m\u001b[43m \u001b[49m\u001b[43m/\u001b[49m\u001b[43m \u001b[49m\u001b[32;43m0\u001b[39;49m  \u001b[38;5;66;03m# This will raise a ZeroDivisionError\u001b[39;00m\n\u001b[32m      2\u001b[39m \u001b[38;5;28mprint\u001b[39m(result)  \u001b[38;5;66;03m# Uncommenting this line will raise the error  \u001b[39;00m\n",
      "\u001b[31mZeroDivisionError\u001b[39m: division by zero"
     ]
    }
   ],
   "source": [
    "result = 10 / 0  # This will raise a ZeroDivisionError\n",
    "print(result)  # Uncommenting this line will raise the error  "
   ]
  },
  {
   "cell_type": "code",
   "execution_count": 9,
   "id": "b7e6e1ba",
   "metadata": {},
   "outputs": [
    {
     "ename": "TypeError",
     "evalue": "can only concatenate str (not \"int\") to str",
     "output_type": "error",
     "traceback": [
      "\u001b[31m---------------------------------------------------------------------------\u001b[39m",
      "\u001b[31mTypeError\u001b[39m                                 Traceback (most recent call last)",
      "\u001b[36mCell\u001b[39m\u001b[36m \u001b[39m\u001b[32mIn[9]\u001b[39m\u001b[32m, line 1\u001b[39m\n\u001b[32m----> \u001b[39m\u001b[32m1\u001b[39m result = \u001b[33;43m\"\u001b[39;49m\u001b[33;43mHello\u001b[39;49m\u001b[33;43m\"\u001b[39;49m\u001b[43m \u001b[49m\u001b[43m+\u001b[49m\u001b[43m \u001b[49m\u001b[32;43m5\u001b[39;49m  \u001b[38;5;66;03m# This will raise a TypeError\u001b[39;00m\n\u001b[32m      2\u001b[39m \u001b[38;5;28mprint\u001b[39m(result)  \u001b[38;5;66;03m# Uncommenting this line will raise the error\u001b[39;00m\n",
      "\u001b[31mTypeError\u001b[39m: can only concatenate str (not \"int\") to str"
     ]
    }
   ],
   "source": [
    "result = \"Hello\" + 5  # This will raise a TypeError\n",
    "print(result)  # Uncommenting this line will raise the error"
   ]
  },
  {
   "cell_type": "code",
   "execution_count": null,
   "id": "8905338a",
   "metadata": {},
   "outputs": [],
   "source": []
  }
 ],
 "metadata": {
  "kernelspec": {
   "display_name": "Python 3",
   "language": "python",
   "name": "python3"
  },
  "language_info": {
   "codemirror_mode": {
    "name": "ipython",
    "version": 3
   },
   "file_extension": ".py",
   "mimetype": "text/x-python",
   "name": "python",
   "nbconvert_exporter": "python",
   "pygments_lexer": "ipython3",
   "version": "3.12.11"
  }
 },
 "nbformat": 4,
 "nbformat_minor": 5
}
