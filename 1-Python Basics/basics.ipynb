{
 "cells": [
  {
   "cell_type": "markdown",
   "id": "d08b334a",
   "metadata": {},
   "source": [
    "### Syntax"
   ]
  },
  {
   "cell_type": "markdown",
   "id": "81e4d0d8",
   "metadata": {},
   "source": [
    "syntax refers to the set of rules that defines the combinations of symbols that are considered to be correctly structured statements or expressions in a programming language."
   ]
  },
  {
   "cell_type": "markdown",
   "id": "bdf3c73d",
   "metadata": {},
   "source": [
    "### Semantics"
   ]
  },
  {
   "cell_type": "markdown",
   "id": "3f01a8e1",
   "metadata": {},
   "source": [
    "Semantics refers to the meaning of statements, expressions, or program constructs in a programming language. It defines how the syntactically correct statements affect the behavior of a program and what results they produce during execution."
   ]
  },
  {
   "cell_type": "markdown",
   "id": "5e99be6e",
   "metadata": {},
   "source": [
    "### Comments\n",
    "- single line comments\n",
    "- multiline comments"
   ]
  },
  {
   "cell_type": "code",
   "execution_count": 1,
   "id": "60ceee16",
   "metadata": {},
   "outputs": [],
   "source": [
    "# This is a comment\n",
    "\n",
    "# This script does nothing but serves as a template for future scripts.\n",
    "# It is intended to be a starting point for Python scripts."
   ]
  },
  {
   "cell_type": "code",
   "execution_count": 2,
   "id": "b6a107ef",
   "metadata": {},
   "outputs": [
    {
     "data": {
      "text/plain": [
       "'This is a Multiline Comment\\nIt can span multiple lines and is often used to provide detailed explanations\\nor documentation for the code.\\n'"
      ]
     },
     "execution_count": 2,
     "metadata": {},
     "output_type": "execute_result"
    }
   ],
   "source": [
    "'''This is a Multiline Comment\n",
    "It can span multiple lines and is often used to provide detailed explanations\n",
    "or documentation for the code.\n",
    "'''"
   ]
  },
  {
   "cell_type": "code",
   "execution_count": 3,
   "id": "98357c2d",
   "metadata": {},
   "outputs": [
    {
     "name": "stdout",
     "output_type": "stream",
     "text": [
      "10\n",
      "20\n"
     ]
    }
   ],
   "source": [
    "# Case Sensitivity in Python\n",
    "# Python is case-sensitive, meaning that variable names are case-sensitive.\n",
    "# For example, 'Variable' and 'variable' are considered different variables.\n",
    "Variable = 10\n",
    "variable = 20\n",
    "print(Variable)\n",
    "print(variable)"
   ]
  },
  {
   "cell_type": "code",
   "execution_count": 4,
   "id": "c90996e4",
   "metadata": {},
   "outputs": [
    {
     "name": "stdout",
     "output_type": "stream",
     "text": [
      "Muzmmil\n",
      "Pathan\n"
     ]
    }
   ],
   "source": [
    "name = \"Muzmmil\"\n",
    "Name = \"Pathan\"\n",
    "print(name)\n",
    "print(Name)"
   ]
  },
  {
   "cell_type": "code",
   "execution_count": 5,
   "id": "2f1591a8",
   "metadata": {},
   "outputs": [
    {
     "name": "stdout",
     "output_type": "stream",
     "text": [
      "Variable is not greater than variable\n"
     ]
    }
   ],
   "source": [
    "# Indentation in Python\n",
    "# Indentation is crucial in Python as it defines the structure of the code.\n",
    "# For example, in loops and conditionals, the code block must be indented.\n",
    "if Variable > variable:\n",
    "    print(\"Variable is greater than variable\")\n",
    "else:\n",
    "    print(\"Variable is not greater than variable\")"
   ]
  },
  {
   "cell_type": "code",
   "execution_count": 6,
   "id": "ecc090bf",
   "metadata": {},
   "outputs": [
    {
     "name": "stdout",
     "output_type": "stream",
     "text": [
      "You are an adult.\n"
     ]
    }
   ],
   "source": [
    "age = 25\n",
    "if age >= 18:\n",
    "    print(\"You are an adult.\")\n",
    "else:\n",
    "    print(\"You are a minor.\")"
   ]
  },
  {
   "cell_type": "code",
   "execution_count": 7,
   "id": "d83b0e78",
   "metadata": {},
   "outputs": [
    {
     "name": "stdout",
     "output_type": "stream",
     "text": [
      "Hello, World!\n"
     ]
    }
   ],
   "source": [
    "## This is single line comment\n",
    "print(\"Hello, World!\")  # This is an inline comment"
   ]
  },
  {
   "cell_type": "code",
   "execution_count": 9,
   "id": "192f5e76",
   "metadata": {},
   "outputs": [
    {
     "name": "stdout",
     "output_type": "stream",
     "text": [
      "55\n"
     ]
    }
   ],
   "source": [
    "## Use \\ for line continuation\n",
    "# This allows you to split a long line of code into multiple lines for better readability.\n",
    "total = 1+2+3+4+5+\\\n",
    "    6+7+8+9+10\n",
    "print(total)"
   ]
  },
  {
   "cell_type": "code",
   "execution_count": 10,
   "id": "30a70635",
   "metadata": {},
   "outputs": [
    {
     "name": "stdout",
     "output_type": "stream",
     "text": [
      "55\n"
     ]
    }
   ],
   "source": [
    "## Multiline Statements\n",
    "# You can also use parentheses to create multiline statements.\n",
    "total = (1 + 2 + 3 +\n",
    "         4 + 5 +\n",
    "         6 + 7 + 8 +\n",
    "         9 + 10)\n",
    "print(total)"
   ]
  },
  {
   "cell_type": "code",
   "execution_count": 13,
   "id": "e4040275",
   "metadata": {},
   "outputs": [
    {
     "name": "stdout",
     "output_type": "stream",
     "text": [
      "10 20 30\n"
     ]
    }
   ],
   "source": [
    "x = 10; y = 20; z = 30 # Multi assignment in one line\n",
    "print(x, y, z)"
   ]
  },
  {
   "cell_type": "code",
   "execution_count": 14,
   "id": "cde308a7",
   "metadata": {},
   "outputs": [
    {
     "name": "stdout",
     "output_type": "stream",
     "text": [
      "Age: 32\n",
      "Name: Muzmmil\n"
     ]
    }
   ],
   "source": [
    "age = 32 # age is an integer variable\n",
    "name = \"Muzmmil\" # name is a string variable\n",
    "print(\"Age:\", age)\n",
    "print(\"Name:\", name)"
   ]
  },
  {
   "cell_type": "code",
   "execution_count": 16,
   "id": "6ce02ecb",
   "metadata": {},
   "outputs": [
    {
     "data": {
      "text/plain": [
       "int"
      ]
     },
     "execution_count": 16,
     "metadata": {},
     "output_type": "execute_result"
    }
   ],
   "source": [
    "type(age)  # This will return <class 'int'>"
   ]
  },
  {
   "cell_type": "code",
   "execution_count": 17,
   "id": "174bfe33",
   "metadata": {},
   "outputs": [
    {
     "data": {
      "text/plain": [
       "str"
      ]
     },
     "execution_count": 17,
     "metadata": {},
     "output_type": "execute_result"
    }
   ],
   "source": [
    "type(name)  # This will return <class 'str'>\n"
   ]
  },
  {
   "cell_type": "code",
   "execution_count": 18,
   "id": "610cfcb5",
   "metadata": {},
   "outputs": [
    {
     "name": "stdout",
     "output_type": "stream",
     "text": [
      "10\n",
      "Hello\n"
     ]
    }
   ],
   "source": [
    "variable = 10  # This is an integer variable\n",
    "print(variable)  # This will print 10 integer\n",
    "variable = \"Hello\"  # This is a string variable\n",
    "print(variable)  # This will print \"Hello\" # string"
   ]
  },
  {
   "cell_type": "code",
   "execution_count": 20,
   "id": "e7c9db02",
   "metadata": {},
   "outputs": [
    {
     "ename": "IndentationError",
     "evalue": "expected an indented block after 'if' statement on line 2 (1498399670.py, line 3)",
     "output_type": "error",
     "traceback": [
      "  \u001b[36mCell\u001b[39m\u001b[36m \u001b[39m\u001b[32mIn[20]\u001b[39m\u001b[32m, line 3\u001b[39m\n\u001b[31m    \u001b[39m\u001b[31mprint(\"You are an adult.\") # This will raise an IndentationError\u001b[39m\n    ^\n\u001b[31mIndentationError\u001b[39m\u001b[31m:\u001b[39m expected an indented block after 'if' statement on line 2\n"
     ]
    }
   ],
   "source": [
    "age = 32\n",
    "if age >= 18:\n",
    "print(\"You are an adult.\") # This will raise an IndentationError\n"
   ]
  },
  {
   "cell_type": "code",
   "execution_count": 21,
   "id": "36d81359",
   "metadata": {},
   "outputs": [
    {
     "ename": "NameError",
     "evalue": "name 'b' is not defined",
     "output_type": "error",
     "traceback": [
      "\u001b[31m---------------------------------------------------------------------------\u001b[39m",
      "\u001b[31mNameError\u001b[39m                                 Traceback (most recent call last)",
      "\u001b[36mCell\u001b[39m\u001b[36m \u001b[39m\u001b[32mIn[21]\u001b[39m\u001b[32m, line 1\u001b[39m\n\u001b[32m----> \u001b[39m\u001b[32m1\u001b[39m a = \u001b[43mb\u001b[49m \u001b[38;5;66;03m# This will raise a NameError because 'b' is not defined\u001b[39;00m\n",
      "\u001b[31mNameError\u001b[39m: name 'b' is not defined"
     ]
    }
   ],
   "source": [
    "a = b # This will raise a NameError because 'b' is not defined"
   ]
  },
  {
   "cell_type": "code",
   "execution_count": 22,
   "id": "a113ad11",
   "metadata": {},
   "outputs": [
    {
     "name": "stdout",
     "output_type": "stream",
     "text": [
      "This is indented code block.\n",
      "Back to the first indented code block.\n",
      "This is outside the indented code block.\n"
     ]
    }
   ],
   "source": [
    "## Code example of indentation \n",
    "if True:\n",
    "    print(\"This is indented code block.\")\n",
    "    if False:\n",
    "        print(\"This is another indented code block.\")\n",
    "    print(\"Back to the first indented code block.\")\n",
    "print(\"This is outside the indented code block.\")"
   ]
  },
  {
   "cell_type": "code",
   "execution_count": null,
   "id": "25d80089",
   "metadata": {},
   "outputs": [],
   "source": []
  }
 ],
 "metadata": {
  "kernelspec": {
   "display_name": "Python 3",
   "language": "python",
   "name": "python3"
  },
  "language_info": {
   "codemirror_mode": {
    "name": "ipython",
    "version": 3
   },
   "file_extension": ".py",
   "mimetype": "text/x-python",
   "name": "python",
   "nbconvert_exporter": "python",
   "pygments_lexer": "ipython3",
   "version": "3.12.11"
  }
 },
 "nbformat": 4,
 "nbformat_minor": 5
}
