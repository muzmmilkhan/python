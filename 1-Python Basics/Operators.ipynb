{
 "cells": [
  {
   "cell_type": "markdown",
   "id": "cf92ffa3",
   "metadata": {},
   "source": [
    "### Operators\n",
    "Operators are special symbols used to perform operations on variables and values.  \n",
    "Common types of operators include:\n",
    "\n",
    "- **Arithmetic Operators**: `+`, `-`, `*`, `/`, `%`, `**`\n",
    "- **Comparison Operators**: `==`, `!=`, `>`, `<`, `>=`, `<=`\n",
    "- **Logical Operators**: `and`, `or`, `not`\n",
    "- **Assignment Operators**: `=`, `+=`, `-=`, `*=`, `/=`\n",
    "- **Bitwise Operators**: `&`, `|`, `^`, `~`, `<<`, `>>`"
   ]
  },
  {
   "cell_type": "markdown",
   "id": "004c7834",
   "metadata": {},
   "source": [
    "### Arithmetic Operators"
   ]
  },
  {
   "cell_type": "code",
   "execution_count": 8,
   "id": "6c19af22",
   "metadata": {},
   "outputs": [
    {
     "name": "stdout",
     "output_type": "stream",
     "text": [
      "15\n",
      "5\n",
      "50\n",
      "2.0\n",
      "0\n",
      "100000\n",
      "2\n"
     ]
    }
   ],
   "source": [
    "\n",
    "a = 10\n",
    "b = 5\n",
    "print(a + b)  # Addition\n",
    "print(a - b)  # Subtraction\n",
    "print(a * b)  # Multiplication\n",
    "print(a / b)  # Division\n",
    "print(a % b)  # Modulus\n",
    "print(a ** b)  # Exponentiation\n",
    "print(a // b)  # Floor Division"
   ]
  },
  {
   "cell_type": "code",
   "execution_count": 9,
   "id": "efea4e0d",
   "metadata": {},
   "outputs": [
    {
     "name": "stdout",
     "output_type": "stream",
     "text": [
      "2.0\n",
      "2\n"
     ]
    }
   ],
   "source": [
    "## Division Operators vs Floor Division\n",
    "print(a / b)   # This will print 2.0 (float division)\n",
    "print(a // b)  # This will print 2 (floor division)"
   ]
  },
  {
   "cell_type": "markdown",
   "id": "9d0220aa",
   "metadata": {},
   "source": [
    "### Comparision Operatord"
   ]
  },
  {
   "cell_type": "code",
   "execution_count": 10,
   "id": "c339d9c6",
   "metadata": {},
   "outputs": [
    {
     "name": "stdout",
     "output_type": "stream",
     "text": [
      "False\n",
      "True\n",
      "False\n",
      "True\n",
      "False\n",
      "True\n"
     ]
    }
   ],
   "source": [
    "a = 5\n",
    "b = 10  \n",
    "print(a == b)  # This will print False because a is not equal to b\n",
    "print(a != b)  # This will print True because a is not equal to b\n",
    "print(a > b)   # This will print False because a is not greater than b\n",
    "print(a < b)   # This will print True because a is less than b\n",
    "print(a >= b)  # This will print False because a is not greater than or equal to b\n",
    "print(a <= b)  # This will print True because a is less than or equal to b"
   ]
  },
  {
   "cell_type": "code",
   "execution_count": 11,
   "id": "eb515dd6",
   "metadata": {},
   "outputs": [
    {
     "name": "stdout",
     "output_type": "stream",
     "text": [
      "False\n",
      "True\n"
     ]
    }
   ],
   "source": [
    "str1 = \"Muzmmil\"\n",
    "str2 = \"muzmmil\"\n",
    "print(str1 == str2)  # This will print False because the strings are not equal (case-sensitive)\n",
    "print(str1 != str2)  # This will print True because the strings are not equal"
   ]
  },
  {
   "cell_type": "code",
   "execution_count": 12,
   "id": "f97ef7a1",
   "metadata": {},
   "outputs": [
    {
     "name": "stdout",
     "output_type": "stream",
     "text": [
      "False\n",
      "True\n",
      "False\n",
      "True\n"
     ]
    }
   ],
   "source": [
    "num1 = 10\n",
    "num2 = 20\n",
    "print(num1 > num2)  # This will print False because 10 is not greater than 20\n",
    "print(num1 < num2)  # This will print True because 10 is less than 20\n",
    "print(num1 >= num2)  # This will print False because 10 is not greater than or equal to 20\n",
    "print(num1 <= num2)  # This will print True because 10 is less than or equal to 20"
   ]
  },
  {
   "cell_type": "markdown",
   "id": "b30f24fd",
   "metadata": {},
   "source": [
    "The `and`, `or`, and `not` operators are used to perform logical operations:\n",
    "\n",
    "- **and**: Returns `True` if both operands are `True`.\n",
    "- **or**: Returns `True` if at least one operand is `True`.\n",
    "- **not**: Returns `True` if the operand is `False`, and vice versa."
   ]
  },
  {
   "cell_type": "code",
   "execution_count": 13,
   "id": "6af0f9f4",
   "metadata": {},
   "outputs": [
    {
     "name": "stdout",
     "output_type": "stream",
     "text": [
      "False\n",
      "True\n",
      "False\n"
     ]
    }
   ],
   "source": [
    "\n",
    "a = True\n",
    "b = False\n",
    "print(a and b)  # This will print False because both conditions are not True\n",
    "print(a or b)   # This will print True because at least one condition is True\n",
    "print(not a)    # This will print False because a is True, and not True is"
   ]
  },
  {
   "cell_type": "code",
   "execution_count": null,
   "id": "8b1054de",
   "metadata": {},
   "outputs": [],
   "source": [
    "# Simple calculator\n"
   ]
  }
 ],
 "metadata": {
  "kernelspec": {
   "display_name": "Python 3",
   "language": "python",
   "name": "python3"
  },
  "language_info": {
   "codemirror_mode": {
    "name": "ipython",
    "version": 3
   },
   "file_extension": ".py",
   "mimetype": "text/x-python",
   "name": "python",
   "nbconvert_exporter": "python",
   "pygments_lexer": "ipython3",
   "version": "3.12.11"
  }
 },
 "nbformat": 4,
 "nbformat_minor": 5
}
