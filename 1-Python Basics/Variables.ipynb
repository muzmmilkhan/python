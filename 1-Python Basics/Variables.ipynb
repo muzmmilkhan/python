{
 "cells": [
  {
   "cell_type": "markdown",
   "id": "8f037b56",
   "metadata": {},
   "source": [
    "### Variables\n",
    "A variable is a named storage location in memory that holds a value which can be changed during program execution. Variables are used to store data, such as numbers, strings, or more complex data structures, and allow programmers to reference and manipulate this data throughout their code."
   ]
  },
  {
   "cell_type": "code",
   "execution_count": 1,
   "id": "c1e301da",
   "metadata": {},
   "outputs": [
    {
     "name": "stdout",
     "output_type": "stream",
     "text": [
      "100\n"
     ]
    }
   ],
   "source": [
    "a = 100\n",
    "print(a)  # This will print 100"
   ]
  },
  {
   "cell_type": "code",
   "execution_count": 2,
   "id": "79a9b738",
   "metadata": {},
   "outputs": [
    {
     "name": "stdout",
     "output_type": "stream",
     "text": [
      "Age: 32\n",
      "Name: Muzmmil\n",
      "Height: 5.9\n",
      "Is Student: True\n"
     ]
    }
   ],
   "source": [
    "## Declaration and Initialization of Variables\n",
    "age = 32  # This declares a variable 'age' and initializes it with the value 32\n",
    "name = \"Muzmmil\"  # This declares a variable 'name' and initializes it with the string \"Muzmmil\"\n",
    "height = 5.9  # This declares a variable 'height' and initializes it with the float value 5.9\n",
    "is_student = True  # This declares a variable 'is_student' and initializes it with the boolean value True\n",
    "print(\"Age:\", age)  # This will print the value of 'age'\n",
    "print(\"Name:\", name)  # This will print the value of 'name'\n",
    "print(\"Height:\", height)  # This will print the value of 'height'\n",
    "print(\"Is Student:\", is_student)  # This will print the value of 'is_student'   "
   ]
  },
  {
   "cell_type": "code",
   "execution_count": 5,
   "id": "201bb3ba",
   "metadata": {},
   "outputs": [],
   "source": [
    "## Naming Conventions\n",
    "# Variable names should be descriptive and follow conventions:\n",
    "# - Use lowercase letters for variable names (e.g., `age`, `name`).\n",
    "# - Use underscores to separate words (e.g., `first_name`, `last_name`).\n",
    "# - Avoid using reserved keywords (e.g., `if`, `else`, `while`, etc.).\n",
    "# - Start variable names with a letter or underscore, not a number.\n",
    "# - Use meaningful names that reflect the purpose of the variable (e.g., `total_price`, `user_age`).\n",
    "# - Case sensitivity: `first_name` and `First_Name` are considered different variables.\n",
    "\n",
    "first_name = \"Muzmmil\"  # This is a valid variable name\n",
    "last_name = \"Khan\"  # This is another valid variable name"
   ]
  },
  {
   "cell_type": "code",
   "execution_count": 6,
   "id": "8df1c60f",
   "metadata": {},
   "outputs": [
    {
     "ename": "SyntaxError",
     "evalue": "cannot assign to expression here. Maybe you meant '==' instead of '='? (1710587708.py, line 8)",
     "output_type": "error",
     "traceback": [
      "  \u001b[36mCell\u001b[39m\u001b[36m \u001b[39m\u001b[32mIn[6]\u001b[39m\u001b[32m, line 8\u001b[39m\n\u001b[31m    \u001b[39m\u001b[31mfirst-name = \"Muzmmil\"  # This is a valid variable name\u001b[39m\n    ^\n\u001b[31mSyntaxError\u001b[39m\u001b[31m:\u001b[39m cannot assign to expression here. Maybe you meant '==' instead of '='?\n"
     ]
    }
   ],
   "source": [
    "# Invalid variable names\n",
    "# 1. 1st_name = \"Muzmmil\"  # This will raise a SyntaxError because variable names cannot start with a number\n",
    "# 2. first-name = \"Muzmmil\"  # This will raise a SyntaxError because hyphens are not allowed in variable names\n",
    "# 3. class = \"Muzmmil\"  # This will raise a SyntaxError because 'class' is a reserved keyword in Python\n",
    "# 4. first name = \"Muzmmil\"  # This will raise a SyntaxError because spaces are not allowed in variable names\n",
    "# 5. first@name = \"Muzmmil\"  # This will raise a SyntaxError because special characters like '@' are not allowed in variable names  \n",
    "\n",
    "first-name = \"Muzmmil\"  # This is a valid variable name\n",
    "# This will raise a SyntaxError because hyphens are not allowed in variable names\n"
   ]
  },
  {
   "cell_type": "code",
   "execution_count": 7,
   "id": "e1a0e7ea",
   "metadata": {},
   "outputs": [
    {
     "name": "stdout",
     "output_type": "stream",
     "text": [
      "32\n",
      "5.9\n",
      "True\n",
      "Muzmmil\n"
     ]
    }
   ],
   "source": [
    "## Understanding Variable Types\n",
    "# Variables can hold different types of data, such as integers, strings, floats, and booleans.\n",
    "# - Integer: Whole numbers (e.g., `age = 32`).\n",
    "# - String: Text data enclosed in quotes (e.g., `name = \"Muzmmil\"`).\n",
    "# - Float: Decimal numbers (e.g., `height = 5.9`).\n",
    "# - Boolean: True or False values (e.g., `is_student = True`).\n",
    "\n",
    "age = 32  # This is an integer variable\n",
    "print(age)  # This will print 32 integer\n",
    "height = 5.9  # This is a float variable\n",
    "print(height)  # This will print 5.9 float\n",
    "is_student = True  # This is a boolean variable\n",
    "print(is_student)  # This will print True boolean\n",
    "name = \"Muzmmil\"  # This is a string variable\n",
    "print(name)  # This will print \"Muzmmil\" string"
   ]
  },
  {
   "cell_type": "code",
   "execution_count": 8,
   "id": "4b5f9e59",
   "metadata": {},
   "outputs": [
    {
     "name": "stdout",
     "output_type": "stream",
     "text": [
      "<class 'int'>\n",
      "<class 'str'>\n",
      "<class 'float'>\n",
      "<class 'bool'>\n"
     ]
    }
   ],
   "source": [
    "# Type Checking\n",
    "# You can check the type of a variable using the `type()` function.\n",
    "print(type(age))  # This will print <class 'int'>\n",
    "print(type(name))  # This will print <class 'str'>\n",
    "print(type(height))  # This will print <class 'float'>\n",
    "print(type(is_student))  # This will print <class 'bool'>"
   ]
  },
  {
   "cell_type": "code",
   "execution_count": 9,
   "id": "8ffbf471",
   "metadata": {},
   "outputs": [
    {
     "name": "stdout",
     "output_type": "stream",
     "text": [
      "32\n",
      "5\n"
     ]
    }
   ],
   "source": [
    "# Type Conversion\n",
    "# You can convert between different types using built-in functions like `int()`, `float()`, and `str()`.\n",
    "age_str = str(age)  # Convert integer to string\n",
    "print(age_str)  # This will print \"32\" as a string\n",
    "height_int = int(height)  # Convert float to integer\n",
    "print(height_int)  # This will print 5 as an integer"
   ]
  },
  {
   "cell_type": "code",
   "execution_count": 11,
   "id": "420837ef",
   "metadata": {},
   "outputs": [
    {
     "name": "stdout",
     "output_type": "stream",
     "text": [
      "25\n",
      "<class 'str'>\n",
      "25\n",
      "<class 'int'>\n"
     ]
    }
   ],
   "source": [
    "age = '25' # This is a string variable\n",
    "print(age)  # This will print '25' string\n",
    "print(type(age))  # This will print <class 'str'> indicating it's a string\n",
    "int_age = int(age)  # Convert string to integer\n",
    "print(int_age)  # This will print 25 as an integer\n",
    "print(type(int_age))  # This will print <class 'int'> indicating it's now an integer"
   ]
  },
  {
   "cell_type": "code",
   "execution_count": 13,
   "id": "137a106a",
   "metadata": {},
   "outputs": [
    {
     "name": "stdout",
     "output_type": "stream",
     "text": [
      "5.9\n",
      "<class 'float'>\n",
      "5\n",
      "<class 'int'>\n"
     ]
    }
   ],
   "source": [
    "height = 5.9  # This is a float variable\n",
    "print(height)  # This will print 5.9 float\n",
    "print(type(height))  # This will print <class 'float'> indicating it's a float\n",
    "int_height = int(height)  # Convert float to integer\n",
    "print(int_height)  # This will print 5 as an integer\n",
    "print(type(int_height))  # This will print <class 'int'> indicating it's now an integer"
   ]
  },
  {
   "cell_type": "code",
   "execution_count": 14,
   "id": "bc304b19",
   "metadata": {},
   "outputs": [
    {
     "name": "stdout",
     "output_type": "stream",
     "text": [
      "<class 'int'>\n",
      "<class 'str'>\n"
     ]
    }
   ],
   "source": [
    "## Dynamic Typing\n",
    "# Python is dynamically typed, meaning you can change the type of a variable at runtime.\n",
    "age = 25  # Initially an integer\n",
    "print(type(age))  # This will print <class 'int'>\n",
    "age = \"Twenty-Five\"  # Now a string\n",
    "print(type(age))  # This will print <class 'str'> indicating it's now a string "
   ]
  },
  {
   "cell_type": "code",
   "execution_count": 15,
   "id": "8eacd8b7",
   "metadata": {},
   "outputs": [
    {
     "name": "stdout",
     "output_type": "stream",
     "text": [
      "Hello, Muzmmil\n",
      "Your age is 32\n",
      "Your height is 5.9\n",
      "Are you a student? True\n"
     ]
    }
   ],
   "source": [
    "## Input from User\n",
    "# You can take input from the user using the `input()` function.\n",
    "user_input = input(\"Enter your name: \")  # This will prompt the user to enter their name\n",
    "print(\"Hello,\", user_input)  # This will greet the user with their name\n",
    "# Note: The input from `input()` is always a string, so you may need to convert it to other types if necessary.\n",
    "age = int(input(\"Enter your age: \"))  # This will prompt the user to enter their age and convert it to an integer\n",
    "print(\"Your age is\", age)  # This will print the user's age\n",
    "height = float(input(\"Enter your height: \"))  # This will prompt the user to enter their height and convert it to a float\n",
    "print(\"Your height is\", height)  # This will print the user's height\n",
    "is_student = input(\"Are you a student? (yes/no): \")  # This will prompt the user to enter if they are a student\n",
    "is_student = is_student.lower() == 'yes'  # Convert the input to a boolean value\n",
    "print(\"Are you a student?\", is_student)  # This will print whether the user is a student or not"
   ]
  },
  {
   "cell_type": "code",
   "execution_count": 16,
   "id": "17cd9def",
   "metadata": {},
   "outputs": [
    {
     "name": "stdout",
     "output_type": "stream",
     "text": [
      "Addition: 15\n",
      "Subtraction: 5\n",
      "Multiplication: 50\n",
      "Division: 2.0\n",
      "Modulus: 0\n",
      "Exponentiation: 100000\n",
      "Floor Division: 2\n"
     ]
    }
   ],
   "source": [
    "### simple calculator\n",
    "# This is a simple calculator that performs addition, subtraction, multiplication, and division.\n",
    "a = 10\n",
    "b = 5\n",
    "print(\"Addition:\", a + b)  # This will print the sum of a and b\n",
    "print(\"Subtraction:\", a - b)  # This will print the difference of a and b\n",
    "print(\"Multiplication:\", a * b)  # This will print the product of a and b\n",
    "print(\"Division:\", a / b)  # This will print the quotient of a and b\n",
    "print(\"Modulus:\", a % b)  # This will print the remainder of a divided by b\n",
    "print(\"Exponentiation:\", a ** b)  # This will print a raised to the power of b\n",
    "print(\"Floor Division:\", a // b)  # This will print the floor division of a by b    "
   ]
  },
  {
   "cell_type": "code",
   "execution_count": null,
   "id": "6da57dac",
   "metadata": {},
   "outputs": [],
   "source": []
  }
 ],
 "metadata": {
  "kernelspec": {
   "display_name": "Python 3",
   "language": "python",
   "name": "python3"
  },
  "language_info": {
   "codemirror_mode": {
    "name": "ipython",
    "version": 3
   },
   "file_extension": ".py",
   "mimetype": "text/x-python",
   "name": "python",
   "nbconvert_exporter": "python",
   "pygments_lexer": "ipython3",
   "version": "3.12.11"
  }
 },
 "nbformat": 4,
 "nbformat_minor": 5
}
