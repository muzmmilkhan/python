{
 "cells": [
  {
   "cell_type": "markdown",
   "metadata": {},
   "source": [
    "# Lesson 1.2: Python Basics\n",
    "## Topics Covered:\n",
    "- Syntax and Semantics\n",
    "- Variables and Data Types\n",
    "- Basic Operators (Arithmetic, Comparison, Logical)\n"
   ]
  },
  {
   "cell_type": "markdown",
   "metadata": {},
   "source": [
    "## 1. Syntax and Semantics\n",
    "\n",
    "**Question 1:** Write a Python program to print \"Hello, World!\"."
   ]
  },
  {
   "cell_type": "code",
   "execution_count": 1,
   "metadata": {},
   "outputs": [
    {
     "name": "stdout",
     "output_type": "stream",
     "text": [
      "Hello, World!\n"
     ]
    }
   ],
   "source": [
    "# Your code here\n",
    "print(\"Hello, World!\")  # This will print \"Hello, World!\" to the console"
   ]
  },
  {
   "cell_type": "markdown",
   "metadata": {},
   "source": [
    "**Question 2:** Write a Python program that takes a user input and prints it."
   ]
  },
  {
   "cell_type": "code",
   "execution_count": 2,
   "metadata": {},
   "outputs": [
    {
     "name": "stdout",
     "output_type": "stream",
     "text": [
      "You entered: Hi\n"
     ]
    }
   ],
   "source": [
    "# Your code here\n",
    "user_input = input(\"Please enter something: \")  # This will prompt the user to enter something\n",
    "print(f\"You entered: {user_input}\")  # This will print what the user entered"
   ]
  },
  {
   "cell_type": "markdown",
   "metadata": {},
   "source": [
    "**Question 3:** Write a Python program to check if a number is positive, negative, or zero."
   ]
  },
  {
   "cell_type": "code",
   "execution_count": 3,
   "metadata": {},
   "outputs": [
    {
     "name": "stdout",
     "output_type": "stream",
     "text": [
      "The number is positive.\n"
     ]
    }
   ],
   "source": [
    "# Your code here\n",
    "number = 42  # This is an example of a number\n",
    "if number > 0:\n",
    "    print(\"The number is positive.\")\n",
    "elif number == 0:\n",
    "    print(\"The number is zero.\")\n",
    "else:\n",
    "    print(\"The number is not positive.\")"
   ]
  },
  {
   "cell_type": "markdown",
   "metadata": {},
   "source": [
    "**Question 4:** Write a Python program to find the largest of three numbers."
   ]
  },
  {
   "cell_type": "code",
   "execution_count": 6,
   "metadata": {},
   "outputs": [
    {
     "name": "stdout",
     "output_type": "stream",
     "text": [
      "c is greater than both a and b\n"
     ]
    }
   ],
   "source": [
    "# Your code here\n",
    "a = 10\n",
    "b = 50\n",
    "c = 150\n",
    "if a > b and a > c:\n",
    "    print(\"a is greater than both b and c\")\n",
    "elif b > a and b > c:\n",
    "    print(\"b is greater than both a and c\")\n",
    "else:\n",
    "    print(\"c is greater than both a and b\")"
   ]
  },
  {
   "cell_type": "markdown",
   "metadata": {},
   "source": [
    "**Question 5:** Write a Python program to calculate the factorial of a number."
   ]
  },
  {
   "cell_type": "code",
   "execution_count": 8,
   "metadata": {},
   "outputs": [
    {
     "name": "stdout",
     "output_type": "stream",
     "text": [
      "The factorial of 5 is 120\n"
     ]
    }
   ],
   "source": [
    "# Your code here\n",
    "num = 5\n",
    "factorial = 1\n",
    "for i in range(1,num + 1):\n",
    "    factorial *= i\n",
    "print(f\"The factorial of {num} is {factorial}\")  # This will print the factorial of the number"
   ]
  },
  {
   "cell_type": "markdown",
   "metadata": {},
   "source": [
    "## 2. Variables and Data Types\n",
    "\n",
    "**Question 6:** Create variables of different data types: integer, float, string, and boolean. Print their values and types."
   ]
  },
  {
   "cell_type": "code",
   "execution_count": 9,
   "metadata": {},
   "outputs": [
    {
     "name": "stdout",
     "output_type": "stream",
     "text": [
      "The value of var1 is: 10\n",
      "The type of var1 is: <class 'int'>\n",
      "The value of var2 is: 3.14\n",
      "The type of var2 is: <class 'float'>\n",
      "The value of var3 is: Hello\n",
      "The type of var3 is: <class 'str'>\n",
      "The value of var4 is: True\n",
      "The type of var4 is: <class 'bool'>\n",
      "The value of var5 is: None\n",
      "The type of var5 is: <class 'NoneType'>\n",
      "Is var1 greater than var2? True\n"
     ]
    }
   ],
   "source": [
    "# Your code here\n",
    "var1 = 10\n",
    "print(f\"The value of var1 is: {var1}\")  # This will print the value of var1\n",
    "print(f\"The type of var1 is: {type(var1)}\")  # This will print the type of var1\n",
    "var2 = 3.14\n",
    "print(f\"The value of var2 is: {var2}\")  # This will print the value of var2\n",
    "print(f\"The type of var2 is: {type(var2)}\")  # This will print the type of var2\n",
    "var3 = \"Hello\"\n",
    "print(f\"The value of var3 is: {var3}\")  # This will print the value of var3\n",
    "print(f\"The type of var3 is: {type(var3)}\")  # This will print the type of var3\n",
    "var4 = True\n",
    "print(f\"The value of var4 is: {var4}\")  # This will print the value of var4\n",
    "print(f\"The type of var4 is: {type(var4)}\")  # This will print the type of var4\n",
    "var5 = None\n",
    "print(f\"The value of var5 is: {var5}\")  # This will print the value of var5\n",
    "print(f\"The type of var5 is: {type(var5)}\")  # This will print the type of var5\n",
    "print(f\"Is var1 greater than var2? {var1 > var2}\")"
   ]
  },
  {
   "cell_type": "markdown",
   "metadata": {},
   "source": [
    "**Question 7:** Write a Python program to swap the values of two variables."
   ]
  },
  {
   "cell_type": "code",
   "execution_count": 10,
   "metadata": {},
   "outputs": [
    {
     "name": "stdout",
     "output_type": "stream",
     "text": [
      "Before swapping: a = 5, b = 10\n",
      "After swapping: a = 10, b = 5\n"
     ]
    }
   ],
   "source": [
    "# Your code here\n",
    "a, b = 5, 10\n",
    "print(f\"Before swapping: a = {a}, b = {b}\")  # This will print the values of a and b before swapping\n",
    "a, b = b, a  # This will swap the values of a and b\n",
    "print(f\"After swapping: a = {a}, b = {b}\")  # This will print the values of a and b after swapping"
   ]
  },
  {
   "cell_type": "markdown",
   "metadata": {},
   "source": [
    "**Question 8:** Write a Python program to convert Celsius to Fahrenheit."
   ]
  },
  {
   "cell_type": "code",
   "execution_count": 11,
   "metadata": {},
   "outputs": [
    {
     "name": "stdout",
     "output_type": "stream",
     "text": [
      "25 degrees Celsius is equal to 77.0 degrees Fahrenheit\n"
     ]
    }
   ],
   "source": [
    "# Your code here\n",
    "celsius = 25  # This is an example of a temperature in Celsius\n",
    "fahrenheit = (celsius * 9/5) + 32  # This will convert Celsius to Fahrenheit\n",
    "print(f\"{celsius} degrees Celsius is equal to {fahrenheit} degrees Fahrenheit\")  # This will print"
   ]
  },
  {
   "cell_type": "markdown",
   "metadata": {},
   "source": [
    "**Question 9:** Write a Python program to concatenate two strings."
   ]
  },
  {
   "cell_type": "code",
   "execution_count": 12,
   "metadata": {},
   "outputs": [
    {
     "name": "stdout",
     "output_type": "stream",
     "text": [
      "Concatenated string: Hello World\n"
     ]
    }
   ],
   "source": [
    "# Your code here\n",
    "str1 = \"Hello\"\n",
    "str2 = \"World\"\n",
    "print(f\"Concatenated string: {str1 + ' ' + str2}\")"
   ]
  },
  {
   "cell_type": "markdown",
   "metadata": {},
   "source": [
    "**Question 10:** Write a Python program to check if a variable is of a specific data type."
   ]
  },
  {
   "cell_type": "code",
   "execution_count": 14,
   "metadata": {},
   "outputs": [
    {
     "name": "stdout",
     "output_type": "stream",
     "text": [
      "42.4 is a float\n"
     ]
    }
   ],
   "source": [
    "# Your code here\n",
    "var = 42.4\n",
    "if isinstance(var, int):\n",
    "    print(f\"{var} is an integer\")\n",
    "elif isinstance(var, float):\n",
    "    print(f\"{var} is a float\")\n",
    "elif isinstance(var, str):\n",
    "    print(f\"{var} is a string\")\n",
    "else:\n",
    "    print(f\"{var} is of an unknown type\")"
   ]
  },
  {
   "cell_type": "markdown",
   "metadata": {},
   "source": [
    "## 3. Basic Operators (Arithmetic, Comparison, Logical)\n",
    "\n",
    "**Question 11:** Write a Python program to perform arithmetic operations: addition, subtraction, multiplication, and division."
   ]
  },
  {
   "cell_type": "code",
   "execution_count": 15,
   "metadata": {},
   "outputs": [
    {
     "name": "stdout",
     "output_type": "stream",
     "text": [
      "15\n",
      "5\n",
      "50\n",
      "2.0\n",
      "0\n"
     ]
    }
   ],
   "source": [
    "# Your code here\n",
    "a = 10\n",
    "b = 5\n",
    "print(a + b)  # Addition\n",
    "print(a - b)  # Subtraction\n",
    "print(a * b)  # Multiplication\n",
    "print(a / b)  # Division\n",
    "print(a % b)  # Modulus "
   ]
  },
  {
   "cell_type": "markdown",
   "metadata": {},
   "source": [
    "**Question 12:** Write a Python program to demonstrate comparison operators: equal to, not equal to, greater than, less than."
   ]
  },
  {
   "cell_type": "code",
   "execution_count": 16,
   "metadata": {},
   "outputs": [
    {
     "name": "stdout",
     "output_type": "stream",
     "text": [
      "True\n",
      "False\n",
      "False\n",
      "True\n",
      "True\n",
      "False\n"
     ]
    }
   ],
   "source": [
    "# Your code here\n",
    "a = 10\n",
    "b = 5\n",
    "print(a > b)  # This will print True if a is greater than b, otherwise False\n",
    "print(a < b)  # This will print True if a is less than b, otherwise False\n",
    "print(a == b)  # This will print True if a is equal to b, otherwise False\n",
    "print(a != b)  # This will print True if a is not equal to b, otherwise False\n",
    "print(a >= b)  # This will print True if a is greater than or equal to b, otherwise False\n",
    "print(a <= b)  # This will print True if a is less than or equal to b, otherwise False"
   ]
  },
  {
   "cell_type": "markdown",
   "metadata": {},
   "source": [
    "**Question 13:** Write a Python program to demonstrate logical operators: and, or, not."
   ]
  },
  {
   "cell_type": "code",
   "execution_count": 17,
   "metadata": {},
   "outputs": [
    {
     "name": "stdout",
     "output_type": "stream",
     "text": [
      "False\n",
      "True\n",
      "False\n"
     ]
    }
   ],
   "source": [
    "# Your code here\n",
    "boolean_var1 = True\n",
    "boolean_var2 = False\n",
    "print(boolean_var1 and boolean_var2)  # This will print True if both are True\n",
    "print(boolean_var1 or boolean_var2)   # This will print True if at least one is True\n",
    "print(not boolean_var1)                # This will print False"
   ]
  },
  {
   "cell_type": "markdown",
   "metadata": {},
   "source": [
    "**Question 14:** Write a Python program to calculate the square of a number."
   ]
  },
  {
   "cell_type": "code",
   "execution_count": 18,
   "metadata": {},
   "outputs": [
    {
     "name": "stdout",
     "output_type": "stream",
     "text": [
      "25\n"
     ]
    }
   ],
   "source": [
    "# Your code here\n",
    "number = 5\n",
    "result = number ** 2  # This will square the number\n",
    "print(result)  # This will print the squared value"
   ]
  },
  {
   "cell_type": "markdown",
   "metadata": {},
   "source": [
    "**Question 15:** Write a Python program to check if a number is even or odd."
   ]
  },
  {
   "cell_type": "code",
   "execution_count": 20,
   "metadata": {},
   "outputs": [
    {
     "name": "stdout",
     "output_type": "stream",
     "text": [
      "4 is even\n"
     ]
    }
   ],
   "source": [
    "# Your code here\n",
    "number = 4\n",
    "if number % 2 == 0:\n",
    "    print(f\"{number} is even\")  # This will print if the number is even\n",
    "else:\n",
    "    print(f\"{number} is odd\")"
   ]
  },
  {
   "cell_type": "markdown",
   "metadata": {},
   "source": [
    "**Question 16:** Write a Python program to find the sum of the first n natural numbers."
   ]
  },
  {
   "cell_type": "code",
   "execution_count": null,
   "metadata": {},
   "outputs": [
    {
     "name": "stdout",
     "output_type": "stream",
     "text": [
      "The sum of the first 10 natural numbers is: 55\n"
     ]
    }
   ],
   "source": [
    "# Your code here\n",
    "# Sum of n natural numbers\n",
    "# A natural number is a positive integer starting from 1 (i.e., 1, 2, 3, ...).\n",
    "n = 10  # Example value for n\n",
    "sum_n = n * (n + 1) // 2  # This will calculate the sum of the first n natural numbers\n",
    "print(f\"The sum of the first {n} natural numbers is: {sum_n}\")  # This will print the sum"
   ]
  },
  {
   "cell_type": "markdown",
   "metadata": {},
   "source": [
    "**Question 17:** Write a Python program to check if a year is a leap year."
   ]
  },
  {
   "cell_type": "code",
   "execution_count": 26,
   "metadata": {},
   "outputs": [
    {
     "name": "stdout",
     "output_type": "stream",
     "text": [
      "2024 is a leap year\n"
     ]
    }
   ],
   "source": [
    "# Your code here\n",
    "year = 2024\n",
    "if year % 4 == 0 and (year % 100 != 0 or year % 400 == 0):\n",
    "    print(f\"{year} is a leap year\")  # This will print if the year is a leap year\n",
    "else:\n",
    "    print(f\"{year} is not a leap year\")\n",
    "    "
   ]
  },
  {
   "cell_type": "markdown",
   "metadata": {},
   "source": [
    "**Question 18:** Write a Python program to reverse a string."
   ]
  },
  {
   "cell_type": "code",
   "execution_count": 30,
   "metadata": {},
   "outputs": [
    {
     "name": "stdout",
     "output_type": "stream",
     "text": [
      "The string is: Hello, World!\n",
      "The reversed string is: !dlroW ,olleH\n",
      "The length of the string is: 13\n"
     ]
    }
   ],
   "source": [
    "# Your code here\n",
    "\n",
    "string = \"Hello, World!\"  # This is an example of a string\n",
    "print(f\"The string is: {string}\")  # This will print the string\n",
    "reversed_string = string[::-1]  # This will reverse the string\n",
    "print(f\"The reversed string is: {reversed_string}\")  # This will print the reversed string\n",
    "length_of_string = len(string)  # This will get the length of the string\n",
    "print(f\"The length of the string is: {length_of_string}\")  "
   ]
  },
  {
   "cell_type": "markdown",
   "metadata": {},
   "source": [
    "**Question 19:** Write a Python program to check if a string is a palindrome."
   ]
  },
  {
   "cell_type": "code",
   "execution_count": 31,
   "metadata": {},
   "outputs": [
    {
     "name": "stdout",
     "output_type": "stream",
     "text": [
      "eye is a palindrome\n"
     ]
    }
   ],
   "source": [
    "# Your code here\n",
    "\n",
    "string = \"eye\"\n",
    "if string == string[::-1]:\n",
    "    print(f\"{string} is a palindrome\")  # This will print if the string is a palindrome\n",
    "else:\n",
    "    print(f\"{string} is not a palindrome\")"
   ]
  },
  {
   "cell_type": "markdown",
   "metadata": {},
   "source": [
    "**Question 20:** Write a Python program to sort a list of numbers in ascending order."
   ]
  },
  {
   "cell_type": "code",
   "execution_count": 32,
   "metadata": {},
   "outputs": [
    {
     "name": "stdout",
     "output_type": "stream",
     "text": [
      "The list is: [4, 55, 6, 7, 8, 9, 10]\n",
      "The sorted list is: [4, 6, 7, 8, 9, 10, 55]\n"
     ]
    }
   ],
   "source": [
    "# Your code here\n",
    "\n",
    "lst = [4,55,6,7,8,9,10]  # This is an example of a list\n",
    "print(f\"The list is: {lst}\")  # This will print the list\n",
    "sorted_lst = sorted(lst)  # This will sort the list\n",
    "print(f\"The sorted list is: {sorted_lst}\")  # This will print the sorted list"
   ]
  },
  {
   "cell_type": "code",
   "execution_count": null,
   "metadata": {},
   "outputs": [],
   "source": []
  }
 ],
 "metadata": {
  "kernelspec": {
   "display_name": "Python 3",
   "language": "python",
   "name": "python3"
  },
  "language_info": {
   "codemirror_mode": {
    "name": "ipython",
    "version": 3
   },
   "file_extension": ".py",
   "mimetype": "text/x-python",
   "name": "python",
   "nbconvert_exporter": "python",
   "pygments_lexer": "ipython3",
   "version": "3.12.11"
  }
 },
 "nbformat": 4,
 "nbformat_minor": 4
}
