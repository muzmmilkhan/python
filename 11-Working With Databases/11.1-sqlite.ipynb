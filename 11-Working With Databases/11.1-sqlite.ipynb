{
 "cells": [
  {
   "cell_type": "markdown",
   "id": "b97c4663",
   "metadata": {},
   "source": [
    "## SQL And SQLite\n",
    "**SQL (Structured Query Language)** is a standardized programming language designed for managing and manipulating relational databases. It allows users to create, read, update, and delete data stored in database tables.\n",
    "\n",
    "**SQLite** is a lightweight, serverless, self-contained SQL database engine that stores data in a single file. Unlike traditional database systems that require a separate server process, SQLite is embedded directly into applications, making it ideal for local storage, mobile apps, and small to medium-sized projects."
   ]
  },
  {
   "cell_type": "code",
   "execution_count": 1,
   "id": "d1c847b0",
   "metadata": {},
   "outputs": [],
   "source": [
    "import sqlite3"
   ]
  },
  {
   "cell_type": "code",
   "execution_count": 2,
   "id": "73d820ec",
   "metadata": {},
   "outputs": [],
   "source": [
    "# Create a connection to the SQLite database\n",
    "conn = sqlite3.connect('example.db')\n",
    "# Create a cursor object to execute SQL commands\n",
    "cursor = conn.cursor()\n",
    "# Create a table\n",
    "cursor.execute('''CREATE TABLE IF NOT EXISTS employees (\n",
    "                   id INTEGER PRIMARY KEY,\n",
    "                   name TEXT NOT NULL,\n",
    "                   age INTEGER,\n",
    "                   department TEXT\n",
    "                 )''')\n",
    "# Commit the changes\n",
    "conn.commit()"
   ]
  },
  {
   "cell_type": "code",
   "execution_count": 3,
   "id": "8f8c54c7",
   "metadata": {},
   "outputs": [
    {
     "data": {
      "text/plain": [
       "<sqlite3.Cursor at 0x107a22140>"
      ]
     },
     "execution_count": 3,
     "metadata": {},
     "output_type": "execute_result"
    }
   ],
   "source": [
    "# Insert data into the table\n",
    "cursor.execute(\"INSERT INTO employees (name, age, department) VALUES ('Muzmmil', 30, 'HR')\")\n",
    "cursor.execute(\"INSERT INTO employees (name, age, department) VALUES ('Najmin', 25, 'IT')\")\n",
    "cursor.execute(\"INSERT INTO employees (name, age, department) VALUES ('Jiya', 35, 'Finance')\")"
   ]
  },
  {
   "cell_type": "code",
   "execution_count": 4,
   "id": "d1e50b57",
   "metadata": {},
   "outputs": [],
   "source": [
    "conn.commit()  # Commit the changes"
   ]
  },
  {
   "cell_type": "code",
   "execution_count": 12,
   "id": "618e9456",
   "metadata": {},
   "outputs": [
    {
     "name": "stdout",
     "output_type": "stream",
     "text": [
      "(1, 'Muzmmil', 32, 'HR')\n",
      "(3, 'Jiya', 35, 'Finance')\n"
     ]
    }
   ],
   "source": [
    "cursor.execute(\"SELECT * FROM employees\")\n",
    "rows = cursor.fetchall()  # Fetch all rows from the executed query\n",
    "for row in rows:\n",
    "    print(row)"
   ]
  },
  {
   "cell_type": "code",
   "execution_count": 7,
   "id": "5a0f526b",
   "metadata": {},
   "outputs": [
    {
     "data": {
      "text/plain": [
       "[(1, 'Muzmmil', 30, 'HR'), (2, 'Najmin', 25, 'IT'), (3, 'Jiya', 35, 'Finance')]"
      ]
     },
     "execution_count": 7,
     "metadata": {},
     "output_type": "execute_result"
    }
   ],
   "source": [
    "rows"
   ]
  },
  {
   "cell_type": "code",
   "execution_count": 9,
   "id": "625a04e3",
   "metadata": {},
   "outputs": [],
   "source": [
    "# Update a record\n",
    "cursor.execute(\"UPDATE employees SET age = 32 WHERE name = 'Muzmmil'\")\n",
    "conn.commit()  # Commit the changes"
   ]
  },
  {
   "cell_type": "code",
   "execution_count": 11,
   "id": "74069d81",
   "metadata": {},
   "outputs": [],
   "source": [
    "# Delete a record\n",
    "cursor.execute(\"DELETE FROM employees WHERE name = 'Najmin'\")\n",
    "conn.commit()  # Commit the changes"
   ]
  },
  {
   "cell_type": "code",
   "execution_count": 13,
   "id": "3487814e",
   "metadata": {},
   "outputs": [],
   "source": [
    "# Working with sales data\n",
    "cursor.execute(\"CREATE TABLE IF NOT EXISTS sales (id INTEGER PRIMARY KEY, product_name TEXT, quantity INTEGER, price REAL)\")\n",
    "conn.commit()  # Commit the changes"
   ]
  },
  {
   "cell_type": "code",
   "execution_count": 14,
   "id": "4c185798",
   "metadata": {},
   "outputs": [],
   "source": [
    "sales_data = [\n",
    "    ('Laptop', 5, 1200.00),\n",
    "    ('Smartphone', 10, 800.00),\n",
    "    ('Tablet', 7, 600.00)\n",
    "]\n",
    "\n",
    "cursor.executemany(\"INSERT INTO sales (product_name, quantity, price) VALUES (?, ?, ?)\", sales_data)\n",
    "conn.commit()  # Commit the changes"
   ]
  },
  {
   "cell_type": "code",
   "execution_count": 15,
   "id": "04375996",
   "metadata": {},
   "outputs": [
    {
     "name": "stdout",
     "output_type": "stream",
     "text": [
      "(1, 'Laptop', 5, 1200.0)\n",
      "(2, 'Smartphone', 10, 800.0)\n",
      "(3, 'Tablet', 7, 600.0)\n"
     ]
    }
   ],
   "source": [
    "# Read data from the sales table\n",
    "cursor.execute(\"SELECT * FROM sales\")\n",
    "rows = cursor.fetchall()  # Fetch all rows from the executed query\n",
    "for row in rows:\n",
    "    print(row)"
   ]
  },
  {
   "cell_type": "code",
   "execution_count": 16,
   "id": "ae020f2d",
   "metadata": {},
   "outputs": [],
   "source": [
    "conn.close()  # Close the connection to the database"
   ]
  },
  {
   "cell_type": "code",
   "execution_count": null,
   "id": "4c4288ad",
   "metadata": {},
   "outputs": [],
   "source": []
  }
 ],
 "metadata": {
  "kernelspec": {
   "display_name": "Python 3",
   "language": "python",
   "name": "python3"
  },
  "language_info": {
   "codemirror_mode": {
    "name": "ipython",
    "version": 3
   },
   "file_extension": ".py",
   "mimetype": "text/x-python",
   "name": "python",
   "nbconvert_exporter": "python",
   "pygments_lexer": "ipython3",
   "version": "3.12.11"
  }
 },
 "nbformat": 4,
 "nbformat_minor": 5
}
