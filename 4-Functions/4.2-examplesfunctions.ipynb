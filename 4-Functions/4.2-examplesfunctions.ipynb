{
 "cells": [
  {
   "cell_type": "markdown",
   "id": "1f6a145d",
   "metadata": {},
   "source": [
    "### Function Example"
   ]
  },
  {
   "cell_type": "markdown",
   "id": "e634c29a",
   "metadata": {},
   "source": [
    "### Example 1: Temperature Conversion"
   ]
  },
  {
   "cell_type": "code",
   "execution_count": 2,
   "id": "b6d33a63",
   "metadata": {},
   "outputs": [
    {
     "name": "stdout",
     "output_type": "stream",
     "text": [
      "25°C is equal to 77.0°F\n",
      "77°F is equal to 25.0°C\n"
     ]
    }
   ],
   "source": [
    "def convert_temperature(temp,unit):\n",
    "    \"\"\"Convert temperature between Celsius and Fahrenheit.\"\"\"\n",
    "    if unit == 'C':\n",
    "        return (temp * 9/5) + 32  # Convert Celsius to Fahrenheit\n",
    "    elif unit == 'F':\n",
    "        return (temp - 32) * 5/9  # Convert Fahrenheit to Celsius\n",
    "    else:\n",
    "        raise ValueError(\"Unit must be 'C' or 'F'\")\n",
    "\n",
    "# Example usage\n",
    "temp_celsius = 25\n",
    "temp_fahrenheit = convert_temperature(temp_celsius, 'C')\n",
    "print(f\"{temp_celsius}°C is equal to {temp_fahrenheit}°F\")\n",
    "\n",
    "temp_fahrenheit = 77\n",
    "temp_celsius = convert_temperature(temp_fahrenheit, 'F')\n",
    "print(f\"{temp_fahrenheit}°F is equal to {temp_celsius}°C\")"
   ]
  },
  {
   "cell_type": "markdown",
   "id": "41b1c9a5",
   "metadata": {},
   "source": [
    "## "
   ]
  },
  {
   "cell_type": "markdown",
   "id": "e0d2a477",
   "metadata": {},
   "source": [
    "### Exmple 2: Password Strength Checker"
   ]
  },
  {
   "cell_type": "code",
   "execution_count": 10,
   "id": "f4e0b9f0",
   "metadata": {},
   "outputs": [
    {
     "name": "stdout",
     "output_type": "stream",
     "text": [
      "Is the password strong? True\n",
      "Is the password 'weakpass' strong? False\n"
     ]
    }
   ],
   "source": [
    "def is_strong_password(password):\n",
    "    \"\"\"Check if a password is strong based on length and character variety.\"\"\"\n",
    "    if len(password) < 8:\n",
    "        return False\n",
    "    if not any(char.isdigit() for char in password):\n",
    "        return False\n",
    "    if not any(char.isupper() for char in password):\n",
    "        return False\n",
    "    if not any(char.islower() for char in password):\n",
    "        return False\n",
    "    if not any(char in \"!@#$%^&*()-+\" for char in password):\n",
    "        return False\n",
    "    return True\n",
    "\n",
    "is_strong = is_strong_password(\"StrongP@ssword123\")\n",
    "print(f\"Is the password strong? {is_strong}\")\n",
    "weak_password = \"weakpass\"\n",
    "is_strong = is_strong_password(weak_password)\n",
    "print(f\"Is the password '{weak_password}' strong? {is_strong}\")"
   ]
  },
  {
   "cell_type": "markdown",
   "id": "e258776a",
   "metadata": {},
   "source": [
    "### Example 3: calculate the total cost of items in a shopping cart"
   ]
  },
  {
   "cell_type": "code",
   "execution_count": 11,
   "id": "a790f4ca",
   "metadata": {},
   "outputs": [
    {
     "name": "stdout",
     "output_type": "stream",
     "text": [
      "Total cost of items in the shopping cart: $6.20\n"
     ]
    }
   ],
   "source": [
    "def calculate_total_cost(cart_items):\n",
    "    \"\"\"Calculate the total cost of items in a shopping cart.\"\"\"\n",
    "    total_cost = 0\n",
    "    for item in cart_items:\n",
    "        total_cost += item['price'] * item['quantity']\n",
    "    return total_cost\n",
    "\n",
    "# Example usage\n",
    "shopping_cart = [\n",
    "    {'name': 'Apple', 'price': 0.5, 'quantity': 4},\n",
    "    {'name': 'Banana', 'price': 0.3, 'quantity': 6},\n",
    "    {'name': 'Orange', 'price': 0.8, 'quantity': 3}\n",
    "]\n",
    "total = calculate_total_cost(shopping_cart)\n",
    "print(f\"Total cost of items in the shopping cart: ${total:.2f}\")"
   ]
  },
  {
   "cell_type": "markdown",
   "id": "129c1a0c",
   "metadata": {},
   "source": [
    "### Example 4: Check String is Paliandrome"
   ]
  },
  {
   "cell_type": "code",
   "execution_count": 12,
   "id": "7fcbad23",
   "metadata": {},
   "outputs": [
    {
     "name": "stdout",
     "output_type": "stream",
     "text": [
      "Is the string a palindrome? True\n"
     ]
    }
   ],
   "source": [
    "def is_palindrome(s):\n",
    "    \"\"\"Check if a string is a palindrome.\"\"\"\n",
    "    s = s.lower().replace(\" \", \"\")  # Normalize the string\n",
    "    return s == s[::-1]  # Check if the string is equal to its reverse\n",
    "\n",
    "# Example usage\n",
    "palindrome_check = is_palindrome(\"A man a plan a canal Panama\")\n",
    "print(f\"Is the string a palindrome? {palindrome_check}\")\n"
   ]
  },
  {
   "cell_type": "markdown",
   "id": "72469b65",
   "metadata": {},
   "source": [
    "### Example 5:Calcullate the facorials of number using recursion"
   ]
  },
  {
   "cell_type": "code",
   "execution_count": 13,
   "id": "1655cb08",
   "metadata": {},
   "outputs": [
    {
     "name": "stdout",
     "output_type": "stream",
     "text": [
      "The factorial of 5 is 120\n"
     ]
    }
   ],
   "source": [
    "def factorial(n):\n",
    "    \"\"\"Calculate the factorial of a number using recursion.\"\"\"\n",
    "    if n == 0 or n == 1:\n",
    "        return 1\n",
    "    else:\n",
    "        return n * factorial(n - 1)\n",
    "\n",
    "# Example usage\n",
    "number = 5\n",
    "fact = factorial(number)\n",
    "print(f\"The factorial of {number} is {fact}\")"
   ]
  },
  {
   "cell_type": "markdown",
   "id": "411aecf9",
   "metadata": {},
   "source": [
    "### Example 6: A Function To Read A File and count the frequency of each word"
   ]
  },
  {
   "cell_type": "code",
   "execution_count": 15,
   "id": "930f98a8",
   "metadata": {},
   "outputs": [
    {
     "name": "stdout",
     "output_type": "stream",
     "text": [
      "Word frequency: {'this': 2, 'is': 2, 'a': 2, 'sample': 2, 'string': 2, 'to': 1, 'find': 1, 'the': 1, 'number': 1, 'of': 3, 'occurance': 1, 'each': 1, 'words': 1, 'repeat': 1}\n"
     ]
    }
   ],
   "source": [
    "def count_word_frequency(file_path):\n",
    "    \"\"\"Read a file and count the frequency of each word.\"\"\"\n",
    "    word_count = {}\n",
    "    with open(file_path, 'r') as file:\n",
    "        for line in file:\n",
    "            words = line.split()\n",
    "            for word in words:\n",
    "                word = word.lower().strip('.,!?\";:()[]{}')  # Normalize the word\n",
    "                if word in word_count:\n",
    "                    word_count[word] += 1\n",
    "                else:\n",
    "                    word_count[word] = 1\n",
    "    return word_count\n",
    "\n",
    "# Example usage\n",
    "# Assuming 'example.txt' is a text file in the same directory\n",
    "word_freq = count_word_frequency('example.txt')\n",
    "print(\"Word frequency:\", word_freq)\n"
   ]
  },
  {
   "cell_type": "markdown",
   "id": "e35dfb92",
   "metadata": {},
   "source": [
    "### Example 7: Validate Email Address"
   ]
  },
  {
   "cell_type": "code",
   "execution_count": 16,
   "id": "d46886be",
   "metadata": {},
   "outputs": [
    {
     "name": "stdout",
     "output_type": "stream",
     "text": [
      "Is the email 'test@example.com' valid? True\n"
     ]
    }
   ],
   "source": [
    "def validate_email(email):\n",
    "    \"\"\"Validate an email address using a simple regex pattern.\"\"\"\n",
    "    email_pattern = r'^[a-zA-Z0-9._%+-]+@[a-zA-Z0-9.-]+\\.[a-zA-Z]{2,}$'\n",
    "    import re\n",
    "    if re.match(email_pattern, email):\n",
    "        return True\n",
    "    else:\n",
    "        return False\n",
    "\n",
    "# Example usage\n",
    "email = \"test@example.com\"\n",
    "is_valid = validate_email(email)\n",
    "print(f\"Is the email '{email}' valid? {is_valid}\")\n"
   ]
  },
  {
   "cell_type": "code",
   "execution_count": null,
   "id": "19f94953",
   "metadata": {},
   "outputs": [],
   "source": []
  }
 ],
 "metadata": {
  "kernelspec": {
   "display_name": "Python 3",
   "language": "python",
   "name": "python3"
  },
  "language_info": {
   "codemirror_mode": {
    "name": "ipython",
    "version": 3
   },
   "file_extension": ".py",
   "mimetype": "text/x-python",
   "name": "python",
   "nbconvert_exporter": "python",
   "pygments_lexer": "ipython3",
   "version": "3.12.11"
  }
 },
 "nbformat": 4,
 "nbformat_minor": 5
}
