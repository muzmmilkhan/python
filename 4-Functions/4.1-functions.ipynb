{
 "cells": [
  {
   "cell_type": "markdown",
   "id": "1828f552",
   "metadata": {},
   "source": [
    "## Functions\n",
    "Functions are reusable blocks of code that perform specific tasks. They help organize code, reduce repetition, and make programs more modular and maintainable."
   ]
  },
  {
   "cell_type": "code",
   "execution_count": 1,
   "id": "0741fd2c",
   "metadata": {},
   "outputs": [],
   "source": [
    "def function_name(parameters):\n",
    "    \"\"\"DocString: Brief description of the function.\"\"\"\n",
    "    # Function body: code to execute when the function is called\n",
    "    result = \"Function executed successfully\"\n",
    "    return result"
   ]
  },
  {
   "cell_type": "code",
   "execution_count": null,
   "id": "e1f1774d",
   "metadata": {},
   "outputs": [],
   "source": [
    "## Why Use Functions?\n",
    "# Functions help in organizing code, making it reusable, and improving readability. \n",
    "# They allow you to break down complex problems into smaller, manageable pieces. \n",
    "# By using functions, you can avoid code duplication and make your codebase easier to maintain."
   ]
  },
  {
   "cell_type": "code",
   "execution_count": 3,
   "id": "d5b8608f",
   "metadata": {},
   "outputs": [
    {
     "name": "stdout",
     "output_type": "stream",
     "text": [
      "24 is even\n"
     ]
    }
   ],
   "source": [
    "num = 24\n",
    "if num % 2 == 0:\n",
    "    print(f\"{num} is even\")\n",
    "else:\n",
    "    print(f\"{num} is odd\")"
   ]
  },
  {
   "cell_type": "code",
   "execution_count": 4,
   "id": "1c245681",
   "metadata": {},
   "outputs": [],
   "source": [
    "def even_odd(num):\n",
    "    \"\"\"Check if a number is even or odd.\"\"\"\n",
    "    if num % 2 == 0:\n",
    "        return f\"{num} is even\"\n",
    "    else:\n",
    "        return f\"{num} is odd\""
   ]
  },
  {
   "cell_type": "code",
   "execution_count": 5,
   "id": "e19fb44a",
   "metadata": {},
   "outputs": [
    {
     "name": "stdout",
     "output_type": "stream",
     "text": [
      "24 is even\n"
     ]
    }
   ],
   "source": [
    "even_odd_result = even_odd(24)\n",
    "print(even_odd_result)  # Output: \"24 is even\""
   ]
  },
  {
   "cell_type": "code",
   "execution_count": 7,
   "id": "3d8d9ecc",
   "metadata": {},
   "outputs": [
    {
     "name": "stdout",
     "output_type": "stream",
     "text": [
      "Hello, Muzmmil!\n"
     ]
    }
   ],
   "source": [
    "## calling a function\n",
    "def greet(name):\n",
    "    \"\"\"Greet the user with their name.\"\"\"\n",
    "    return f\"Hello, {name}!\"\n",
    "\n",
    "greeting = greet(\"Muzmmil\")\n",
    "print(greeting)  # Output: \"Hello, Alice!\""
   ]
  },
  {
   "cell_type": "code",
   "execution_count": 8,
   "id": "8c9d625f",
   "metadata": {},
   "outputs": [
    {
     "name": "stdout",
     "output_type": "stream",
     "text": [
      "15\n"
     ]
    }
   ],
   "source": [
    "## function with multiple parameters\n",
    "def add_numbers(a, b):\n",
    "    \"\"\"Add two numbers.\"\"\"\n",
    "    return a + b\n",
    "\n",
    "sum_result = add_numbers(5, 10)\n",
    "print(sum_result)  # Output: 15\n"
   ]
  },
  {
   "cell_type": "code",
   "execution_count": 9,
   "id": "7c5b3eb3",
   "metadata": {},
   "outputs": [
    {
     "name": "stdout",
     "output_type": "stream",
     "text": [
      "Hello, Guest!\n"
     ]
    }
   ],
   "source": [
    "## Default Parameters\n",
    "def greet(name=\"Guest\"):\n",
    "    \"\"\"Greet the user with their name, defaulting to 'Guest'.\"\"\"\n",
    "    return f\"Hello, {name}!\"\n",
    "\n",
    "greeting_default = greet()\n",
    "print(greeting_default)  # Output: \"Hello, Guest!\""
   ]
  },
  {
   "cell_type": "code",
   "execution_count": null,
   "id": "4624cf9b",
   "metadata": {},
   "outputs": [
    {
     "name": "stdout",
     "output_type": "stream",
     "text": [
      "Hello, Muzmmil!\n"
     ]
    }
   ],
   "source": [
    "greeting_custom = greet(\"Muzmmil\")\n",
    "print(greeting_custom)  # Output: \"Hello, Muzmmil!\""
   ]
  },
  {
   "cell_type": "code",
   "execution_count": 12,
   "id": "fa22efc3",
   "metadata": {},
   "outputs": [
    {
     "name": "stdout",
     "output_type": "stream",
     "text": [
      "Received arguments: (1, 2, 3, 4, 5)\n",
      "[1, 2, 3, 4, 5]\n"
     ]
    }
   ],
   "source": [
    "## Variable length arguments\n",
    "def variable_length_args(*args):\n",
    "    \"\"\"Accept any number of arguments and return them as a list.\"\"\"\n",
    "    print(f\"Received arguments: {args}\")\n",
    "    return list(args)\n",
    "\n",
    "variable_args_result = variable_length_args(1, 2, 3, 4, 5)\n",
    "print(variable_args_result)  # Output: [1, 2, 3, 4, 5]"
   ]
  },
  {
   "cell_type": "code",
   "execution_count": 15,
   "id": "0c41acbd",
   "metadata": {},
   "outputs": [
    {
     "name": "stdout",
     "output_type": "stream",
     "text": [
      "Received keyword arguments: {'name': 'Muzmmil', 'age': 30, 'country': 'India'}\n",
      "{'name': 'Muzmmil', 'age': 30, 'country': 'India'}\n"
     ]
    }
   ],
   "source": [
    "## Keyword arguments\n",
    "def keyword_args_function(**kwargs):\n",
    "    \"\"\"Accept keyword arguments and return them as a dictionary.\"\"\"\n",
    "    print(f\"Received keyword arguments: {kwargs}\")\n",
    "    return kwargs\n",
    "\n",
    "keyword_args_result = keyword_args_function(name=\"Muzmmil\", age=30, country=\"India\")\n",
    "print(keyword_args_result)  # Output: {'name': 'Muzmmil', 'age': 30, 'country': 'India'}"
   ]
  },
  {
   "cell_type": "code",
   "execution_count": 17,
   "id": "34b32822",
   "metadata": {},
   "outputs": [
    {
     "name": "stdout",
     "output_type": "stream",
     "text": [
      "Received positional arguments: (1, 2, 3)\n",
      "Received keyword arguments: {'name': 'Muzmmil', 'age': 30}\n",
      "((1, 2, 3), {'name': 'Muzmmil', 'age': 30})\n"
     ]
    }
   ],
   "source": [
    "# variable len args and keyword args can be used together\n",
    "def mixed_args_function(*args, **kwargs):\n",
    "    \"\"\"Accept variable length arguments and keyword arguments.\"\"\"\n",
    "    print(f\"Received positional arguments: {args}\")\n",
    "    print(f\"Received keyword arguments: {kwargs}\")\n",
    "    return args, kwargs\n",
    "\n",
    "mixed_result = mixed_args_function(1, 2, 3, name=\"Muzmmil\", age=30)\n",
    "print(mixed_result)  # Output: ((1, 2, 3), {'name': 'Muzmmil', 'age': 30})"
   ]
  },
  {
   "cell_type": "code",
   "execution_count": 18,
   "id": "c257dd03",
   "metadata": {},
   "outputs": [
    {
     "name": "stdout",
     "output_type": "stream",
     "text": [
      "1 2 3\n"
     ]
    }
   ],
   "source": [
    "## Returning multiple values\n",
    "def return_multiple_values():\n",
    "    \"\"\"Return multiple values from a function.\"\"\"\n",
    "    return 1, 2, 3\n",
    "\n",
    "# Unpacking multiple return values\n",
    "a, b, c = return_multiple_values()\n",
    "print(a, b, c)  # Output: 1 2 3"
   ]
  },
  {
   "cell_type": "code",
   "execution_count": null,
   "id": "23d29b6b",
   "metadata": {},
   "outputs": [],
   "source": []
  }
 ],
 "metadata": {
  "kernelspec": {
   "display_name": "Python 3",
   "language": "python",
   "name": "python3"
  },
  "language_info": {
   "codemirror_mode": {
    "name": "ipython",
    "version": 3
   },
   "file_extension": ".py",
   "mimetype": "text/x-python",
   "name": "python",
   "nbconvert_exporter": "python",
   "pygments_lexer": "ipython3",
   "version": "3.12.11"
  }
 },
 "nbformat": 4,
 "nbformat_minor": 5
}
