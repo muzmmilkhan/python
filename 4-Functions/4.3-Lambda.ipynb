{
 "cells": [
  {
   "cell_type": "markdown",
   "id": "845ff100",
   "metadata": {},
   "source": [
    "### Lambda Function In Python\n",
    "\n",
    "**Definition:** A lambda function is an anonymous function that can have any number of arguments but can only have one expression. It's defined using the `lambda` keyword.\n",
    "\n",
    "**Syntax:** `lambda arguments: expression`\n",
    "\n",
    "**Example:**\n",
    "- `lambda x: x * 2` - multiplies input by 2\n",
    "- `lambda x, y: x + y` - adds two numbers"
   ]
  },
  {
   "cell_type": "code",
   "execution_count": 1,
   "id": "7b7316d6",
   "metadata": {},
   "outputs": [],
   "source": [
    "# syntax for lambda functions\n",
    "\n",
    "lambda_function = lambda x: x * 2"
   ]
  },
  {
   "cell_type": "code",
   "execution_count": 2,
   "id": "5cf5a9f2",
   "metadata": {},
   "outputs": [],
   "source": [
    "lambda_add = lambda x, y: x + y\n",
    "lambda_square = lambda x: x ** 2\n",
    "lambda_concat = lambda a, b: a + b\n",
    "lambda_max = lambda x, y: x if x > y else y\n",
    "lambda_min = lambda x, y: x if x < y else y\n",
    "lambda_is_even = lambda x: x % 2 == 0\n"
   ]
  },
  {
   "cell_type": "code",
   "execution_count": 4,
   "id": "fa5b5ade",
   "metadata": {},
   "outputs": [
    {
     "name": "stdout",
     "output_type": "stream",
     "text": [
      "10\n",
      "8\n",
      "16\n",
      "Hello, World!\n",
      "20\n",
      "10\n",
      "True\n"
     ]
    }
   ],
   "source": [
    "# Example usage of the lambda functions\n",
    "print(lambda_function(5))  # Example usage of lambda_function\n",
    "print(lambda_add(3, 5))  # Output: 8\n",
    "print(lambda_square(4))  # Output: 16\n",
    "print(lambda_concat(\"Hello, \", \"World!\"))  # Output: Hello, World!\n",
    "print(lambda_max(10, 20))  # Output: 20\n",
    "print(lambda_min(10, 20))  # Output: 10\n",
    "print(lambda_is_even(4))  # Output: True"
   ]
  },
  {
   "cell_type": "code",
   "execution_count": 5,
   "id": "c7c50024",
   "metadata": {},
   "outputs": [
    {
     "name": "stdout",
     "output_type": "stream",
     "text": [
      "6\n"
     ]
    }
   ],
   "source": [
    "addition = lambda x, y, z: x + y + z\n",
    "print(addition(1, 2, 3))  # Output: 6"
   ]
  },
  {
   "cell_type": "code",
   "execution_count": 7,
   "id": "92cf1014",
   "metadata": {},
   "outputs": [
    {
     "name": "stdout",
     "output_type": "stream",
     "text": [
      "[1, 4, 9, 16, 25]\n"
     ]
    }
   ],
   "source": [
    "## map - applies a function to all items in an input list\n",
    "numbers = [1, 2, 3, 4, 5]\n",
    "squared_numbers = list(map(lambda x: x ** 2, numbers))\n",
    "print(squared_numbers)  # Output: [1, 4, 9, 16, 25]"
   ]
  },
  {
   "cell_type": "code",
   "execution_count": null,
   "id": "4b79d448",
   "metadata": {},
   "outputs": [],
   "source": []
  }
 ],
 "metadata": {
  "kernelspec": {
   "display_name": "Python 3",
   "language": "python",
   "name": "python3"
  },
  "language_info": {
   "codemirror_mode": {
    "name": "ipython",
    "version": 3
   },
   "file_extension": ".py",
   "mimetype": "text/x-python",
   "name": "python",
   "nbconvert_exporter": "python",
   "pygments_lexer": "ipython3",
   "version": "3.12.11"
  }
 },
 "nbformat": 4,
 "nbformat_minor": 5
}
