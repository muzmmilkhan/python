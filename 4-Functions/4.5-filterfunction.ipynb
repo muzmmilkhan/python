{
 "cells": [
  {
   "cell_type": "markdown",
   "id": "4ed8a8fc",
   "metadata": {},
   "source": [
    "### The filter Function in Python\n",
    "The `filter()` function is a built-in Python function that creates an iterator from elements of an iterable for which a function returns `True`. It takes two arguments: a function (or `None`) and an iterable, and returns a filter object containing only the elements that pass the test implemented by the function.\n",
    "\n",
    "**Syntax:** `filter(function, iterable)`\n",
    "\n",
    "- **function**: A function that tests each element (returns `True` or `False`)\n",
    "- **iterable**: The sequence to be filtered (list, tuple, string, etc.)\n",
    "\n",
    "The `filter()` function provides a concise way to filter data without writing explicit loops."
   ]
  },
  {
   "cell_type": "code",
   "execution_count": 1,
   "id": "df71fc61",
   "metadata": {},
   "outputs": [
    {
     "name": "stdout",
     "output_type": "stream",
     "text": [
      "[2, 4, 6]\n"
     ]
    }
   ],
   "source": [
    "def even_numbers(n):\n",
    "    return n % 2 == 0\n",
    "\n",
    "numbers = [1, 2, 3, 4, 5, 6]\n",
    "even_nums = list(filter(even_numbers, numbers))\n",
    "print(even_nums)  # Output: [2, 4, 6]"
   ]
  },
  {
   "cell_type": "code",
   "execution_count": 2,
   "id": "13a50f61",
   "metadata": {},
   "outputs": [
    {
     "name": "stdout",
     "output_type": "stream",
     "text": [
      "[2, 4, 6]\n"
     ]
    }
   ],
   "source": [
    "## filter with lambda function\n",
    "even_nums_lambda = list(filter(lambda n: n % 2 == 0, numbers))\n",
    "print(even_nums_lambda)  # Output: [2, 4, 6]"
   ]
  },
  {
   "cell_type": "code",
   "execution_count": 4,
   "id": "2745d867",
   "metadata": {},
   "outputs": [
    {
     "name": "stdout",
     "output_type": "stream",
     "text": [
      "[6]\n"
     ]
    }
   ],
   "source": [
    "greater_than_five = list(filter(lambda n: n > 5, numbers))\n",
    "print(greater_than_five)  # Output: [6]"
   ]
  },
  {
   "cell_type": "code",
   "execution_count": 6,
   "id": "4e961b43",
   "metadata": {},
   "outputs": [
    {
     "name": "stdout",
     "output_type": "stream",
     "text": [
      "[6, 8, 10]\n"
     ]
    }
   ],
   "source": [
    "# filter with lambda function and multiple conditions\n",
    "numbers = [1, 2, 3, 4, 5, 6, 7, 8, 9, 10]\n",
    "greater_than_five_and_even = list(filter(lambda n: n > 5 and n % 2 == 0, numbers))\n",
    "print(greater_than_five_and_even)  # Output: [6]"
   ]
  },
  {
   "cell_type": "code",
   "execution_count": 7,
   "id": "e6582286",
   "metadata": {},
   "outputs": [
    {
     "name": "stdout",
     "output_type": "stream",
     "text": [
      "[{'name': 'Muzmmil', 'age': 35}]\n",
      "<class 'list'>\n"
     ]
    }
   ],
   "source": [
    "# apply filter to check if the age is greater than 30 in dictionary\n",
    "people = [\n",
    "    {\"name\": \"Jiya\", \"age\": 30},\n",
    "    {\"name\": \"Najmin\", \"age\": 25},\n",
    "    {\"name\": \"Muzmmil\", \"age\": 35}\n",
    "]\n",
    "older_people = list(filter(lambda person: person[\"age\"] > 30, people))\n",
    "print(older_people)  # Output: [{'name': 'Muzmmil', 'age': 35}]\n",
    "print(type(older_people))  # Output: <class 'list'>"
   ]
  },
  {
   "cell_type": "code",
   "execution_count": 8,
   "id": "54273da1",
   "metadata": {},
   "outputs": [],
   "source": [
    "# Conclusion\n",
    "# The filter function is a powerful tool for filtering elements from an iterable based on a condition.\n",
    "# It can be used with both regular functions and lambda functions, and it can handle multiple conditions.\n",
    "# The result is always a filter object, which can be converted to a list or other iterable types.\n",
    "# This makes it a versatile and efficient way to process collections of data in Python. "
   ]
  },
  {
   "cell_type": "code",
   "execution_count": null,
   "id": "85110ac6",
   "metadata": {},
   "outputs": [],
   "source": []
  }
 ],
 "metadata": {
  "kernelspec": {
   "display_name": "Python 3",
   "language": "python",
   "name": "python3"
  },
  "language_info": {
   "codemirror_mode": {
    "name": "ipython",
    "version": 3
   },
   "file_extension": ".py",
   "mimetype": "text/x-python",
   "name": "python",
   "nbconvert_exporter": "python",
   "pygments_lexer": "ipython3",
   "version": "3.12.11"
  }
 },
 "nbformat": 4,
 "nbformat_minor": 5
}
