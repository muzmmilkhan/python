{
 "cells": [
  {
   "cell_type": "markdown",
   "id": "2a8c8358",
   "metadata": {},
   "source": [
    "### The map() function In Python\n",
    "The `map()` function is a built-in Python function that applies a given function to each item in an iterable (like a list, tuple, or string) and returns a map object (which is an iterator) containing the results. It provides a functional programming approach to transform data without using explicit loops.\n",
    "\n",
    "**Syntax:** `map(function, iterable)`\n",
    "\n",
    "- **function**: The function to apply to each element\n",
    "- **iterable**: The sequence of elements to process\n",
    "\n",
    "The `map()` function is particularly useful for applying the same operation to multiple elements efficiently and can make your code more concise and readable."
   ]
  },
  {
   "cell_type": "code",
   "execution_count": 1,
   "id": "83f9fd8a",
   "metadata": {},
   "outputs": [
    {
     "data": {
      "text/plain": [
       "100"
      ]
     },
     "execution_count": 1,
     "metadata": {},
     "output_type": "execute_result"
    }
   ],
   "source": [
    "def square(x):\n",
    "    return x ** 2\n",
    "\n",
    "square(10)"
   ]
  },
  {
   "cell_type": "code",
   "execution_count": 3,
   "id": "dd12686b",
   "metadata": {},
   "outputs": [
    {
     "name": "stdout",
     "output_type": "stream",
     "text": [
      "[1, 4, 9, 16, 25]\n"
     ]
    }
   ],
   "source": [
    "numbers = [1, 2, 3, 4, 5]\n",
    "squared_numbers = list(map(square, numbers))\n",
    "print(squared_numbers)  # Output: [1, 4, 9, 16, 25]"
   ]
  },
  {
   "cell_type": "code",
   "execution_count": 4,
   "id": "1421c8ca",
   "metadata": {},
   "outputs": [
    {
     "name": "stdout",
     "output_type": "stream",
     "text": [
      "[1, 4, 9, 16, 25]\n"
     ]
    }
   ],
   "source": [
    "## lambda functions with map\n",
    "lambda_square = lambda x: x ** 2\n",
    "squared_numbers_lambda = list(map(lambda_square, numbers))\n",
    "print(squared_numbers_lambda)  # Output: [1, 4, 9, 16, 25]"
   ]
  },
  {
   "cell_type": "code",
   "execution_count": 5,
   "id": "68f4861b",
   "metadata": {},
   "outputs": [
    {
     "name": "stdout",
     "output_type": "stream",
     "text": [
      "[5, 7, 9]\n"
     ]
    }
   ],
   "source": [
    "### map Multiple iterables\n",
    "\n",
    "numbers1 = [1, 2, 3]\n",
    "numbers2 = [4, 5, 6]\n",
    "summed_numbers = list(map(lambda x, y: x + y, numbers1, numbers2))\n",
    "print(summed_numbers)  # Output: [5, 7, 9]  "
   ]
  },
  {
   "cell_type": "code",
   "execution_count": 6,
   "id": "2cf3a5ff",
   "metadata": {},
   "outputs": [
    {
     "name": "stdout",
     "output_type": "stream",
     "text": [
      "[1, 2, 3]\n"
     ]
    }
   ],
   "source": [
    "### map to convert to string to integer\n",
    "string_numbers = [\"1\", \"2\", \"3\"]\n",
    "int_numbers = list(map(int, string_numbers))\n",
    "print(int_numbers)  # Output: [1, 2, 3]"
   ]
  },
  {
   "cell_type": "code",
   "execution_count": 7,
   "id": "9ebc9962",
   "metadata": {},
   "outputs": [
    {
     "name": "stdout",
     "output_type": "stream",
     "text": [
      "['APPLE', 'BANANA', 'CHERRY']\n"
     ]
    }
   ],
   "source": [
    "words = [\"Apple\", \"Banana\", \"Cherry\"]\n",
    "capitalized_words = list(map(str.upper, words))\n",
    "print(capitalized_words)  # Output: ['APPLE', 'BANANA', 'CHERRY']"
   ]
  },
  {
   "cell_type": "code",
   "execution_count": 8,
   "id": "e61ce6de",
   "metadata": {},
   "outputs": [],
   "source": [
    "def get_name(person):\n",
    "    return person[\"name\"]\n",
    "\n",
    "people = [\n",
    "    {\"name\": \"Jiya\", \"age\": 30},\n",
    "    {\"name\": \"Najmin\", \"age\": 25},\n",
    "    {\"name\": \"Muzmmil\", \"age\": 35}\n",
    "]\n",
    "names = list(map(get_name, people))"
   ]
  },
  {
   "cell_type": "code",
   "execution_count": 9,
   "id": "190323b4",
   "metadata": {},
   "outputs": [
    {
     "name": "stdout",
     "output_type": "stream",
     "text": [
      "['Jiya', 'Najmin', 'Muzmmil']\n",
      "<class 'list'>\n"
     ]
    }
   ],
   "source": [
    "print(names)  # Output: ['Jiya', 'Najmin', 'Muzmmil']\n",
    "print(type(names))  # Output: <class 'list'>"
   ]
  },
  {
   "cell_type": "code",
   "execution_count": 10,
   "id": "29565629",
   "metadata": {},
   "outputs": [],
   "source": [
    "#conclusion\n",
    "# The map function is a powerful tool for applying a function to each item in an iterable.\n",
    "# It can be used with both regular functions and lambda functions, and it can handle multiple iterables.\n",
    "# The result is always a map object, which can be converted to a list or other iterable types.\n",
    "# This makes it a versatile and efficient way to process collections of data in Python."
   ]
  },
  {
   "cell_type": "code",
   "execution_count": null,
   "id": "cb0b45ca",
   "metadata": {},
   "outputs": [],
   "source": []
  }
 ],
 "metadata": {
  "kernelspec": {
   "display_name": "Python 3",
   "language": "python",
   "name": "python3"
  },
  "language_info": {
   "codemirror_mode": {
    "name": "ipython",
    "version": 3
   },
   "file_extension": ".py",
   "mimetype": "text/x-python",
   "name": "python",
   "nbconvert_exporter": "python",
   "pygments_lexer": "ipython3",
   "version": "3.12.11"
  }
 },
 "nbformat": 4,
 "nbformat_minor": 5
}
