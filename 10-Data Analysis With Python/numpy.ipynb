{
 "cells": [
  {
   "cell_type": "markdown",
   "id": "fd0c3261",
   "metadata": {},
   "source": [
    "### Numpy\n",
    "**Numpy** is a fundamental library for scientific computing in Python. It provides support for large, multi-dimensional arrays and matrices, along with a collection of mathematical functions to operate on these arrays efficiently."
   ]
  },
  {
   "cell_type": "code",
   "execution_count": 1,
   "id": "972008cd",
   "metadata": {},
   "outputs": [],
   "source": [
    "import numpy as np"
   ]
  },
  {
   "cell_type": "code",
   "execution_count": 2,
   "id": "a25b704b",
   "metadata": {},
   "outputs": [
    {
     "name": "stdout",
     "output_type": "stream",
     "text": [
      "1D Array: [1 2 3 4 5]\n"
     ]
    }
   ],
   "source": [
    "## Creating Arrays\n",
    "# Creating a 1D array\n",
    "array_1d = np.array([1, 2, 3, 4, 5])\n",
    "print(\"1D Array:\", array_1d)"
   ]
  },
  {
   "cell_type": "code",
   "execution_count": 3,
   "id": "a2576acc",
   "metadata": {},
   "outputs": [
    {
     "name": "stdout",
     "output_type": "stream",
     "text": [
      "<class 'numpy.ndarray'>\n"
     ]
    }
   ],
   "source": [
    "print(type(array_1d))"
   ]
  },
  {
   "cell_type": "code",
   "execution_count": 4,
   "id": "8c814cce",
   "metadata": {},
   "outputs": [
    {
     "data": {
      "text/plain": [
       "(5,)"
      ]
     },
     "execution_count": 4,
     "metadata": {},
     "output_type": "execute_result"
    }
   ],
   "source": [
    "array_1d.shape  # Output: (5,)"
   ]
  },
  {
   "cell_type": "code",
   "execution_count": 5,
   "id": "53e17cf3",
   "metadata": {},
   "outputs": [
    {
     "name": "stdout",
     "output_type": "stream",
     "text": [
      "2D Array:\n",
      "[[1 2 3]\n",
      " [4 5 6]]\n"
     ]
    }
   ],
   "source": [
    "array_2d = np.array([[1, 2, 3], [4, 5, 6]])\n",
    "print(\"2D Array:\")\n",
    "print(array_2d)"
   ]
  },
  {
   "cell_type": "code",
   "execution_count": 6,
   "id": "0c7ebb2d",
   "metadata": {},
   "outputs": [],
   "source": [
    "array_2d = np.reshape(array_1d, (5, 1))"
   ]
  },
  {
   "cell_type": "code",
   "execution_count": 7,
   "id": "07a0fd54",
   "metadata": {},
   "outputs": [
    {
     "data": {
      "text/plain": [
       "array([[1],\n",
       "       [2],\n",
       "       [3],\n",
       "       [4],\n",
       "       [5]])"
      ]
     },
     "execution_count": 7,
     "metadata": {},
     "output_type": "execute_result"
    }
   ],
   "source": [
    "array_2d "
   ]
  },
  {
   "cell_type": "code",
   "execution_count": 8,
   "id": "b674c01c",
   "metadata": {},
   "outputs": [
    {
     "name": "stdout",
     "output_type": "stream",
     "text": [
      "(5, 1)\n"
     ]
    }
   ],
   "source": [
    "print(array_2d.shape)  # Output: (5, 1)"
   ]
  },
  {
   "cell_type": "code",
   "execution_count": 9,
   "id": "8364aea8",
   "metadata": {},
   "outputs": [
    {
     "name": "stdout",
     "output_type": "stream",
     "text": [
      "2D Array:\n",
      "[[1 2 3]\n",
      " [4 5 6]]\n",
      "(2, 3)\n"
     ]
    }
   ],
   "source": [
    "array_2d = np.array([[1, 2, 3], [4, 5, 6]])\n",
    "print(\"2D Array:\")\n",
    "print(array_2d)\n",
    "print(array_2d.shape)  # Output: (2, 3)\n"
   ]
  },
  {
   "cell_type": "code",
   "execution_count": 10,
   "id": "85b271b1",
   "metadata": {},
   "outputs": [
    {
     "data": {
      "text/plain": [
       "array([0, 2, 4, 6, 8])"
      ]
     },
     "execution_count": 10,
     "metadata": {},
     "output_type": "execute_result"
    }
   ],
   "source": [
    "np.arange(0, 10, 2)  # Output: [0 2 4 6 8]"
   ]
  },
  {
   "cell_type": "code",
   "execution_count": 11,
   "id": "f9222fdf",
   "metadata": {},
   "outputs": [
    {
     "data": {
      "text/plain": [
       "array([[0, 2, 4, 6, 8]])"
      ]
     },
     "execution_count": 11,
     "metadata": {},
     "output_type": "execute_result"
    }
   ],
   "source": [
    "np.arange(0, 10, 2).reshape(1, -1)  # Output: [[0 2 4 6 8]]"
   ]
  },
  {
   "cell_type": "code",
   "execution_count": 15,
   "id": "61895efa",
   "metadata": {},
   "outputs": [
    {
     "data": {
      "text/plain": [
       "array([[0],\n",
       "       [1],\n",
       "       [2],\n",
       "       [3],\n",
       "       [4],\n",
       "       [5],\n",
       "       [6],\n",
       "       [7],\n",
       "       [8],\n",
       "       [9]])"
      ]
     },
     "execution_count": 15,
     "metadata": {},
     "output_type": "execute_result"
    }
   ],
   "source": [
    "np.arange(0, 10).reshape(10, 1)  # Output: [[0] [1] [2] [3] [4] [5] [6] [7] [8] [9]]"
   ]
  },
  {
   "cell_type": "code",
   "execution_count": 17,
   "id": "e78d10ad",
   "metadata": {},
   "outputs": [
    {
     "name": "stdout",
     "output_type": "stream",
     "text": [
      "2D Array:\n",
      "[[1 2 3]\n",
      " [4 5 6]]\n",
      "Shape of the array: (2, 3)\n",
      "Number of dimensions: 2\n",
      "Data type of elements: int64\n",
      "Size of the array: 6\n",
      "Item size in bytes: 8\n"
     ]
    }
   ],
   "source": [
    "array_2d = np.array([[1, 2, 3], [4, 5, 6]])\n",
    "print(\"2D Array:\")\n",
    "print(array_2d)\n",
    "print(\"Shape of the array:\", array_2d.shape)  # Output: (2, 3)\n",
    "print(\"Number of dimensions:\", array_2d.ndim)  # Output: 2\n",
    "print(\"Data type of elements:\", array_2d.dtype)  # Output: int64\n",
    "print(\"Size of the array:\", array_2d.size)  # Output: 6\n",
    "print(\"Item size in bytes:\", array_2d.itemsize)  # Output: 8 (for int64)"
   ]
  },
  {
   "cell_type": "code",
   "execution_count": 18,
   "id": "ba26144a",
   "metadata": {},
   "outputs": [
    {
     "name": "stdout",
     "output_type": "stream",
     "text": [
      "Element-wise addition: [5 7 9]\n"
     ]
    }
   ],
   "source": [
    "## Vectorized Operations\n",
    "# Element-wise addition\n",
    "array_a = np.array([1, 2, 3])\n",
    "array_b = np.array([4, 5, 6])\n",
    "array_c = array_a + array_b\n",
    "\n",
    "print(\"Element-wise addition:\", array_c)  # Output: [5 7 9]"
   ]
  },
  {
   "cell_type": "code",
   "execution_count": 19,
   "id": "5816b695",
   "metadata": {},
   "outputs": [
    {
     "name": "stdout",
     "output_type": "stream",
     "text": [
      "Element-wise multiplication: [ 4 10 18]\n"
     ]
    }
   ],
   "source": [
    "# Element-wise multiplication\n",
    "array_d = array_a * array_b\n",
    "print(\"Element-wise multiplication:\", array_d)  # Output: [ 4 10 18]"
   ]
  },
  {
   "cell_type": "code",
   "execution_count": 20,
   "id": "db748933",
   "metadata": {},
   "outputs": [
    {
     "name": "stdout",
     "output_type": "stream",
     "text": [
      "Element-wise subtraction: [-3 -3 -3]\n"
     ]
    }
   ],
   "source": [
    "# Element-wise subtraction\n",
    "array_e = array_a - array_b\n",
    "print(\"Element-wise subtraction:\", array_e)  # Output: [-3 -3 -3]"
   ]
  },
  {
   "cell_type": "code",
   "execution_count": 21,
   "id": "670a24ef",
   "metadata": {},
   "outputs": [
    {
     "name": "stdout",
     "output_type": "stream",
     "text": [
      "Element-wise division: [0.25 0.4  0.5 ]\n"
     ]
    }
   ],
   "source": [
    "# Element-wise division\n",
    "array_f = array_a / array_b\n",
    "print(\"Element-wise division:\", array_f)  # Output: [0.25 0.4 0.5]"
   ]
  },
  {
   "cell_type": "code",
   "execution_count": 22,
   "id": "c13a6a75",
   "metadata": {},
   "outputs": [
    {
     "name": "stdout",
     "output_type": "stream",
     "text": [
      "Square root of each element: [1.         1.41421356 1.73205081]\n"
     ]
    }
   ],
   "source": [
    "## Universal Functions\n",
    "# Square root of each element\n",
    "array_sqrt = np.sqrt(array_a)\n",
    "print(\"Square root of each element:\", array_sqrt)  # Output: [1.         1.41421356 1.73205081]"
   ]
  },
  {
   "cell_type": "code",
   "execution_count": 23,
   "id": "c18807e4",
   "metadata": {},
   "outputs": [
    {
     "name": "stdout",
     "output_type": "stream",
     "text": [
      "Exponential of each element: [ 2.71828183  7.3890561  20.08553692]\n"
     ]
    }
   ],
   "source": [
    "# Exponential of each element\n",
    "array_exp = np.exp(array_a)\n",
    "print(\"Exponential of each element:\", array_exp)  # Output: [ 2.71828183  7.3890561  20.08553692]"
   ]
  },
  {
   "cell_type": "code",
   "execution_count": 24,
   "id": "141c69fa",
   "metadata": {},
   "outputs": [
    {
     "name": "stdout",
     "output_type": "stream",
     "text": [
      "Sine of each element: [0.84147098 0.90929743 0.14112001]\n"
     ]
    }
   ],
   "source": [
    "# Sine of each element\n",
    "array_sin = np.sin(array_a)\n",
    "print(\"Sine of each element:\", array_sin)  # Output: [ 0.84147098  0.90929743  0.14112001]"
   ]
  },
  {
   "cell_type": "code",
   "execution_count": 25,
   "id": "81dd3d01",
   "metadata": {},
   "outputs": [
    {
     "name": "stdout",
     "output_type": "stream",
     "text": [
      "Cosine of each element: [ 0.54030231 -0.41614684 -0.9899925 ]\n"
     ]
    }
   ],
   "source": [
    "# Cosine of each element\n",
    "array_cos = np.cos(array_a)\n",
    "print(\"Cosine of each element:\", array_cos)  # Output: [ 0.54030231 -0.41614684 -0.9899925 ]\n"
   ]
  },
  {
   "cell_type": "code",
   "execution_count": 26,
   "id": "242fe118",
   "metadata": {},
   "outputs": [
    {
     "name": "stdout",
     "output_type": "stream",
     "text": [
      "Original 2D Array:\n",
      "[[1 2 3]\n",
      " [4 5 6]\n",
      " [7 8 9]]\n"
     ]
    }
   ],
   "source": [
    "# Array Slicing\n",
    "array_2d = np.array([[1, 2, 3], [4, 5, 6], [7, 8, 9]])\n",
    "print(\"Original 2D Array:\")\n",
    "print(array_2d)\n"
   ]
  },
  {
   "cell_type": "code",
   "execution_count": 27,
   "id": "4078296c",
   "metadata": {},
   "outputs": [
    {
     "name": "stdout",
     "output_type": "stream",
     "text": [
      "Sliced first row: [1 2 3]\n",
      "Sliced first column: [1 4 7]\n"
     ]
    }
   ],
   "source": [
    "# Slicing the first row\n",
    "first_row = array_2d[0, :]\n",
    "print(\"Sliced first row:\", first_row)\n",
    "\n",
    "# Slicing the first column\n",
    "first_column = array_2d[:, 0]\n",
    "print(\"Sliced first column:\", first_column)"
   ]
  },
  {
   "cell_type": "code",
   "execution_count": 28,
   "id": "96e57332",
   "metadata": {},
   "outputs": [
    {
     "data": {
      "text/plain": [
       "np.int64(1)"
      ]
     },
     "execution_count": 28,
     "metadata": {},
     "output_type": "execute_result"
    }
   ],
   "source": [
    "array_2d[0][0]"
   ]
  },
  {
   "cell_type": "code",
   "execution_count": 29,
   "id": "48c5e894",
   "metadata": {},
   "outputs": [
    {
     "data": {
      "text/plain": [
       "array([[1, 2, 3],\n",
       "       [4, 5, 6],\n",
       "       [7, 8, 9]])"
      ]
     },
     "execution_count": 29,
     "metadata": {},
     "output_type": "execute_result"
    }
   ],
   "source": [
    "array_2d"
   ]
  },
  {
   "cell_type": "code",
   "execution_count": 30,
   "id": "a7b5b711",
   "metadata": {},
   "outputs": [
    {
     "data": {
      "text/plain": [
       "array([[5, 6],\n",
       "       [8, 9]])"
      ]
     },
     "execution_count": 30,
     "metadata": {},
     "output_type": "execute_result"
    }
   ],
   "source": [
    "array_2d[1:, 1:]  # Slicing from the second row and second column onwards"
   ]
  },
  {
   "cell_type": "code",
   "execution_count": 31,
   "id": "751bf50a",
   "metadata": {},
   "outputs": [
    {
     "data": {
      "text/plain": [
       "array([[1, 2],\n",
       "       [4, 5]])"
      ]
     },
     "execution_count": 31,
     "metadata": {},
     "output_type": "execute_result"
    }
   ],
   "source": [
    "array_2d[0:2, 0:2]  # Slicing the first two rows and first two columns"
   ]
  },
  {
   "cell_type": "code",
   "execution_count": 32,
   "id": "9859d6c8",
   "metadata": {},
   "outputs": [],
   "source": [
    "array_2d = np.array([[1,2,3,4],[5,6,7,8],[9,10,11,12]])"
   ]
  },
  {
   "cell_type": "code",
   "execution_count": 33,
   "id": "f166afd3",
   "metadata": {},
   "outputs": [
    {
     "name": "stdout",
     "output_type": "stream",
     "text": [
      "(3, 4)\n",
      "2\n",
      "int64\n",
      "12\n",
      "8\n"
     ]
    }
   ],
   "source": [
    "print(array_2d.shape)  # Output: (3, 4)\n",
    "print(array_2d.ndim)  # Output: 2\n",
    "print(array_2d.dtype)  # Output: int64\n",
    "print(array_2d.size)  # Output: 12\n",
    "print(array_2d.itemsize)  # Output: 4 (for int32)\n"
   ]
  },
  {
   "cell_type": "code",
   "execution_count": 34,
   "id": "48cdd405",
   "metadata": {},
   "outputs": [
    {
     "data": {
      "text/plain": [
       "array([[ 1,  2,  3,  4],\n",
       "       [ 5,  6,  7,  8],\n",
       "       [ 9, 10, 11, 12]])"
      ]
     },
     "execution_count": 34,
     "metadata": {},
     "output_type": "execute_result"
    }
   ],
   "source": [
    "array_2d"
   ]
  },
  {
   "cell_type": "code",
   "execution_count": 35,
   "id": "d42fbbe5",
   "metadata": {},
   "outputs": [],
   "source": [
    "array_2d[0, 0] = 10"
   ]
  },
  {
   "cell_type": "code",
   "execution_count": 36,
   "id": "5acd4a11",
   "metadata": {},
   "outputs": [
    {
     "data": {
      "text/plain": [
       "array([[10,  2,  3,  4],\n",
       "       [ 5,  6,  7,  8],\n",
       "       [ 9, 10, 11, 12]])"
      ]
     },
     "execution_count": 36,
     "metadata": {},
     "output_type": "execute_result"
    }
   ],
   "source": [
    "array_2d\n"
   ]
  },
  {
   "cell_type": "code",
   "execution_count": 37,
   "id": "a088b45b",
   "metadata": {},
   "outputs": [
    {
     "name": "stdout",
     "output_type": "stream",
     "text": [
      "Mean of the array: 3.0\n",
      "Median of the array: 3.0\n",
      "Standard deviation of the array: 1.4142135623730951\n",
      "Variance of the array: 2.0\n",
      "Minimum value in the array: 1\n",
      "Maximum value in the array: 5\n",
      "Sum of the array: 15\n",
      "Cumulative sum of the array: [ 1  3  6 10 15]\n"
     ]
    }
   ],
   "source": [
    "## statistical operations\n",
    "# Mean of the array\n",
    "array_1d = np.array([1, 2, 3, 4, 5])\n",
    "mean = np.mean(array_1d)\n",
    "print(\"Mean of the array:\", mean)  # Output: 3.0\n",
    "# Median of the array\n",
    "median = np.median(array_1d)\n",
    "print(\"Median of the array:\", median)  # Output: 3.0\n",
    "# Standard deviation of the array\n",
    "std_dev = np.std(array_1d)\n",
    "print(\"Standard deviation of the array:\", std_dev)  # Output: 1.4142135623730951\n",
    "# Variance of the array\n",
    "variance = np.var(array_1d)\n",
    "print(\"Variance of the array:\", variance)  # Output: 2.0\n",
    "# Minimum value in the array\n",
    "min_value = np.min(array_1d)\n",
    "print(\"Minimum value in the array:\", min_value)  # Output: 1\n",
    "# Maximum value in the array\n",
    "max_value = np.max(array_1d)\n",
    "print(\"Maximum value in the array:\", max_value)  # Output: 5\n",
    "# Sum of the array\n",
    "sum_value = np.sum(array_1d)\n",
    "print(\"Sum of the array:\", sum_value)  # Output: 15 \n",
    "# Cumulative sum of the array\n",
    "cumulative_sum = np.cumsum(array_1d)\n",
    "print(\"Cumulative sum of the array:\", cumulative_sum)  # Output: [ 1  3  6 10 15]"
   ]
  },
  {
   "cell_type": "code",
   "execution_count": 38,
   "id": "f236760b",
   "metadata": {},
   "outputs": [
    {
     "name": "stdout",
     "output_type": "stream",
     "text": [
      "Logical AND: [ True False False]\n"
     ]
    }
   ],
   "source": [
    "## Logical Operations\n",
    "# Logical AND operation\n",
    "array_a = np.array([True, False, True])\n",
    "array_b = np.array([True, True, False])\n",
    "logical_and = np.logical_and(array_a, array_b)\n",
    "print(\"Logical AND:\", logical_and)  # Output: [ True False False]"
   ]
  },
  {
   "cell_type": "code",
   "execution_count": 39,
   "id": "f634644e",
   "metadata": {},
   "outputs": [
    {
     "name": "stdout",
     "output_type": "stream",
     "text": [
      "Logical OR: [ True  True  True]\n",
      "Logical NOT: [False  True False]\n"
     ]
    }
   ],
   "source": [
    "# Logical OR operation\n",
    "logical_or = np.logical_or(array_a, array_b)\n",
    "print(\"Logical OR:\", logical_or)  # Output: [ True  True  True]\n",
    "# Logical NOT operation\n",
    "logical_not = np.logical_not(array_a)\n",
    "print(\"Logical NOT:\", logical_not)  # Output: [False  True False]"
   ]
  },
  {
   "cell_type": "code",
   "execution_count": 40,
   "id": "ca3afd3a",
   "metadata": {},
   "outputs": [
    {
     "data": {
      "text/plain": [
       "array([ 6,  7,  8,  9, 10])"
      ]
     },
     "execution_count": 40,
     "metadata": {},
     "output_type": "execute_result"
    }
   ],
   "source": [
    "data = np.array([1, 2, 3, 4, 5, 6, 7, 8, 9, 10])\n",
    "\n",
    "data[data > 5]  # Output: [ 6  7  8  9 10]"
   ]
  },
  {
   "cell_type": "code",
   "execution_count": 41,
   "id": "f6b94442",
   "metadata": {},
   "outputs": [
    {
     "data": {
      "text/plain": [
       "array([3, 4])"
      ]
     },
     "execution_count": 41,
     "metadata": {},
     "output_type": "execute_result"
    }
   ],
   "source": [
    "data[(data < 5) & (data > 2)]  # Output: [3 4]"
   ]
  },
  {
   "cell_type": "code",
   "execution_count": 42,
   "id": "a513de46",
   "metadata": {},
   "outputs": [
    {
     "data": {
      "text/plain": [
       "array([ 1,  2,  3,  4,  5,  6,  7,  8,  9, 10])"
      ]
     },
     "execution_count": 42,
     "metadata": {},
     "output_type": "execute_result"
    }
   ],
   "source": [
    "data[(data < 5) | (data > 2)]"
   ]
  },
  {
   "cell_type": "code",
   "execution_count": 44,
   "id": "316b34a1",
   "metadata": {},
   "outputs": [
    {
     "data": {
      "text/plain": [
       "array([ 5,  6,  7,  8,  9, 10])"
      ]
     },
     "execution_count": 44,
     "metadata": {},
     "output_type": "execute_result"
    }
   ],
   "source": [
    "# not logical operation on data\n",
    "data[~(data < 5) & (data > 2)]  # Output: [ 5,  6,  7,  8,  9, 10]"
   ]
  },
  {
   "cell_type": "code",
   "execution_count": null,
   "id": "037d1c30",
   "metadata": {},
   "outputs": [],
   "source": []
  }
 ],
 "metadata": {
  "kernelspec": {
   "display_name": "Python 3",
   "language": "python",
   "name": "python3"
  },
  "language_info": {
   "codemirror_mode": {
    "name": "ipython",
    "version": 3
   },
   "file_extension": ".py",
   "mimetype": "text/x-python",
   "name": "python",
   "nbconvert_exporter": "python",
   "pygments_lexer": "ipython3",
   "version": "3.12.11"
  }
 },
 "nbformat": 4,
 "nbformat_minor": 5
}
