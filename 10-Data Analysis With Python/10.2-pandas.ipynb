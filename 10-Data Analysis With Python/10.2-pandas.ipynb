{
 "cells": [
  {
   "cell_type": "markdown",
   "id": "3a863402",
   "metadata": {},
   "source": [
    "### Pandas-DataFrame And Series\n",
    "**DataFrame** is a 2-dimensional labeled data structure with columns of potentially different types, similar to a spreadsheet or SQL table.\n",
    "\n",
    "**Series** is a 1-dimensional labeled array capable of holding any data type, essentially a single column of a DataFrame."
   ]
  },
  {
   "cell_type": "code",
   "execution_count": 1,
   "id": "00e6738a",
   "metadata": {},
   "outputs": [],
   "source": [
    "import pandas as pd"
   ]
  },
  {
   "cell_type": "code",
   "execution_count": 2,
   "id": "beb29ee7",
   "metadata": {},
   "outputs": [
    {
     "name": "stdout",
     "output_type": "stream",
     "text": [
      "Series:\n",
      "0    1\n",
      "1    2\n",
      "2    3\n",
      "3    4\n",
      "4    5\n",
      "Name: Numbers, dtype: int64\n"
     ]
    }
   ],
   "source": [
    "# Series example\n",
    "series_data = pd.Series([1, 2, 3, 4, 5], name='Numbers')\n",
    "print(\"Series:\")\n",
    "print(series_data)"
   ]
  },
  {
   "cell_type": "code",
   "execution_count": 3,
   "id": "f47e48a2",
   "metadata": {},
   "outputs": [
    {
     "name": "stdout",
     "output_type": "stream",
     "text": [
      "Series from dictionary:\n",
      "a    1\n",
      "b    2\n",
      "c    3\n",
      "Name: Letters, dtype: int64\n"
     ]
    }
   ],
   "source": [
    "# Create Series with dictionary\n",
    "series_dict = pd.Series({'a': 1, 'b': 2, 'c': 3}, name='Letters')\n",
    "print(\"Series from dictionary:\")\n",
    "print(series_dict)"
   ]
  },
  {
   "cell_type": "code",
   "execution_count": 4,
   "id": "a3491836",
   "metadata": {},
   "outputs": [
    {
     "name": "stdout",
     "output_type": "stream",
     "text": [
      "Series with custom index:\n",
      "x    10\n",
      "y    20\n",
      "z    30\n",
      "Name: CustomIndex, dtype: int64\n"
     ]
    }
   ],
   "source": [
    "# Create a Series with custom index\n",
    "custom_index_series = pd.Series([10, 20, 30], index=['x', 'y', 'z'], name='CustomIndex')\n",
    "print(\"Series with custom index:\")\n",
    "print(custom_index_series)"
   ]
  },
  {
   "cell_type": "code",
   "execution_count": 12,
   "id": "a43490fd",
   "metadata": {},
   "outputs": [
    {
     "name": "stdout",
     "output_type": "stream",
     "text": [
      "DataFrame from dictionary:\n",
      "      Name  Age    City\n",
      "0  Muzmmil   25   Latur\n",
      "1     Jiya   30  Mumbai\n",
      "2   Najmin   35    Pune\n"
     ]
    }
   ],
   "source": [
    "## DataFrame example\n",
    "## Create a DataFrame from a dictionary of lists\n",
    "data = {\n",
    "    'Name': ['Muzmmil', 'Jiya', 'Najmin'],\n",
    "    'Age': [25, 30, 35],\n",
    "    'City': ['Latur', 'Mumbai', 'Pune']\n",
    "}\n",
    "df = pd.DataFrame(data)\n",
    "print(\"DataFrame from dictionary:\")\n",
    "print(df)"
   ]
  },
  {
   "cell_type": "code",
   "execution_count": 13,
   "id": "9700e0c1",
   "metadata": {},
   "outputs": [
    {
     "name": "stdout",
     "output_type": "stream",
     "text": [
      "<class 'pandas.core.frame.DataFrame'>\n"
     ]
    }
   ],
   "source": [
    "print(type(df))"
   ]
  },
  {
   "cell_type": "code",
   "execution_count": 14,
   "id": "3ad40ace",
   "metadata": {},
   "outputs": [
    {
     "name": "stdout",
     "output_type": "stream",
     "text": [
      "DataFrame from list of dictionaries:\n",
      "      Name  Age    City\n",
      "0  Muzmmil   25   Latur\n",
      "1     Jiya   30  Mumbai\n",
      "2   Najmin   35    Pune\n"
     ]
    }
   ],
   "source": [
    "## create a DataFrame From a list of dictionaries\n",
    "data_list = [\n",
    "    {'Name': 'Muzmmil', 'Age': 25, 'City': 'Latur'},\n",
    "    {'Name': 'Jiya', 'Age': 30, 'City': 'Mumbai'},\n",
    "    {'Name': 'Najmin', 'Age': 35, 'City': 'Pune'}\n",
    "]\n",
    "df_from_list = pd.DataFrame(data_list)\n",
    "print(\"DataFrame from list of dictionaries:\")\n",
    "print(df_from_list)"
   ]
  },
  {
   "cell_type": "code",
   "execution_count": 16,
   "id": "b3fbf321",
   "metadata": {},
   "outputs": [
    {
     "name": "stdout",
     "output_type": "stream",
     "text": [
      "Sales DataFrame:\n"
     ]
    },
    {
     "data": {
      "text/html": [
       "<div>\n",
       "<style scoped>\n",
       "    .dataframe tbody tr th:only-of-type {\n",
       "        vertical-align: middle;\n",
       "    }\n",
       "\n",
       "    .dataframe tbody tr th {\n",
       "        vertical-align: top;\n",
       "    }\n",
       "\n",
       "    .dataframe thead th {\n",
       "        text-align: right;\n",
       "    }\n",
       "</style>\n",
       "<table border=\"1\" class=\"dataframe\">\n",
       "  <thead>\n",
       "    <tr style=\"text-align: right;\">\n",
       "      <th></th>\n",
       "      <th>Region</th>\n",
       "      <th>Country</th>\n",
       "      <th>Item Type</th>\n",
       "      <th>Sales Channel</th>\n",
       "      <th>Order Priority</th>\n",
       "      <th>Order Date</th>\n",
       "      <th>Order ID</th>\n",
       "      <th>Ship Date</th>\n",
       "      <th>Units Sold</th>\n",
       "      <th>Unit Price</th>\n",
       "      <th>Unit Cost</th>\n",
       "      <th>Total Revenue</th>\n",
       "      <th>Total Cost</th>\n",
       "      <th>Total Profit</th>\n",
       "    </tr>\n",
       "  </thead>\n",
       "  <tbody>\n",
       "    <tr>\n",
       "      <th>0</th>\n",
       "      <td>Middle East and North Africa</td>\n",
       "      <td>Libya</td>\n",
       "      <td>Cosmetics</td>\n",
       "      <td>Offline</td>\n",
       "      <td>M</td>\n",
       "      <td>10/18/2014</td>\n",
       "      <td>686800706</td>\n",
       "      <td>10/31/2014</td>\n",
       "      <td>8446</td>\n",
       "      <td>437.20</td>\n",
       "      <td>263.33</td>\n",
       "      <td>3692591.20</td>\n",
       "      <td>2224085.18</td>\n",
       "      <td>1468506.02</td>\n",
       "    </tr>\n",
       "    <tr>\n",
       "      <th>1</th>\n",
       "      <td>North America</td>\n",
       "      <td>Canada</td>\n",
       "      <td>Vegetables</td>\n",
       "      <td>Online</td>\n",
       "      <td>M</td>\n",
       "      <td>11/7/2011</td>\n",
       "      <td>185941302</td>\n",
       "      <td>12/8/2011</td>\n",
       "      <td>3018</td>\n",
       "      <td>154.06</td>\n",
       "      <td>90.93</td>\n",
       "      <td>464953.08</td>\n",
       "      <td>274426.74</td>\n",
       "      <td>190526.34</td>\n",
       "    </tr>\n",
       "    <tr>\n",
       "      <th>2</th>\n",
       "      <td>Middle East and North Africa</td>\n",
       "      <td>Libya</td>\n",
       "      <td>Baby Food</td>\n",
       "      <td>Offline</td>\n",
       "      <td>C</td>\n",
       "      <td>10/31/2016</td>\n",
       "      <td>246222341</td>\n",
       "      <td>12/9/2016</td>\n",
       "      <td>1517</td>\n",
       "      <td>255.28</td>\n",
       "      <td>159.42</td>\n",
       "      <td>387259.76</td>\n",
       "      <td>241840.14</td>\n",
       "      <td>145419.62</td>\n",
       "    </tr>\n",
       "    <tr>\n",
       "      <th>3</th>\n",
       "      <td>Asia</td>\n",
       "      <td>Japan</td>\n",
       "      <td>Cereal</td>\n",
       "      <td>Offline</td>\n",
       "      <td>C</td>\n",
       "      <td>4/10/2010</td>\n",
       "      <td>161442649</td>\n",
       "      <td>5/12/2010</td>\n",
       "      <td>3322</td>\n",
       "      <td>205.70</td>\n",
       "      <td>117.11</td>\n",
       "      <td>683335.40</td>\n",
       "      <td>389039.42</td>\n",
       "      <td>294295.98</td>\n",
       "    </tr>\n",
       "    <tr>\n",
       "      <th>4</th>\n",
       "      <td>Sub-Saharan Africa</td>\n",
       "      <td>Chad</td>\n",
       "      <td>Fruits</td>\n",
       "      <td>Offline</td>\n",
       "      <td>H</td>\n",
       "      <td>8/16/2011</td>\n",
       "      <td>645713555</td>\n",
       "      <td>8/31/2011</td>\n",
       "      <td>9845</td>\n",
       "      <td>9.33</td>\n",
       "      <td>6.92</td>\n",
       "      <td>91853.85</td>\n",
       "      <td>68127.40</td>\n",
       "      <td>23726.45</td>\n",
       "    </tr>\n",
       "  </tbody>\n",
       "</table>\n",
       "</div>"
      ],
      "text/plain": [
       "                         Region Country   Item Type Sales Channel  \\\n",
       "0  Middle East and North Africa   Libya   Cosmetics       Offline   \n",
       "1                 North America  Canada  Vegetables        Online   \n",
       "2  Middle East and North Africa   Libya   Baby Food       Offline   \n",
       "3                          Asia   Japan      Cereal       Offline   \n",
       "4            Sub-Saharan Africa    Chad      Fruits       Offline   \n",
       "\n",
       "  Order Priority  Order Date   Order ID   Ship Date  Units Sold  Unit Price  \\\n",
       "0              M  10/18/2014  686800706  10/31/2014        8446      437.20   \n",
       "1              M   11/7/2011  185941302   12/8/2011        3018      154.06   \n",
       "2              C  10/31/2016  246222341   12/9/2016        1517      255.28   \n",
       "3              C   4/10/2010  161442649   5/12/2010        3322      205.70   \n",
       "4              H   8/16/2011  645713555   8/31/2011        9845        9.33   \n",
       "\n",
       "   Unit Cost  Total Revenue  Total Cost  Total Profit  \n",
       "0     263.33     3692591.20  2224085.18    1468506.02  \n",
       "1      90.93      464953.08   274426.74     190526.34  \n",
       "2     159.42      387259.76   241840.14     145419.62  \n",
       "3     117.11      683335.40   389039.42     294295.98  \n",
       "4       6.92       91853.85    68127.40      23726.45  "
      ]
     },
     "execution_count": 16,
     "metadata": {},
     "output_type": "execute_result"
    }
   ],
   "source": [
    "sales_df = pd.read_csv('sales.csv')\n",
    "print(\"Sales DataFrame:\")\n",
    "sales_df.head()"
   ]
  },
  {
   "cell_type": "code",
   "execution_count": 17,
   "id": "ad0a3df8",
   "metadata": {},
   "outputs": [
    {
     "data": {
      "text/html": [
       "<div>\n",
       "<style scoped>\n",
       "    .dataframe tbody tr th:only-of-type {\n",
       "        vertical-align: middle;\n",
       "    }\n",
       "\n",
       "    .dataframe tbody tr th {\n",
       "        vertical-align: top;\n",
       "    }\n",
       "\n",
       "    .dataframe thead th {\n",
       "        text-align: right;\n",
       "    }\n",
       "</style>\n",
       "<table border=\"1\" class=\"dataframe\">\n",
       "  <thead>\n",
       "    <tr style=\"text-align: right;\">\n",
       "      <th></th>\n",
       "      <th>Region</th>\n",
       "      <th>Country</th>\n",
       "      <th>Item Type</th>\n",
       "      <th>Sales Channel</th>\n",
       "      <th>Order Priority</th>\n",
       "      <th>Order Date</th>\n",
       "      <th>Order ID</th>\n",
       "      <th>Ship Date</th>\n",
       "      <th>Units Sold</th>\n",
       "      <th>Unit Price</th>\n",
       "      <th>Unit Cost</th>\n",
       "      <th>Total Revenue</th>\n",
       "      <th>Total Cost</th>\n",
       "      <th>Total Profit</th>\n",
       "    </tr>\n",
       "  </thead>\n",
       "  <tbody>\n",
       "    <tr>\n",
       "      <th>995</th>\n",
       "      <td>Middle East and North Africa</td>\n",
       "      <td>Azerbaijan</td>\n",
       "      <td>Snacks</td>\n",
       "      <td>Offline</td>\n",
       "      <td>C</td>\n",
       "      <td>4/18/2010</td>\n",
       "      <td>534085166</td>\n",
       "      <td>4/25/2010</td>\n",
       "      <td>6524</td>\n",
       "      <td>152.58</td>\n",
       "      <td>97.44</td>\n",
       "      <td>995431.92</td>\n",
       "      <td>635698.56</td>\n",
       "      <td>359733.36</td>\n",
       "    </tr>\n",
       "    <tr>\n",
       "      <th>996</th>\n",
       "      <td>Europe</td>\n",
       "      <td>Georgia</td>\n",
       "      <td>Baby Food</td>\n",
       "      <td>Offline</td>\n",
       "      <td>H</td>\n",
       "      <td>8/1/2011</td>\n",
       "      <td>590768182</td>\n",
       "      <td>9/7/2011</td>\n",
       "      <td>288</td>\n",
       "      <td>255.28</td>\n",
       "      <td>159.42</td>\n",
       "      <td>73520.64</td>\n",
       "      <td>45912.96</td>\n",
       "      <td>27607.68</td>\n",
       "    </tr>\n",
       "    <tr>\n",
       "      <th>997</th>\n",
       "      <td>Middle East and North Africa</td>\n",
       "      <td>United Arab Emirates</td>\n",
       "      <td>Vegetables</td>\n",
       "      <td>Online</td>\n",
       "      <td>C</td>\n",
       "      <td>5/12/2011</td>\n",
       "      <td>524363124</td>\n",
       "      <td>6/28/2011</td>\n",
       "      <td>9556</td>\n",
       "      <td>154.06</td>\n",
       "      <td>90.93</td>\n",
       "      <td>1472197.36</td>\n",
       "      <td>868927.08</td>\n",
       "      <td>603270.28</td>\n",
       "    </tr>\n",
       "    <tr>\n",
       "      <th>998</th>\n",
       "      <td>Europe</td>\n",
       "      <td>Finland</td>\n",
       "      <td>Household</td>\n",
       "      <td>Offline</td>\n",
       "      <td>L</td>\n",
       "      <td>1/25/2016</td>\n",
       "      <td>289606320</td>\n",
       "      <td>2/14/2016</td>\n",
       "      <td>9801</td>\n",
       "      <td>668.27</td>\n",
       "      <td>502.54</td>\n",
       "      <td>6549714.27</td>\n",
       "      <td>4925394.54</td>\n",
       "      <td>1624319.73</td>\n",
       "    </tr>\n",
       "    <tr>\n",
       "      <th>999</th>\n",
       "      <td>Europe</td>\n",
       "      <td>Portugal</td>\n",
       "      <td>Cereal</td>\n",
       "      <td>Offline</td>\n",
       "      <td>C</td>\n",
       "      <td>4/10/2014</td>\n",
       "      <td>811546599</td>\n",
       "      <td>5/8/2014</td>\n",
       "      <td>3528</td>\n",
       "      <td>205.70</td>\n",
       "      <td>117.11</td>\n",
       "      <td>725709.60</td>\n",
       "      <td>413164.08</td>\n",
       "      <td>312545.52</td>\n",
       "    </tr>\n",
       "  </tbody>\n",
       "</table>\n",
       "</div>"
      ],
      "text/plain": [
       "                           Region               Country   Item Type  \\\n",
       "995  Middle East and North Africa            Azerbaijan      Snacks   \n",
       "996                        Europe               Georgia   Baby Food   \n",
       "997  Middle East and North Africa  United Arab Emirates  Vegetables   \n",
       "998                        Europe               Finland   Household   \n",
       "999                        Europe              Portugal      Cereal   \n",
       "\n",
       "    Sales Channel Order Priority Order Date   Order ID  Ship Date  Units Sold  \\\n",
       "995       Offline              C  4/18/2010  534085166  4/25/2010        6524   \n",
       "996       Offline              H   8/1/2011  590768182   9/7/2011         288   \n",
       "997        Online              C  5/12/2011  524363124  6/28/2011        9556   \n",
       "998       Offline              L  1/25/2016  289606320  2/14/2016        9801   \n",
       "999       Offline              C  4/10/2014  811546599   5/8/2014        3528   \n",
       "\n",
       "     Unit Price  Unit Cost  Total Revenue  Total Cost  Total Profit  \n",
       "995      152.58      97.44      995431.92   635698.56     359733.36  \n",
       "996      255.28     159.42       73520.64    45912.96      27607.68  \n",
       "997      154.06      90.93     1472197.36   868927.08     603270.28  \n",
       "998      668.27     502.54     6549714.27  4925394.54    1624319.73  \n",
       "999      205.70     117.11      725709.60   413164.08     312545.52  "
      ]
     },
     "execution_count": 17,
     "metadata": {},
     "output_type": "execute_result"
    }
   ],
   "source": [
    "sales_df.tail()  # Display the last few rows of the DataFrame"
   ]
  },
  {
   "cell_type": "code",
   "execution_count": 18,
   "id": "5250e26a",
   "metadata": {},
   "outputs": [
    {
     "data": {
      "text/html": [
       "<div>\n",
       "<style scoped>\n",
       "    .dataframe tbody tr th:only-of-type {\n",
       "        vertical-align: middle;\n",
       "    }\n",
       "\n",
       "    .dataframe tbody tr th {\n",
       "        vertical-align: top;\n",
       "    }\n",
       "\n",
       "    .dataframe thead th {\n",
       "        text-align: right;\n",
       "    }\n",
       "</style>\n",
       "<table border=\"1\" class=\"dataframe\">\n",
       "  <thead>\n",
       "    <tr style=\"text-align: right;\">\n",
       "      <th></th>\n",
       "      <th>Name</th>\n",
       "      <th>Age</th>\n",
       "      <th>City</th>\n",
       "    </tr>\n",
       "  </thead>\n",
       "  <tbody>\n",
       "    <tr>\n",
       "      <th>0</th>\n",
       "      <td>Muzmmil</td>\n",
       "      <td>25</td>\n",
       "      <td>Latur</td>\n",
       "    </tr>\n",
       "    <tr>\n",
       "      <th>1</th>\n",
       "      <td>Jiya</td>\n",
       "      <td>30</td>\n",
       "      <td>Mumbai</td>\n",
       "    </tr>\n",
       "    <tr>\n",
       "      <th>2</th>\n",
       "      <td>Najmin</td>\n",
       "      <td>35</td>\n",
       "      <td>Pune</td>\n",
       "    </tr>\n",
       "  </tbody>\n",
       "</table>\n",
       "</div>"
      ],
      "text/plain": [
       "      Name  Age    City\n",
       "0  Muzmmil   25   Latur\n",
       "1     Jiya   30  Mumbai\n",
       "2   Najmin   35    Pune"
      ]
     },
     "execution_count": 18,
     "metadata": {},
     "output_type": "execute_result"
    }
   ],
   "source": [
    "df"
   ]
  },
  {
   "cell_type": "code",
   "execution_count": 19,
   "id": "a0c3101f",
   "metadata": {},
   "outputs": [
    {
     "data": {
      "text/plain": [
       "0    Muzmmil\n",
       "1       Jiya\n",
       "2     Najmin\n",
       "Name: Name, dtype: object"
      ]
     },
     "execution_count": 19,
     "metadata": {},
     "output_type": "execute_result"
    }
   ],
   "source": [
    "df['Name']  # Access a specific column"
   ]
  },
  {
   "cell_type": "code",
   "execution_count": 20,
   "id": "06d74954",
   "metadata": {},
   "outputs": [
    {
     "data": {
      "text/plain": [
       "pandas.core.series.Series"
      ]
     },
     "execution_count": 20,
     "metadata": {},
     "output_type": "execute_result"
    }
   ],
   "source": [
    "type(df['Name'])  # Check the type of the column"
   ]
  },
  {
   "cell_type": "code",
   "execution_count": 21,
   "id": "ee6a22ce",
   "metadata": {},
   "outputs": [
    {
     "data": {
      "text/plain": [
       "Name    Muzmmil\n",
       "Age          25\n",
       "City      Latur\n",
       "Name: 0, dtype: object"
      ]
     },
     "execution_count": 21,
     "metadata": {},
     "output_type": "execute_result"
    }
   ],
   "source": [
    "df.loc[0]  # Access the first row using label-based indexing"
   ]
  },
  {
   "cell_type": "code",
   "execution_count": 22,
   "id": "8effa315",
   "metadata": {},
   "outputs": [
    {
     "data": {
      "text/plain": [
       "Name    Muzmmil\n",
       "Age          25\n",
       "City      Latur\n",
       "Name: 0, dtype: object"
      ]
     },
     "execution_count": 22,
     "metadata": {},
     "output_type": "execute_result"
    }
   ],
   "source": [
    "df.iloc[0]  # Access the first row using integer-location based indexing"
   ]
  },
  {
   "cell_type": "code",
   "execution_count": 23,
   "id": "dfda35bf",
   "metadata": {},
   "outputs": [
    {
     "data": {
      "text/plain": [
       "'Muzmmil'"
      ]
     },
     "execution_count": 23,
     "metadata": {},
     "output_type": "execute_result"
    }
   ],
   "source": [
    "df.iloc[0]['Name']  # Access the 'Name' column of the first row"
   ]
  },
  {
   "cell_type": "code",
   "execution_count": 24,
   "id": "c2469391",
   "metadata": {},
   "outputs": [
    {
     "name": "stderr",
     "output_type": "stream",
     "text": [
      "/var/folders/n9/mtkrzfbj5cnfxtx75vygp7kc0000gr/T/ipykernel_93203/2900375399.py:1: FutureWarning: Series.__getitem__ treating keys as positions is deprecated. In a future version, integer keys will always be treated as labels (consistent with DataFrame behavior). To access a value by position, use `ser.iloc[pos]`\n",
      "  df.iloc[0][0]\n"
     ]
    },
    {
     "data": {
      "text/plain": [
       "'Muzmmil'"
      ]
     },
     "execution_count": 24,
     "metadata": {},
     "output_type": "execute_result"
    }
   ],
   "source": [
    "df.iloc[0][0]"
   ]
  },
  {
   "cell_type": "code",
   "execution_count": 25,
   "id": "b1e89dd0",
   "metadata": {},
   "outputs": [
    {
     "name": "stdout",
     "output_type": "stream",
     "text": [
      "First row 'Name' column value: Muzmmil\n",
      "First row first column value: Muzmmil\n"
     ]
    },
    {
     "name": "stderr",
     "output_type": "stream",
     "text": [
      "/var/folders/n9/mtkrzfbj5cnfxtx75vygp7kc0000gr/T/ipykernel_93203/1997770254.py:6: FutureWarning: Series.__getitem__ treating keys as positions is deprecated. In a future version, integer keys will always be treated as labels (consistent with DataFrame behavior). To access a value by position, use `ser.iloc[pos]`\n",
      "  first_row_first_col = df.iloc[0][0]\n"
     ]
    }
   ],
   "source": [
    "## Accessing specific rows and columns\n",
    "# Access the first row and the 'Name' column\n",
    "first_row_name = df.iloc[0]['Name']\n",
    "print(\"First row 'Name' column value:\", first_row_name)\n",
    "# Access the first row and the first column\n",
    "first_row_first_col = df.iloc[0][0]\n",
    "print(\"First row first column value:\", first_row_first_col)"
   ]
  },
  {
   "cell_type": "code",
   "execution_count": 26,
   "id": "f2d1ce32",
   "metadata": {},
   "outputs": [
    {
     "data": {
      "text/plain": [
       "'Muzmmil'"
      ]
     },
     "execution_count": 26,
     "metadata": {},
     "output_type": "execute_result"
    }
   ],
   "source": [
    "df.at[0, 'Name']  # Access the 'Name' column of the first row using .at"
   ]
  },
  {
   "cell_type": "code",
   "execution_count": 27,
   "id": "805ace8f",
   "metadata": {},
   "outputs": [
    {
     "name": "stdout",
     "output_type": "stream",
     "text": [
      "First row 'Name' column value using .iat: Muzmmil\n"
     ]
    }
   ],
   "source": [
    "# Accessing specific rows and columns using .iat\n",
    "first_row_name_iat = df.iat[0, 0]\n",
    "print(\"First row 'Name' column value using .iat:\", first_row_name_iat)"
   ]
  },
  {
   "cell_type": "code",
   "execution_count": 28,
   "id": "3e31d43c",
   "metadata": {},
   "outputs": [
    {
     "name": "stdout",
     "output_type": "stream",
     "text": [
      "DataFrame after adding 'Salary' column:\n",
      "      Name  Age    City  Salary\n",
      "0  Muzmmil   25   Latur   50000\n",
      "1     Jiya   30  Mumbai   60000\n",
      "2   Najmin   35    Pune   70000\n"
     ]
    }
   ],
   "source": [
    "## Data Manipulation with DataFrames\n",
    "# Adding a new column\n",
    "df['Salary'] = [50000, 60000, 70000]\n",
    "print(\"DataFrame after adding 'Salary' column:\")\n",
    "print(df)"
   ]
  },
  {
   "cell_type": "code",
   "execution_count": 29,
   "id": "0239d625",
   "metadata": {},
   "outputs": [
    {
     "name": "stdout",
     "output_type": "stream",
     "text": [
      "DataFrame after removing 'Salary' column:\n",
      "      Name  Age    City\n",
      "0  Muzmmil   25   Latur\n",
      "1     Jiya   30  Mumbai\n",
      "2   Najmin   35    Pune\n"
     ]
    }
   ],
   "source": [
    "# Removing a column\n",
    "df.drop('Salary', axis=1, inplace=True)\n",
    "print(\"DataFrame after removing 'Salary' column:\")\n",
    "print(df)"
   ]
  },
  {
   "cell_type": "code",
   "execution_count": 30,
   "id": "d941d2d0",
   "metadata": {},
   "outputs": [],
   "source": [
    "df['Age'] = df['Age'] + 5  # Increment 'Age' by 5"
   ]
  },
  {
   "cell_type": "code",
   "execution_count": 31,
   "id": "dd463ce0",
   "metadata": {},
   "outputs": [
    {
     "data": {
      "text/html": [
       "<div>\n",
       "<style scoped>\n",
       "    .dataframe tbody tr th:only-of-type {\n",
       "        vertical-align: middle;\n",
       "    }\n",
       "\n",
       "    .dataframe tbody tr th {\n",
       "        vertical-align: top;\n",
       "    }\n",
       "\n",
       "    .dataframe thead th {\n",
       "        text-align: right;\n",
       "    }\n",
       "</style>\n",
       "<table border=\"1\" class=\"dataframe\">\n",
       "  <thead>\n",
       "    <tr style=\"text-align: right;\">\n",
       "      <th></th>\n",
       "      <th>Name</th>\n",
       "      <th>Age</th>\n",
       "      <th>City</th>\n",
       "    </tr>\n",
       "  </thead>\n",
       "  <tbody>\n",
       "    <tr>\n",
       "      <th>0</th>\n",
       "      <td>Muzmmil</td>\n",
       "      <td>30</td>\n",
       "      <td>Latur</td>\n",
       "    </tr>\n",
       "    <tr>\n",
       "      <th>1</th>\n",
       "      <td>Jiya</td>\n",
       "      <td>35</td>\n",
       "      <td>Mumbai</td>\n",
       "    </tr>\n",
       "    <tr>\n",
       "      <th>2</th>\n",
       "      <td>Najmin</td>\n",
       "      <td>40</td>\n",
       "      <td>Pune</td>\n",
       "    </tr>\n",
       "  </tbody>\n",
       "</table>\n",
       "</div>"
      ],
      "text/plain": [
       "      Name  Age    City\n",
       "0  Muzmmil   30   Latur\n",
       "1     Jiya   35  Mumbai\n",
       "2   Najmin   40    Pune"
      ]
     },
     "execution_count": 31,
     "metadata": {},
     "output_type": "execute_result"
    }
   ],
   "source": [
    "df"
   ]
  },
  {
   "cell_type": "code",
   "execution_count": 32,
   "id": "3a86c407",
   "metadata": {},
   "outputs": [
    {
     "data": {
      "text/html": [
       "<div>\n",
       "<style scoped>\n",
       "    .dataframe tbody tr th:only-of-type {\n",
       "        vertical-align: middle;\n",
       "    }\n",
       "\n",
       "    .dataframe tbody tr th {\n",
       "        vertical-align: top;\n",
       "    }\n",
       "\n",
       "    .dataframe thead th {\n",
       "        text-align: right;\n",
       "    }\n",
       "</style>\n",
       "<table border=\"1\" class=\"dataframe\">\n",
       "  <thead>\n",
       "    <tr style=\"text-align: right;\">\n",
       "      <th></th>\n",
       "      <th>Region</th>\n",
       "      <th>Country</th>\n",
       "      <th>Item Type</th>\n",
       "      <th>Sales Channel</th>\n",
       "      <th>Order Priority</th>\n",
       "      <th>Order Date</th>\n",
       "      <th>Order ID</th>\n",
       "      <th>Ship Date</th>\n",
       "      <th>Units Sold</th>\n",
       "      <th>Unit Price</th>\n",
       "      <th>Unit Cost</th>\n",
       "      <th>Total Revenue</th>\n",
       "      <th>Total Cost</th>\n",
       "      <th>Total Profit</th>\n",
       "    </tr>\n",
       "  </thead>\n",
       "  <tbody>\n",
       "    <tr>\n",
       "      <th>0</th>\n",
       "      <td>Middle East and North Africa</td>\n",
       "      <td>Libya</td>\n",
       "      <td>Cosmetics</td>\n",
       "      <td>Offline</td>\n",
       "      <td>M</td>\n",
       "      <td>10/18/2014</td>\n",
       "      <td>686800706</td>\n",
       "      <td>10/31/2014</td>\n",
       "      <td>8446</td>\n",
       "      <td>437.20</td>\n",
       "      <td>263.33</td>\n",
       "      <td>3692591.20</td>\n",
       "      <td>2224085.18</td>\n",
       "      <td>1468506.02</td>\n",
       "    </tr>\n",
       "    <tr>\n",
       "      <th>1</th>\n",
       "      <td>North America</td>\n",
       "      <td>Canada</td>\n",
       "      <td>Vegetables</td>\n",
       "      <td>Online</td>\n",
       "      <td>M</td>\n",
       "      <td>11/7/2011</td>\n",
       "      <td>185941302</td>\n",
       "      <td>12/8/2011</td>\n",
       "      <td>3018</td>\n",
       "      <td>154.06</td>\n",
       "      <td>90.93</td>\n",
       "      <td>464953.08</td>\n",
       "      <td>274426.74</td>\n",
       "      <td>190526.34</td>\n",
       "    </tr>\n",
       "    <tr>\n",
       "      <th>2</th>\n",
       "      <td>Middle East and North Africa</td>\n",
       "      <td>Libya</td>\n",
       "      <td>Baby Food</td>\n",
       "      <td>Offline</td>\n",
       "      <td>C</td>\n",
       "      <td>10/31/2016</td>\n",
       "      <td>246222341</td>\n",
       "      <td>12/9/2016</td>\n",
       "      <td>1517</td>\n",
       "      <td>255.28</td>\n",
       "      <td>159.42</td>\n",
       "      <td>387259.76</td>\n",
       "      <td>241840.14</td>\n",
       "      <td>145419.62</td>\n",
       "    </tr>\n",
       "    <tr>\n",
       "      <th>3</th>\n",
       "      <td>Asia</td>\n",
       "      <td>Japan</td>\n",
       "      <td>Cereal</td>\n",
       "      <td>Offline</td>\n",
       "      <td>C</td>\n",
       "      <td>4/10/2010</td>\n",
       "      <td>161442649</td>\n",
       "      <td>5/12/2010</td>\n",
       "      <td>3322</td>\n",
       "      <td>205.70</td>\n",
       "      <td>117.11</td>\n",
       "      <td>683335.40</td>\n",
       "      <td>389039.42</td>\n",
       "      <td>294295.98</td>\n",
       "    </tr>\n",
       "    <tr>\n",
       "      <th>4</th>\n",
       "      <td>Sub-Saharan Africa</td>\n",
       "      <td>Chad</td>\n",
       "      <td>Fruits</td>\n",
       "      <td>Offline</td>\n",
       "      <td>H</td>\n",
       "      <td>8/16/2011</td>\n",
       "      <td>645713555</td>\n",
       "      <td>8/31/2011</td>\n",
       "      <td>9845</td>\n",
       "      <td>9.33</td>\n",
       "      <td>6.92</td>\n",
       "      <td>91853.85</td>\n",
       "      <td>68127.40</td>\n",
       "      <td>23726.45</td>\n",
       "    </tr>\n",
       "  </tbody>\n",
       "</table>\n",
       "</div>"
      ],
      "text/plain": [
       "                         Region Country   Item Type Sales Channel  \\\n",
       "0  Middle East and North Africa   Libya   Cosmetics       Offline   \n",
       "1                 North America  Canada  Vegetables        Online   \n",
       "2  Middle East and North Africa   Libya   Baby Food       Offline   \n",
       "3                          Asia   Japan      Cereal       Offline   \n",
       "4            Sub-Saharan Africa    Chad      Fruits       Offline   \n",
       "\n",
       "  Order Priority  Order Date   Order ID   Ship Date  Units Sold  Unit Price  \\\n",
       "0              M  10/18/2014  686800706  10/31/2014        8446      437.20   \n",
       "1              M   11/7/2011  185941302   12/8/2011        3018      154.06   \n",
       "2              C  10/31/2016  246222341   12/9/2016        1517      255.28   \n",
       "3              C   4/10/2010  161442649   5/12/2010        3322      205.70   \n",
       "4              H   8/16/2011  645713555   8/31/2011        9845        9.33   \n",
       "\n",
       "   Unit Cost  Total Revenue  Total Cost  Total Profit  \n",
       "0     263.33     3692591.20  2224085.18    1468506.02  \n",
       "1      90.93      464953.08   274426.74     190526.34  \n",
       "2     159.42      387259.76   241840.14     145419.62  \n",
       "3     117.11      683335.40   389039.42     294295.98  \n",
       "4       6.92       91853.85    68127.40      23726.45  "
      ]
     },
     "execution_count": 32,
     "metadata": {},
     "output_type": "execute_result"
    }
   ],
   "source": [
    "# Display the DataFrame\n",
    "sales_df.head()\n"
   ]
  },
  {
   "cell_type": "code",
   "execution_count": 33,
   "id": "1adc2e0d",
   "metadata": {},
   "outputs": [
    {
     "data": {
      "text/html": [
       "<div>\n",
       "<style scoped>\n",
       "    .dataframe tbody tr th:only-of-type {\n",
       "        vertical-align: middle;\n",
       "    }\n",
       "\n",
       "    .dataframe tbody tr th {\n",
       "        vertical-align: top;\n",
       "    }\n",
       "\n",
       "    .dataframe thead th {\n",
       "        text-align: right;\n",
       "    }\n",
       "</style>\n",
       "<table border=\"1\" class=\"dataframe\">\n",
       "  <thead>\n",
       "    <tr style=\"text-align: right;\">\n",
       "      <th></th>\n",
       "      <th>Order ID</th>\n",
       "      <th>Units Sold</th>\n",
       "      <th>Unit Price</th>\n",
       "      <th>Unit Cost</th>\n",
       "      <th>Total Revenue</th>\n",
       "      <th>Total Cost</th>\n",
       "      <th>Total Profit</th>\n",
       "    </tr>\n",
       "  </thead>\n",
       "  <tbody>\n",
       "    <tr>\n",
       "      <th>count</th>\n",
       "      <td>1.000000e+03</td>\n",
       "      <td>1000.000000</td>\n",
       "      <td>1000.00000</td>\n",
       "      <td>1000.000000</td>\n",
       "      <td>1.000000e+03</td>\n",
       "      <td>1.000000e+03</td>\n",
       "      <td>1.000000e+03</td>\n",
       "    </tr>\n",
       "    <tr>\n",
       "      <th>mean</th>\n",
       "      <td>5.496813e+08</td>\n",
       "      <td>5053.988000</td>\n",
       "      <td>262.10684</td>\n",
       "      <td>184.965110</td>\n",
       "      <td>1.327322e+06</td>\n",
       "      <td>9.361192e+05</td>\n",
       "      <td>3.912026e+05</td>\n",
       "    </tr>\n",
       "    <tr>\n",
       "      <th>std</th>\n",
       "      <td>2.571334e+08</td>\n",
       "      <td>2901.375317</td>\n",
       "      <td>216.02106</td>\n",
       "      <td>175.289311</td>\n",
       "      <td>1.486515e+06</td>\n",
       "      <td>1.162571e+06</td>\n",
       "      <td>3.836402e+05</td>\n",
       "    </tr>\n",
       "    <tr>\n",
       "      <th>min</th>\n",
       "      <td>1.029280e+08</td>\n",
       "      <td>13.000000</td>\n",
       "      <td>9.33000</td>\n",
       "      <td>6.920000</td>\n",
       "      <td>2.043250e+03</td>\n",
       "      <td>1.416750e+03</td>\n",
       "      <td>5.326100e+02</td>\n",
       "    </tr>\n",
       "    <tr>\n",
       "      <th>25%</th>\n",
       "      <td>3.280740e+08</td>\n",
       "      <td>2420.250000</td>\n",
       "      <td>81.73000</td>\n",
       "      <td>56.670000</td>\n",
       "      <td>2.811919e+05</td>\n",
       "      <td>1.649319e+05</td>\n",
       "      <td>9.837612e+04</td>\n",
       "    </tr>\n",
       "    <tr>\n",
       "      <th>50%</th>\n",
       "      <td>5.566097e+08</td>\n",
       "      <td>5184.000000</td>\n",
       "      <td>154.06000</td>\n",
       "      <td>97.440000</td>\n",
       "      <td>7.549392e+05</td>\n",
       "      <td>4.647261e+05</td>\n",
       "      <td>2.772260e+05</td>\n",
       "    </tr>\n",
       "    <tr>\n",
       "      <th>75%</th>\n",
       "      <td>7.696945e+08</td>\n",
       "      <td>7536.750000</td>\n",
       "      <td>421.89000</td>\n",
       "      <td>263.330000</td>\n",
       "      <td>1.733503e+06</td>\n",
       "      <td>1.141750e+06</td>\n",
       "      <td>5.484568e+05</td>\n",
       "    </tr>\n",
       "    <tr>\n",
       "      <th>max</th>\n",
       "      <td>9.955298e+08</td>\n",
       "      <td>9998.000000</td>\n",
       "      <td>668.27000</td>\n",
       "      <td>524.960000</td>\n",
       "      <td>6.617210e+06</td>\n",
       "      <td>5.204978e+06</td>\n",
       "      <td>1.726181e+06</td>\n",
       "    </tr>\n",
       "  </tbody>\n",
       "</table>\n",
       "</div>"
      ],
      "text/plain": [
       "           Order ID   Units Sold  Unit Price    Unit Cost  Total Revenue  \\\n",
       "count  1.000000e+03  1000.000000  1000.00000  1000.000000   1.000000e+03   \n",
       "mean   5.496813e+08  5053.988000   262.10684   184.965110   1.327322e+06   \n",
       "std    2.571334e+08  2901.375317   216.02106   175.289311   1.486515e+06   \n",
       "min    1.029280e+08    13.000000     9.33000     6.920000   2.043250e+03   \n",
       "25%    3.280740e+08  2420.250000    81.73000    56.670000   2.811919e+05   \n",
       "50%    5.566097e+08  5184.000000   154.06000    97.440000   7.549392e+05   \n",
       "75%    7.696945e+08  7536.750000   421.89000   263.330000   1.733503e+06   \n",
       "max    9.955298e+08  9998.000000   668.27000   524.960000   6.617210e+06   \n",
       "\n",
       "         Total Cost  Total Profit  \n",
       "count  1.000000e+03  1.000000e+03  \n",
       "mean   9.361192e+05  3.912026e+05  \n",
       "std    1.162571e+06  3.836402e+05  \n",
       "min    1.416750e+03  5.326100e+02  \n",
       "25%    1.649319e+05  9.837612e+04  \n",
       "50%    4.647261e+05  2.772260e+05  \n",
       "75%    1.141750e+06  5.484568e+05  \n",
       "max    5.204978e+06  1.726181e+06  "
      ]
     },
     "execution_count": 33,
     "metadata": {},
     "output_type": "execute_result"
    }
   ],
   "source": [
    "sales_df.describe()  # Get summary statistics of the DataFrame"
   ]
  },
  {
   "cell_type": "code",
   "execution_count": null,
   "id": "bd84ac66",
   "metadata": {},
   "outputs": [],
   "source": []
  }
 ],
 "metadata": {
  "kernelspec": {
   "display_name": "Python 3",
   "language": "python",
   "name": "python3"
  },
  "language_info": {
   "codemirror_mode": {
    "name": "ipython",
    "version": 3
   },
   "file_extension": ".py",
   "mimetype": "text/x-python",
   "name": "python",
   "nbconvert_exporter": "python",
   "pygments_lexer": "ipython3",
   "version": "3.12.11"
  }
 },
 "nbformat": 4,
 "nbformat_minor": 5
}
