{
 "cells": [
  {
   "cell_type": "markdown",
   "id": "be668578",
   "metadata": {},
   "source": [
    "### Conditional Statements(if, elif, else)"
   ]
  },
  {
   "cell_type": "markdown",
   "id": "cec95ec5",
   "metadata": {},
   "source": [
    "### if Statements"
   ]
  },
  {
   "cell_type": "code",
   "execution_count": 3,
   "id": "b932a080",
   "metadata": {},
   "outputs": [
    {
     "name": "stdout",
     "output_type": "stream",
     "text": [
      "You are eligible to vote\n"
     ]
    }
   ],
   "source": [
    "## if statements\n",
    "# An if statement is used to test a condition and execute a block of code if the condition is true.\n",
    "age = 20\n",
    "if age >= 18:\n",
    "    print(\"You are eligible to vote\")  # This will print if the condition is true\n"
   ]
  },
  {
   "cell_type": "markdown",
   "id": "163dc440",
   "metadata": {},
   "source": [
    "### else statements"
   ]
  },
  {
   "cell_type": "code",
   "execution_count": 4,
   "id": "4080e45f",
   "metadata": {},
   "outputs": [
    {
     "name": "stdout",
     "output_type": "stream",
     "text": [
      "You are not eligible to vote\n"
     ]
    }
   ],
   "source": [
    "## else statements\n",
    "# An else statement is used to execute a block of code if the condition in the if statement is false.\n",
    "age = 16\n",
    "if age >= 18:\n",
    "    print(\"You are eligible to vote\")  # This will print if the condition is true\n",
    "else:\n",
    "    print(\"You are not eligible to vote\")"
   ]
  },
  {
   "cell_type": "markdown",
   "id": "e9e21ee7",
   "metadata": {},
   "source": [
    "### elif Statements"
   ]
  },
  {
   "cell_type": "code",
   "execution_count": 6,
   "id": "28b73769",
   "metadata": {},
   "outputs": [
    {
     "name": "stdout",
     "output_type": "stream",
     "text": [
      "You are a teenager\n"
     ]
    }
   ],
   "source": [
    "## elif statements\n",
    "# An elif statement is used to test multiple conditions. If the first condition is false, it checks the next condition, and so on.\n",
    "age = 17\n",
    "if age < 13:\n",
    "    print(\"You are a child\")  # This will print if the condition is true\n",
    "elif age < 18:\n",
    "    print(\"You are a teenager\")  # This will print if the previous condition is false and this condition is true\n",
    "else:\n",
    "    print(\"You are an adult\")"
   ]
  },
  {
   "cell_type": "markdown",
   "id": "2c827be9",
   "metadata": {},
   "source": [
    "### Nested Conditional Statements"
   ]
  },
  {
   "cell_type": "code",
   "execution_count": 8,
   "id": "221e4fd2",
   "metadata": {},
   "outputs": [
    {
     "name": "stdout",
     "output_type": "stream",
     "text": [
      "The number is negative or zero\n",
      "The number is negative\n"
     ]
    }
   ],
   "source": [
    "## Nested Conditional Statements\n",
    "# Nested conditional statements are if statements inside another if statement. This allows for more complex decision-making.\n",
    "num = int(input(\"Enter a number: \"))\n",
    "if num > 0:\n",
    "    print(\"The number is positive\")\n",
    "    if num % 2 == 0:\n",
    "        print(\"The number is even\")\n",
    "    else:\n",
    "        print(\"The number is odd\")\n",
    "else:\n",
    "    print(\"The number is negative or zero\")\n",
    "    if num == 0:\n",
    "        print(\"The number is zero\")\n",
    "    else:\n",
    "        print(\"The number is negative\")\n",
    "# This code checks if the number is positive, negative, or zero, and also checks if the positive number is even or odd. "
   ]
  },
  {
   "cell_type": "code",
   "execution_count": 9,
   "id": "44a9b582",
   "metadata": {},
   "outputs": [],
   "source": [
    "## Use cases of Conditional Statements\n",
    "# Conditional statements are used in various scenarios, such as:\n",
    "# 1. User authentication: Checking if a user is logged in or not.\n",
    "# 2. Form validation: Checking if the input fields are filled correctly.\n",
    "# 3. Game logic: Determining the outcome of a player's action based on certain conditions.\n",
    "# 4. Data processing: Filtering data based on specific criteria.\n",
    "# 5. Feature toggling: Enabling or disabling features based on user preferences or settings.\n",
    "# 6. Error handling: Executing different code paths based on the success or failure of operations.\n",
    "# 7. Decision-making: Making choices based on user input or system state.   "
   ]
  },
  {
   "cell_type": "code",
   "execution_count": 13,
   "id": "57d9432d",
   "metadata": {},
   "outputs": [
    {
     "name": "stdout",
     "output_type": "stream",
     "text": [
      "2023 is not a leap year\n",
      "February has 28 days.\n"
     ]
    }
   ],
   "source": [
    "## Practice Exercise\n",
    "# Determine if a year is a leap year or not.\n",
    "year = int(input(\"Enter a year: \"))\n",
    "if year%4 == 0:\n",
    "    if year%100 == 0:\n",
    "        if year%400 == 0:\n",
    "            print(f\"{year} is a leap year\")\n",
    "        else:\n",
    "            print(f\"{year} is not a leap year\")\n",
    "    else:\n",
    "        print(f\"{year} is a leap year\")\n",
    "        print(\"February has 29 days.\")\n",
    "else:\n",
    "    print(f\"{year} is not a leap year\")\n",
    "    print(\"February has 28 days.\")\n",
    "\n"
   ]
  },
  {
   "cell_type": "code",
   "execution_count": 16,
   "id": "38e075d9",
   "metadata": {},
   "outputs": [
    {
     "name": "stdout",
     "output_type": "stream",
     "text": [
      "4.0 / 2.0 = 2.0\n"
     ]
    }
   ],
   "source": [
    "## simple calculator\n",
    "num1 = float(input(\"Enter first number: \"))\n",
    "num2 = float(input(\"Enter second number: \"))\n",
    "operation = input(\"Enter operation (+, -, *, /): \") \n",
    "\n",
    "if operation == '+':\n",
    "    result = num1 + num2\n",
    "    print(f\"{num1} + {num2} = {result}\")\n",
    "elif operation == '-':\n",
    "    result = num1 - num2\n",
    "    print(f\"{num1} - {num2} = {result}\")\n",
    "elif operation == '*':\n",
    "    result = num1 * num2\n",
    "    print(f\"{num1} * {num2} = {result}\")\n",
    "elif operation == '/':\n",
    "    if num2 != 0:\n",
    "        result = num1 / num2\n",
    "        print(f\"{num1} / {num2} = {result}\")\n",
    "    else:\n",
    "        print(\"Error: Division by zero is not allowed.\")\n",
    "else:\n",
    "    print(\"Error: Invalid operation. Please enter one of +, -, *, /.\")"
   ]
  },
  {
   "cell_type": "code",
   "execution_count": null,
   "id": "d396ef36",
   "metadata": {},
   "outputs": [],
   "source": []
  }
 ],
 "metadata": {
  "kernelspec": {
   "display_name": "Python 3",
   "language": "python",
   "name": "python3"
  },
  "language_info": {
   "codemirror_mode": {
    "name": "ipython",
    "version": 3
   },
   "file_extension": ".py",
   "mimetype": "text/x-python",
   "name": "python",
   "nbconvert_exporter": "python",
   "pygments_lexer": "ipython3",
   "version": "3.12.11"
  }
 },
 "nbformat": 4,
 "nbformat_minor": 5
}
