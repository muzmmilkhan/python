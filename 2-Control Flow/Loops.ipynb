{
 "cells": [
  {
   "cell_type": "markdown",
   "id": "6f99d26c",
   "metadata": {},
   "source": [
    "## Loops In Python\n",
    "\n",
    "Loops are programming constructs that allow you to execute a block of code repeatedly. In Python, loops are essential for automating repetitive tasks and iterating over data structures.\n",
    "\n",
    "## Types of Loops in Python\n",
    "\n",
    "1. **For Loop**: Used to iterate over a sequence (like lists, tuples, strings, or ranges)\n",
    "2. **While Loop**: Executes a block of code as long as a specified condition is true\n",
    "\n",
    "Loops help make code more efficient and reduce redundancy by avoiding the need to write the same code multiple times."
   ]
  },
  {
   "cell_type": "markdown",
   "id": "20ede8f2",
   "metadata": {},
   "source": [
    "### for loop"
   ]
  },
  {
   "cell_type": "code",
   "execution_count": 7,
   "id": "493ced48",
   "metadata": {},
   "outputs": [
    {
     "name": "stdout",
     "output_type": "stream",
     "text": [
      "apple\n",
      "banana\n",
      "cherry\n"
     ]
    }
   ],
   "source": [
    "\n",
    "# A for loop is used to iterate over a sequence (like a list, tuple, or string) and execute a block of code for each item in the sequence.\n",
    "fruits = [\"apple\", \"banana\", \"cherry\"]\n",
    "for fruit in fruits:\n",
    "    print(fruit)  # This will print each fruit in the list"
   ]
  },
  {
   "cell_type": "code",
   "execution_count": 8,
   "id": "af7a17a4",
   "metadata": {},
   "outputs": [
    {
     "name": "stdout",
     "output_type": "stream",
     "text": [
      "0\n",
      "1\n",
      "2\n",
      "3\n",
      "4\n"
     ]
    }
   ],
   "source": [
    "for i in range(5):\n",
    "    print(i)  # This will print numbers from 0 to 4"
   ]
  },
  {
   "cell_type": "code",
   "execution_count": 9,
   "id": "dde46fbe",
   "metadata": {},
   "outputs": [
    {
     "name": "stdout",
     "output_type": "stream",
     "text": [
      "1\n",
      "2\n",
      "3\n",
      "4\n",
      "5\n"
     ]
    }
   ],
   "source": [
    "for i in range(1, 6):\n",
    "    print(i)  # This will print numbers from 1 to 5"
   ]
  },
  {
   "cell_type": "code",
   "execution_count": 10,
   "id": "5f74f8e7",
   "metadata": {},
   "outputs": [
    {
     "name": "stdout",
     "output_type": "stream",
     "text": [
      "1\n",
      "3\n",
      "5\n",
      "7\n",
      "9\n"
     ]
    }
   ],
   "source": [
    "for i in range(1, 11, 2):\n",
    "    print(i)  # This will print odd numbers from 1 to 9"
   ]
  },
  {
   "cell_type": "code",
   "execution_count": 11,
   "id": "dc8b6de0",
   "metadata": {},
   "outputs": [
    {
     "name": "stdout",
     "output_type": "stream",
     "text": [
      "10\n",
      "9\n",
      "8\n",
      "7\n",
      "6\n",
      "5\n",
      "4\n",
      "3\n",
      "2\n",
      "1\n"
     ]
    }
   ],
   "source": [
    "for i in range(10, 0, -1):\n",
    "    print(i)  # This will print numbers from 10 to 1 in reverse order"
   ]
  },
  {
   "cell_type": "code",
   "execution_count": 12,
   "id": "58a69c40",
   "metadata": {},
   "outputs": [
    {
     "name": "stdout",
     "output_type": "stream",
     "text": [
      "H\n",
      "e\n",
      "l\n",
      "l\n",
      "o\n"
     ]
    }
   ],
   "source": [
    "string = \"Hello\"\n",
    "for char in string:\n",
    "    print(char)  # This will print each character in the string"
   ]
  },
  {
   "cell_type": "markdown",
   "id": "c110bd77",
   "metadata": {},
   "source": [
    "### While Loop"
   ]
  },
  {
   "cell_type": "code",
   "execution_count": 13,
   "id": "5f9468d1",
   "metadata": {},
   "outputs": [
    {
     "name": "stdout",
     "output_type": "stream",
     "text": [
      "0\n",
      "1\n",
      "2\n",
      "3\n",
      "4\n"
     ]
    }
   ],
   "source": [
    "#while loop is used to repeatedly execute a block of code as long as a specified condition is true.\n",
    "count = 0\n",
    "while count < 5:\n",
    "    print(count)  # This will print numbers from 0 to 4\n",
    "    count += 1  # Increment count by 1 each time the loop runs"
   ]
  },
  {
   "cell_type": "markdown",
   "id": "444c9214",
   "metadata": {},
   "source": [
    "### Loops controle statement"
   ]
  },
  {
   "cell_type": "code",
   "execution_count": 14,
   "id": "35eef43e",
   "metadata": {},
   "outputs": [
    {
     "name": "stdout",
     "output_type": "stream",
     "text": [
      "0\n",
      "1\n",
      "2\n",
      "3\n",
      "4\n"
     ]
    }
   ],
   "source": [
    "## break statement is used to exit a loop prematurely.\n",
    "for i in range(10):\n",
    "    if i == 5:\n",
    "        break  # This will exit the loop when i is 5\n",
    "    print(i)    "
   ]
  },
  {
   "cell_type": "code",
   "execution_count": 15,
   "id": "283cf812",
   "metadata": {},
   "outputs": [
    {
     "name": "stdout",
     "output_type": "stream",
     "text": [
      "1\n",
      "3\n",
      "5\n",
      "7\n",
      "9\n"
     ]
    }
   ],
   "source": [
    "# continue statement is used to skip the current iteration of a loop and move to the next iteration.\n",
    "for i in range(10):\n",
    "    if i % 2 == 0:\n",
    "        continue  # This will skip even numbers\n",
    "    print(i)  # This will print only odd numbers"
   ]
  },
  {
   "cell_type": "code",
   "execution_count": 16,
   "id": "45c6ab8f",
   "metadata": {},
   "outputs": [
    {
     "name": "stdout",
     "output_type": "stream",
     "text": [
      "0\n",
      "1\n",
      "2\n",
      "3\n",
      "4\n"
     ]
    }
   ],
   "source": [
    "## pass statement is a null operation; it does nothing when executed.\n",
    "for i in range(5):\n",
    "    if i == 2:\n",
    "        pass  # This will do nothing when i is 2\n",
    "    print(i)  # This will print numbers from 0 to 4, including 2        "
   ]
  },
  {
   "cell_type": "markdown",
   "id": "6cb6cc0e",
   "metadata": {},
   "source": [
    "### Nested Loops"
   ]
  },
  {
   "cell_type": "code",
   "execution_count": 17,
   "id": "22c64ae9",
   "metadata": {},
   "outputs": [
    {
     "name": "stdout",
     "output_type": "stream",
     "text": [
      "i: 0, j: 0\n",
      "i: 0, j: 1\n",
      "i: 1, j: 0\n",
      "i: 1, j: 1\n",
      "i: 2, j: 0\n",
      "i: 2, j: 1\n"
     ]
    }
   ],
   "source": [
    "## Nested loops are loops inside another loop. The inner loop runs completely for each iteration of the outer loop.\n",
    "for i in range(3):  # Outer loop\n",
    "    for j in range(2):  # Inner loop\n",
    "        print(f\"i: {i}, j: {j}\")  # This will print pairs of i and j values\n",
    "# This will print:\n",
    "# i: 0, j: 0\n",
    "# i: 0, j: 1\n",
    "# i: 1, j: 0\n",
    "# i: 1, j: 1\n",
    "# i: 2, j: 0\n",
    "# i: 2, j: 1    "
   ]
  },
  {
   "cell_type": "code",
   "execution_count": 18,
   "id": "bb071426",
   "metadata": {},
   "outputs": [
    {
     "name": "stdout",
     "output_type": "stream",
     "text": [
      "15\n"
     ]
    }
   ],
   "source": [
    "# calculating the sum of numbers from 1 to 5 using a for loop\n",
    "total = 0\n",
    "for i in range(1, 6):\n",
    "    total += i  # Add each number to total\n",
    "print(total)  # This will print 15, which is the sum of numbers from 1 to 5 "
   ]
  },
  {
   "cell_type": "code",
   "execution_count": 19,
   "id": "b2363b4b",
   "metadata": {},
   "outputs": [
    {
     "name": "stdout",
     "output_type": "stream",
     "text": [
      "15\n"
     ]
    }
   ],
   "source": [
    "# using a while loop to calculate the sum of numbers from 1 to 5\n",
    "total = 0\n",
    "count = 1\n",
    "while count <= 5:\n",
    "    total += count  # Add count to total\n",
    "    count += 1  # Increment count by 1\n",
    "print(total)  # This will also print 15, which is the sum of numbers from"
   ]
  },
  {
   "cell_type": "code",
   "execution_count": 20,
   "id": "5a62d756",
   "metadata": {},
   "outputs": [
    {
     "name": "stdout",
     "output_type": "stream",
     "text": [
      "2\n",
      "3\n",
      "5\n",
      "7\n",
      "11\n",
      "13\n",
      "17\n",
      "19\n"
     ]
    }
   ],
   "source": [
    "# Prime numbers are numbers greater than 1 that have no divisors other than 1 and themselves.\n",
    "# A simple way to check for prime numbers is to iterate through numbers and check if they are divisible by any number other than 1 and themselves.\n",
    "for num in range(2, 21):  # Check numbers from 2 to 20\n",
    "    is_prime = True  # Assume the number is prime\n",
    "    for i in range(2, int(num**0.5) + 1):  # Check divisibility from 2 to the square root of num\n",
    "        if num % i == 0:  # If num is divisible by i\n",
    "            is_prime = False  # It's not a prime number\n",
    "            break  # Exit the inner loop\n",
    "    if is_prime:\n",
    "        print(num)  # Print the prime number\n",
    "# This will print prime numbers between 2 and 20: 2, 3, 5, 7, 11, 13, 17, 19\n",
    "# Note: The range can be adjusted to check for prime numbers in a different range."
   ]
  },
  {
   "cell_type": "code",
   "execution_count": null,
   "id": "cbf7bb8b",
   "metadata": {},
   "outputs": [],
   "source": [
    "# conculsion:\n",
    "# Loops are essential for iterating over sequences and performing repetitive tasks in Python.\n",
    "# The for loop is used for iterating over sequences, while the while loop is used for executing a block of code as long as a condition is true.\n",
    "# Control statements like break, continue, and pass allow for more control over loop execution.\n",
    "# Nested loops enable complex iterations, and loops can be used for various tasks, such as calculating sums or checking for prime numbers.\n",
    "# Understanding loops is crucial for efficient programming and automating repetitive tasks in Python."
   ]
  }
 ],
 "metadata": {
  "kernelspec": {
   "display_name": "Python 3",
   "language": "python",
   "name": "python3"
  },
  "language_info": {
   "codemirror_mode": {
    "name": "ipython",
    "version": 3
   },
   "file_extension": ".py",
   "mimetype": "text/x-python",
   "name": "python",
   "nbconvert_exporter": "python",
   "pygments_lexer": "ipython3",
   "version": "3.12.11"
  }
 },
 "nbformat": 4,
 "nbformat_minor": 5
}
