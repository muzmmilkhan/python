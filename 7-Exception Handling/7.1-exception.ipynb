{
 "cells": [
  {
   "cell_type": "markdown",
   "id": "67736f64",
   "metadata": {},
   "source": [
    "# Exception Handling\n",
    "## Definition\n",
    "\n",
    "Exception handling is a programming construct that allows you to catch and manage runtime errors gracefully, preventing your program from crashing unexpectedly. It enables you to anticipate potential problems, handle them appropriately, and maintain program flow even when errors occur.\n",
    "\n",
    "Key components:\n",
    "- **Try block**: Contains code that might raise an exception\n",
    "- **Except block**: Handles specific exceptions when they occur\n",
    "- **Finally block**: Executes cleanup code regardless of whether an exception occurred\n",
    "- **Raise statement**: Manually triggers an exception\n",
    "\n",
    "Exception handling improves code reliability and provides better user experience by managing errors in a controlled manner."
   ]
  },
  {
   "cell_type": "markdown",
   "id": "ef6079ae",
   "metadata": {},
   "source": [
    "## Common Errors\n",
    "\n",
    "Here are some frequently encountered errors in programming:\n",
    "\n",
    "### 1. **SyntaxError**\n",
    "- Missing colons, parentheses, or quotes\n",
    "- Incorrect indentation\n",
    "- Invalid Python syntax\n",
    "\n",
    "### 2. **NameError**\n",
    "- Using undefined variables or functions\n",
    "- Typos in variable names\n",
    "- Calling functions before they're defined\n",
    "\n",
    "### 3. **TypeError**\n",
    "- Mixing incompatible data types\n",
    "- Calling non-callable objects\n",
    "- Wrong number of arguments to functions\n",
    "\n",
    "### 4. **IndexError**\n",
    "- Accessing list/string indices that don't exist\n",
    "- Empty sequences when expecting elements\n",
    "\n",
    "### 5. **KeyError**\n",
    "- Accessing dictionary keys that don't exist\n",
    "- Typos in key names\n",
    "\n",
    "### 6. **ValueError**\n",
    "- Invalid arguments to functions\n",
    "- Type conversion failures (e.g., `int(\"hello\")`)\n",
    "\n",
    "### 7. **ZeroDivisionError**\n",
    "- Dividing by zero in mathematical operations\n",
    "\n",
    "### 8. **FileNotFoundError**\n",
    "- Trying to open non-existent files\n",
    "- Incorrect file paths\n",
    "\n",
    "### 9. **AttributeError**\n",
    "- Calling methods that don't exist on objects\n",
    "- Accessing attributes of None objects\n",
    "\n",
    "Understanding these common errors helps in debugging and writing more robust code."
   ]
  },
  {
   "cell_type": "code",
   "execution_count": 1,
   "id": "253c7fa5",
   "metadata": {},
   "outputs": [
    {
     "name": "stdout",
     "output_type": "stream",
     "text": [
      "Error: Division by zero is not allowed.\n"
     ]
    }
   ],
   "source": [
    "## Exception Handling\n",
    "\n",
    "try:\n",
    "    # Code that may raise an exception\n",
    "    result = 10 / 0\n",
    "except ZeroDivisionError:\n",
    "    print(\"Error: Division by zero is not allowed.\")"
   ]
  },
  {
   "cell_type": "code",
   "execution_count": 2,
   "id": "cb9ec785",
   "metadata": {},
   "outputs": [
    {
     "name": "stdout",
     "output_type": "stream",
     "text": [
      "NameError: name 'b' is not defined\n"
     ]
    }
   ],
   "source": [
    "try:\n",
    "    a = b\n",
    "except NameError as e:\n",
    "    print(f\"NameError: {e}\")"
   ]
  },
  {
   "cell_type": "code",
   "execution_count": 3,
   "id": "3b127131",
   "metadata": {},
   "outputs": [
    {
     "name": "stdout",
     "output_type": "stream",
     "text": [
      "Error: The file does not exist.\n"
     ]
    }
   ],
   "source": [
    "try:\n",
    "    # Code that may raise an exception\n",
    "    with open('non_existent_file.txt', 'r') as file:\n",
    "        content = file.read()\n",
    "except FileNotFoundError:\n",
    "    print(\"Error: The file does not exist.\")"
   ]
  },
  {
   "cell_type": "code",
   "execution_count": 12,
   "id": "e69803e3",
   "metadata": {},
   "outputs": [
    {
     "name": "stdout",
     "output_type": "stream",
     "text": [
      "An unexpected error occurred: name 'c' is not defined\n",
      "Handling unexpected error.\n"
     ]
    }
   ],
   "source": [
    "try:\n",
    "    a = c\n",
    "    10 / 0\n",
    "except ZeroDivisionError as e:\n",
    "    print(f\"ZeroDivisionError: {e}\")\n",
    "    print(\"Handling division by zero error.\")\n",
    "except Exception as e:\n",
    "    print(f\"An unexpected error occurred: {e}\")\n",
    "    print(\"Handling unexpected error.\")"
   ]
  },
  {
   "cell_type": "code",
   "execution_count": 16,
   "id": "d7a3e1ce",
   "metadata": {},
   "outputs": [
    {
     "name": "stdout",
     "output_type": "stream",
     "text": [
      "ValueError: invalid literal for int() with base 10: '%'\n",
      "Please enter a valid number.\n"
     ]
    }
   ],
   "source": [
    "try:\n",
    "    num = int(input(\"Enter a number: \"))\n",
    "    result = 100 / num\n",
    "except ValueError as e:\n",
    "    print(f\"ValueError: {e}\")\n",
    "    print(\"Please enter a valid number.\")\n",
    "except ZeroDivisionError as e:\n",
    "    print(f\"ZeroDivisionError: {e}\")\n",
    "    print(\"Division by zero is not allowed.\")\n",
    "except Exception as e:\n",
    "    print(f\"An unexpected error occurred: {e}\")\n",
    "    print(\"Handling unexpected error.\")"
   ]
  },
  {
   "cell_type": "code",
   "execution_count": 20,
   "id": "1ae4337d",
   "metadata": {},
   "outputs": [
    {
     "name": "stdout",
     "output_type": "stream",
     "text": [
      "Result: 4.3478260869565215\n"
     ]
    }
   ],
   "source": [
    "try:\n",
    "    num = int(input(\"Enter a number: \"))\n",
    "    result = 100 / num\n",
    "except ValueError as e:\n",
    "    print(f\"ValueError: {e}\")\n",
    "    print(\"Please enter a valid number.\")\n",
    "except ZeroDivisionError as e:\n",
    "    print(f\"ZeroDivisionError: {e}\")\n",
    "    print(\"Division by zero is not allowed.\")\n",
    "except Exception as e:\n",
    "    print(f\"An unexpected error occurred: {e}\")\n",
    "    print(\"Handling unexpected error.\")\n",
    "else:\n",
    "    print(f\"Result: {result}\")"
   ]
  },
  {
   "cell_type": "code",
   "execution_count": 23,
   "id": "65ee6083",
   "metadata": {},
   "outputs": [
    {
     "name": "stdout",
     "output_type": "stream",
     "text": [
      "ZeroDivisionError: division by zero\n",
      "Division by zero is not allowed.\n",
      "This block always executes, regardless of exceptions.\n"
     ]
    }
   ],
   "source": [
    "try:\n",
    "    num = int(input(\"Enter a number: \"))\n",
    "    result = 100 / num\n",
    "except ValueError as e:\n",
    "    print(f\"ValueError: {e}\")\n",
    "    print(\"Please enter a valid integer.\")\n",
    "except ZeroDivisionError as e:\n",
    "    print(f\"ZeroDivisionError: {e}\")\n",
    "    print(\"Division by zero is not allowed.\")\n",
    "except Exception as e:\n",
    "    print(f\"An unexpected error occurred: {e}\")\n",
    "    print(\"Handling unexpected error.\")\n",
    "else:\n",
    "    print(f\"Result: {result}\")\n",
    "finally:\n",
    "    print(\"This block always executes, regardless of exceptions.\")"
   ]
  },
  {
   "cell_type": "code",
   "execution_count": 29,
   "id": "e35ee413",
   "metadata": {},
   "outputs": [
    {
     "name": "stdout",
     "output_type": "stream",
     "text": [
      "FileNotFoundError: [Errno 2] No such file or directory: 'example2.txt'\n",
      "The file does not exist.\n",
      "File closed successfully.\n",
      "This block always executes, regardless of exceptions.\n"
     ]
    }
   ],
   "source": [
    "### file handling and exceptions handling\n",
    "\n",
    "try:\n",
    "    file = open('example2.txt', 'r')\n",
    "    content = file.read()\n",
    "except FileNotFoundError as e:\n",
    "    print(f\"FileNotFoundError: {e}\")\n",
    "    print(\"The file does not exist.\")\n",
    "except IOError as e:\n",
    "    print(f\"IOError: {e}\")\n",
    "    print(\"An error occurred while reading the file.\")\n",
    "except Exception as e:\n",
    "    print(f\"An unexpected error occurred: {e}\")\n",
    "    print(\"Handling unexpected error.\")\n",
    "else:\n",
    "    print(f\"File content:\\n{content}\")\n",
    "finally:\n",
    "    if 'file' in locals():\n",
    "        file.close()\n",
    "        print(\"File closed successfully.\")\n",
    "    else:\n",
    "        print(\"File was not opened, so no need to close it.\")\n",
    "    print(\"This block always executes, regardless of exceptions.\")"
   ]
  },
  {
   "cell_type": "code",
   "execution_count": null,
   "id": "b717cc6f",
   "metadata": {},
   "outputs": [],
   "source": []
  }
 ],
 "metadata": {
  "kernelspec": {
   "display_name": "Python 3",
   "language": "python",
   "name": "python3"
  },
  "language_info": {
   "codemirror_mode": {
    "name": "ipython",
    "version": 3
   },
   "file_extension": ".py",
   "mimetype": "text/x-python",
   "name": "python",
   "nbconvert_exporter": "python",
   "pygments_lexer": "ipython3",
   "version": "3.12.11"
  }
 },
 "nbformat": 4,
 "nbformat_minor": 5
}
