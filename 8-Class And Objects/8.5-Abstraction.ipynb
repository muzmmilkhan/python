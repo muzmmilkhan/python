{
 "cells": [
  {
   "cell_type": "markdown",
   "id": "2924b5a3",
   "metadata": {},
   "source": [
    "### Abstraction\n",
    "Abstraction is the process of hiding complex implementation details while exposing only the essential features and functionality. It allows developers to work with simplified interfaces without needing to understand the underlying complexity, making code more manageable, reusable, and easier to maintain."
   ]
  },
  {
   "cell_type": "code",
   "execution_count": 1,
   "id": "474b6946",
   "metadata": {},
   "outputs": [],
   "source": [
    "from abc import ABC, abstractmethod\n",
    "\n",
    "class Vehicle(ABC):\n",
    "    @abstractmethod\n",
    "    def display_info(self):\n",
    "        pass\n",
    "\n",
    "class Car(Vehicle):\n",
    "    def __init__(self, make, model):\n",
    "        self.make = make\n",
    "        self.model = model\n",
    "\n",
    "    def display_info(self):\n",
    "        return f\"Car Make: {self.make}, Model: {self.model}\"\n",
    "class Motorcycle(Vehicle):\n",
    "    def __init__(self, make, model):\n",
    "        self.make = make\n",
    "        self.model = model\n",
    "\n",
    "    def display_info(self):\n",
    "        return f\"Motorcycle Make: {self.make}, Model: {self.model}\"\n",
    "class Tesla(Car):\n",
    "    def __init__(self, make, model, year, battery_capacity, autopilot):\n",
    "        super().__init__(make, model)\n",
    "        self.year = year\n",
    "        self.battery_capacity = battery_capacity\n",
    "        self.autopilot = autopilot\n",
    "\n",
    "    def display_info(self):\n",
    "        autopilot_status = \"Enabled\" if self.autopilot else \"Disabled\"\n",
    "        return (f\"Tesla Make: {self.make}, Model: {self.model}, Year: {self.year}, \"\n",
    "                f\"Battery Capacity: {self.battery_capacity} kWh, Autopilot: {autopilot_status}\")"
   ]
  },
  {
   "cell_type": "code",
   "execution_count": 3,
   "id": "cb687dbc",
   "metadata": {},
   "outputs": [
    {
     "name": "stdout",
     "output_type": "stream",
     "text": [
      "Car Make: Honda, Model: Civic\n",
      "Motorcycle Make: Yamaha, Model: MT-07\n"
     ]
    }
   ],
   "source": [
    "car2 = Car(\"Honda\", \"Civic\")\n",
    "motorcycle = Motorcycle(\"Yamaha\", \"MT-07\")\n",
    "print(car2.display_info())\n",
    "print(motorcycle.display_info())    \n"
   ]
  },
  {
   "cell_type": "code",
   "execution_count": 4,
   "id": "53e6ecdc",
   "metadata": {},
   "outputs": [
    {
     "data": {
      "text/plain": [
       "'Tesla Make: Tesla, Model: Model S, Year: 2023, Battery Capacity: 4 kWh, Autopilot: Enabled'"
      ]
     },
     "execution_count": 4,
     "metadata": {},
     "output_type": "execute_result"
    }
   ],
   "source": [
    "tesla = Tesla(\"Tesla\", \"Model S\", 2023, 4, True)\n",
    "tesla.display_info()"
   ]
  },
  {
   "cell_type": "code",
   "execution_count": null,
   "id": "d080e7d2",
   "metadata": {},
   "outputs": [],
   "source": []
  }
 ],
 "metadata": {
  "kernelspec": {
   "display_name": "Python 3",
   "language": "python",
   "name": "python3"
  },
  "language_info": {
   "codemirror_mode": {
    "name": "ipython",
    "version": 3
   },
   "file_extension": ".py",
   "mimetype": "text/x-python",
   "name": "python",
   "nbconvert_exporter": "python",
   "pygments_lexer": "ipython3",
   "version": "3.12.11"
  }
 },
 "nbformat": 4,
 "nbformat_minor": 5
}
