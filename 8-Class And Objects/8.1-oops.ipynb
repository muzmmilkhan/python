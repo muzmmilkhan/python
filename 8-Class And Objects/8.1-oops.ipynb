{
 "cells": [
  {
   "cell_type": "markdown",
   "id": "091258ef",
   "metadata": {},
   "source": [
    "### Class and Objects\n",
    "**Definition**: A class is a blueprint or template that defines the structure and behavior of objects. An object is an instance of a class that contains actual data and can perform actions defined by the class.\n",
    "\n",
    "- **Class**: Defines attributes (data) and methods (functions) that objects will have\n",
    "- **Object**: A specific instance created from a class with actual values for its attributes"
   ]
  },
  {
   "cell_type": "code",
   "execution_count": 17,
   "id": "981cd389",
   "metadata": {},
   "outputs": [],
   "source": [
    "class Car:\n",
    "    def __init__(self, make, model, year, widow): # Constructor method\n",
    "        \"\"\"Initializes a new instance of the Car class.\n",
    "        \"\"\"\n",
    "        self.make = make # This is an instance variable\n",
    "        self.model = model\n",
    "        self.year = year\n",
    "        self.widow = widow\n",
    "\n",
    "\n",
    "    def display_info(self): # This is an instance method\n",
    "        \"\"\"Displays the car's information.\"\"\"\n",
    "        print(f\"Car Make: {self.make}, Model: {self.model}, Year: {self.year}, Widow: {self.widow}\")"
   ]
  },
  {
   "cell_type": "code",
   "execution_count": 18,
   "id": "ad950142",
   "metadata": {},
   "outputs": [
    {
     "name": "stdout",
     "output_type": "stream",
     "text": [
      "Car Make: Audi, Model: A4, Year: 2022, Widow: 4\n",
      "Car Make: BMW, Model: X5, Year: 2023, Widow: 5\n"
     ]
    }
   ],
   "source": [
    "audi = Car(\"Audi\", \"A4\", 2022, 4)\n",
    "bmw = Car(\"BMW\", \"X5\", 2023, 5)\n",
    "audi.display_info()\n",
    "bmw.display_info()"
   ]
  },
  {
   "cell_type": "code",
   "execution_count": 19,
   "id": "0c12dc15",
   "metadata": {},
   "outputs": [
    {
     "name": "stdout",
     "output_type": "stream",
     "text": [
      "Audi\n",
      "X5\n",
      "2022\n",
      "4\n",
      "<__main__.Car object at 0x107049f70>\n"
     ]
    }
   ],
   "source": [
    "print(audi.make)  # Output: Audi\n",
    "print(bmw.model)  # Output: X5\n",
    "print(audi.year)   # Output: 2022\n",
    "print(audi.widow)  # Output: 4\n",
    "print(audi)"
   ]
  },
  {
   "cell_type": "code",
   "execution_count": 20,
   "id": "8fd0f9c6",
   "metadata": {},
   "outputs": [],
   "source": [
    "class Dog:\n",
    "    def __init__(self, name, breed, age): # Constructor method\n",
    "        \"\"\"Initializes a new instance of the Dog class.\"\"\"\n",
    "        self.name = name # This is an instance variable\n",
    "        self.breed = breed\n",
    "        self.age = age\n",
    "\n",
    "    def bark(self): # This is an instance method\n",
    "        \"\"\"Makes the dog bark.\"\"\"\n",
    "        print(f\"{self.name} says Woof!\")"
   ]
  },
  {
   "cell_type": "code",
   "execution_count": 21,
   "id": "e851d9fe",
   "metadata": {},
   "outputs": [
    {
     "name": "stdout",
     "output_type": "stream",
     "text": [
      "Buddy says Woof!\n"
     ]
    }
   ],
   "source": [
    "dog1 = Dog(\"Buddy\", \"Golden Retriever\", 3)\n",
    "dog1.bark()  # Output: Buddy says Woof!"
   ]
  },
  {
   "cell_type": "code",
   "execution_count": 22,
   "id": "61d34c38",
   "metadata": {},
   "outputs": [
    {
     "name": "stdout",
     "output_type": "stream",
     "text": [
      "Max says Woof!\n"
     ]
    }
   ],
   "source": [
    "dog2 = Dog(\"Max\", \"Beagle\", 5)\n",
    "dog2.bark()  # Output: Max says Woof!"
   ]
  },
  {
   "cell_type": "code",
   "execution_count": 27,
   "id": "dde4a3da",
   "metadata": {},
   "outputs": [],
   "source": [
    "### Modeling a Bank Account\n",
    "class BankAccount:\n",
    "    def __init__(self, account_number, account_holder, balance=0):\n",
    "        \"\"\"Initializes a new bank account.\"\"\"\n",
    "        self.account_number = account_number\n",
    "        self.account_holder = account_holder\n",
    "        self.balance = balance\n",
    "\n",
    "    def deposit(self, amount):\n",
    "        \"\"\"Deposits money into the account.\"\"\"\n",
    "        if amount > 0:\n",
    "            self.balance += amount\n",
    "            print(f\"Deposited {amount}. New balance: {self.balance}\")\n",
    "        else:\n",
    "            print(\"Deposit amount must be positive.\")\n",
    "    \n",
    "    def get_balance(self):\n",
    "        \"\"\"Returns the current balance of the account.\"\"\"\n",
    "        print(f\"Current balance: {self.balance}\")\n",
    "\n",
    "    def withdraw(self, amount):\n",
    "        \"\"\"Withdraws money from the account.\"\"\"\n",
    "        if 0 < amount <= self.balance:\n",
    "            self.balance -= amount\n",
    "            print(f\"Withdrew {amount}. New balance: {self.balance}\")\n",
    "        else:\n",
    "            print(\"Insufficient funds or invalid withdrawal amount.\")"
   ]
  },
  {
   "cell_type": "code",
   "execution_count": 28,
   "id": "a1878f1e",
   "metadata": {},
   "outputs": [
    {
     "name": "stdout",
     "output_type": "stream",
     "text": [
      "Deposited 500. New balance: 1500\n",
      "Withdrew 200. New balance: 1300\n",
      "Current balance: 1300\n",
      "Insufficient funds or invalid withdrawal amount.\n"
     ]
    }
   ],
   "source": [
    "raj_account = BankAccount(\"123456789\", \"Raj\", 1000)\n",
    "raj_account.deposit(500)  # Deposited 500. New balance: 1500\n",
    "raj_account.withdraw(200)  # Withdrew 200. New balance: 1300\n",
    "raj_account.get_balance()  # Returns 1300\n",
    "raj_account.withdraw(1500)  # Insufficient funds or invalid withdrawal amount."
   ]
  },
  {
   "cell_type": "code",
   "execution_count": null,
   "id": "d7a6eed4",
   "metadata": {},
   "outputs": [],
   "source": []
  }
 ],
 "metadata": {
  "kernelspec": {
   "display_name": "Python 3",
   "language": "python",
   "name": "python3"
  },
  "language_info": {
   "codemirror_mode": {
    "name": "ipython",
    "version": 3
   },
   "file_extension": ".py",
   "mimetype": "text/x-python",
   "name": "python",
   "nbconvert_exporter": "python",
   "pygments_lexer": "ipython3",
   "version": "3.12.11"
  }
 },
 "nbformat": 4,
 "nbformat_minor": 5
}
