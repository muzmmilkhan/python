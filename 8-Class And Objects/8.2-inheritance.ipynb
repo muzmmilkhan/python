{
 "cells": [
  {
   "cell_type": "markdown",
   "id": "a291ebf9",
   "metadata": {},
   "source": [
    "### Inheritance In Python\n",
    "**Inheritance** is a fundamental concept in object-oriented programming that allows a class (called a child or derived class) to inherit attributes and methods from another class (called a parent or base class). This enables code reusability and creates a hierarchical relationship between classes.\n",
    "\n",
    "In Python, inheritance allows you to:\n",
    "- Reuse existing code from parent classes\n",
    "- Override parent methods to provide specialized behavior\n",
    "- Add new attributes and methods to extend functionality\n",
    "- Create a logical hierarchy of related classes"
   ]
  },
  {
   "cell_type": "code",
   "execution_count": null,
   "id": "4fe9a47c",
   "metadata": {},
   "outputs": [],
   "source": [
    "# Inheritance\n",
    "# Parent Class\n",
    "## Multilevel Inheritance Example\n",
    "class Animal: # Base class for all animals\n",
    "    \"\"\"Base class for all animals.\"\"\"\n",
    "    def __init__(self, name, species):\n",
    "        self.name = name\n",
    "        self.species = species\n",
    "\n",
    "    def make_sound(self):\n",
    "        \"\"\"Returns the sound made by the animal.\"\"\"\n",
    "        pass\n",
    "\n",
    "# Child Class\n",
    "class Dog(Animal): # Inherits from Animal\n",
    "    \"\"\"Class representing a dog, inheriting from Animal.\"\"\"\n",
    "    def __init__(self, name, breed):\n",
    "        \"\"\"Initializes a new instance of the Dog class.\"\"\"\n",
    "        super().__init__(name, species=\"Dog\")\n",
    "        self.breed = breed\n",
    "\n",
    "    def make_sound(self):\n",
    "        \"\"\"Returns the sound made by the dog.\"\"\"\n",
    "        return \"Woof!\"\n",
    "# Child Class\n",
    "class Cat(Animal): # Inherits from Animal\n",
    "    \"\"\"Class representing a cat, inheriting from Animal.\"\"\"\n",
    "    def __init__(self, name, breed):\n",
    "        \"\"\"Initializes a new instance of the Cat class.\"\"\"\n",
    "        super().__init__(name, species=\"Cat\")\n",
    "        self.breed = breed\n",
    "\n",
    "    def make_sound(self):\n",
    "        \"\"\"Returns the sound made by the cat.\"\"\"\n",
    "        return \"Meow!\"\n",
    "    "
   ]
  },
  {
   "cell_type": "code",
   "execution_count": 12,
   "id": "96d58c24",
   "metadata": {},
   "outputs": [
    {
     "name": "stdout",
     "output_type": "stream",
     "text": [
      "Buddy is a Dog of breed Golden Retriever and says Woof!\n",
      "Whiskers is a Cat of breed Siamese and says Meow!\n"
     ]
    }
   ],
   "source": [
    "# Example usage\n",
    "dog = Dog(name=\"Buddy\", breed=\"Golden Retriever\")\n",
    "cat = Cat(name=\"Whiskers\", breed=\"Siamese\")\n",
    "print(f\"{dog.name} is a {dog.species} of breed {dog.breed} and says {dog.make_sound()}\")\n",
    "print(f\"{cat.name} is a {cat.species} of breed {cat.breed} and says {cat.make_sound()}\")"
   ]
  },
  {
   "cell_type": "code",
   "execution_count": 9,
   "id": "6227c702",
   "metadata": {},
   "outputs": [],
   "source": [
    "class Car:\n",
    "    def __init__(self, make, model, year, windows, engine):\n",
    "        self.make = make\n",
    "        self.model = model\n",
    "        self.year = year\n",
    "        self.windows = windows\n",
    "        self.engine = engine\n",
    "\n",
    "    def display_info(self):\n",
    "        print(f\"Car Make: {self.make}, Model: {self.model}, Year: {self.year}, Windows: {self.windows}, Engine: {self.engine}\")\n",
    "\n",
    "class Tesla(Car):\n",
    "    def __init__(self, make, model, year, windows, autopilot):\n",
    "        super().__init__(make, model, year, windows, engine=\"Electric\")\n",
    "        self.autopilot = autopilot\n",
    "\n",
    "    def display_info(self):\n",
    "        super().display_info()\n",
    "        print(f\"Autopilot: {self.autopilot}\")"
   ]
  },
  {
   "cell_type": "code",
   "execution_count": 10,
   "id": "cf51dcf4",
   "metadata": {},
   "outputs": [
    {
     "name": "stdout",
     "output_type": "stream",
     "text": [
      "Car Make: Tesla, Model: Model S, Year: 2023, Windows: 4, Engine: Electric\n",
      "Autopilot: True\n"
     ]
    }
   ],
   "source": [
    "tesla = Tesla(\"Tesla\", \"Model S\", 2023, 4, True)\n",
    "tesla.display_info()"
   ]
  },
  {
   "cell_type": "code",
   "execution_count": 13,
   "id": "6befd0cc",
   "metadata": {},
   "outputs": [],
   "source": [
    "## Multiple Inheritance Example\n",
    "class Pet:\n",
    "    def __init__(self, owner):\n",
    "        self.owner = owner\n"
   ]
  },
  {
   "cell_type": "code",
   "execution_count": 14,
   "id": "5f7d1bdb",
   "metadata": {},
   "outputs": [],
   "source": [
    "class Dog(Animal, Pet):  # Inherits from both Animal and Pet\n",
    "    \"\"\"Class representing a dog, inheriting from Animal and Pet.\"\"\"\n",
    "    def __init__(self, name, breed, owner):\n",
    "        Animal.__init__(self, name, species=\"Dog\")\n",
    "        Pet.__init__(self, owner)\n",
    "        self.breed = breed\n",
    "\n",
    "    def make_sound(self):\n",
    "        \"\"\"Returns the sound made by the dog.\"\"\"\n",
    "        return \"Woof!\""
   ]
  },
  {
   "cell_type": "code",
   "execution_count": 16,
   "id": "3199ec3c",
   "metadata": {},
   "outputs": [
    {
     "name": "stdout",
     "output_type": "stream",
     "text": [
      "Buddy is a Dog of breed Golden Retriever owned by Muzmmil and says Woof!\n"
     ]
    }
   ],
   "source": [
    "dog1 = Dog(\"Buddy\", \"Golden Retriever\", \"Muzmmil\")\n",
    "print(f\"{dog1.name} is a {dog1.species} of breed {dog1.breed} owned by {dog1.owner} and says {dog1.make_sound()}\")"
   ]
  },
  {
   "cell_type": "code",
   "execution_count": null,
   "id": "3e6be2db",
   "metadata": {},
   "outputs": [],
   "source": []
  }
 ],
 "metadata": {
  "kernelspec": {
   "display_name": "Python 3",
   "language": "python",
   "name": "python3"
  },
  "language_info": {
   "codemirror_mode": {
    "name": "ipython",
    "version": 3
   },
   "file_extension": ".py",
   "mimetype": "text/x-python",
   "name": "python",
   "nbconvert_exporter": "python",
   "pygments_lexer": "ipython3",
   "version": "3.12.11"
  }
 },
 "nbformat": 4,
 "nbformat_minor": 5
}
