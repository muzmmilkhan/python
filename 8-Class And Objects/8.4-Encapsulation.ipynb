{
 "cells": [
  {
   "cell_type": "markdown",
   "id": "84701fcb",
   "metadata": {},
   "source": [
    "### Encapsulation And Abstraction\n",
    "**Encapsulation** is the bundling of data and methods that operate on that data within a single unit (class), while restricting direct access to internal components through access modifiers like private and protected.\n",
    "\n",
    "**Abstraction** is the process of hiding complex implementation details while exposing only the essential features and functionality that users need to interact with an object or system."
   ]
  },
  {
   "cell_type": "code",
   "execution_count": 1,
   "id": "9ae65549",
   "metadata": {},
   "outputs": [],
   "source": [
    "## Encapsulation with getters and setters\n",
    "## public, protected, and private attributes\n",
    "\n",
    "class Person:\n",
    "    def __init__(self, name, age):\n",
    "        self.name = name  # public attribute\n",
    "        self._age = age   # protected attribute\n",
    "        self.__ssn = \"123-45-6789\"  # private attribute\n",
    "\n",
    "    def get_age(self):\n",
    "        return self._age\n",
    "\n",
    "    def set_age(self, age):\n",
    "        if age > 0:\n",
    "            self._age = age\n",
    "        else:\n",
    "            raise ValueError(\"Age must be positive\")\n",
    "\n",
    "    def get_ssn(self):\n",
    "        return self.__ssn"
   ]
  },
  {
   "cell_type": "code",
   "execution_count": 3,
   "id": "9905677e",
   "metadata": {},
   "outputs": [
    {
     "name": "stdout",
     "output_type": "stream",
     "text": [
      "Alice\n",
      "30\n",
      "31\n",
      "123-45-6789\n"
     ]
    }
   ],
   "source": [
    "person = Person(\"Alice\", 30)\n",
    "print(person.name)  # Accessing public attribute\n",
    "print(person.get_age())  # Accessing protected attribute via getter\n",
    "person.set_age(31)  # Setting protected attribute via setter\n",
    "print(person.get_age())  # Accessing updated protected attribute\n",
    "print(person.get_ssn())  # Accessing private attribute via getter"
   ]
  },
  {
   "cell_type": "code",
   "execution_count": 4,
   "id": "68173092",
   "metadata": {},
   "outputs": [],
   "source": [
    "class Employee(Person):\n",
    "    def __init__(self, name, age, employee_id):\n",
    "        super().__init__(name, age)\n",
    "        self.employee_id = employee_id  # public attribute\n",
    "\n",
    "    def get_employee_info(self):\n",
    "        return f\"Employee ID: {self.employee_id}, Name: {self.name}, Age: {self.get_age()}\""
   ]
  },
  {
   "cell_type": "code",
   "execution_count": 5,
   "id": "818f1b79",
   "metadata": {},
   "outputs": [
    {
     "name": "stdout",
     "output_type": "stream",
     "text": [
      "Employee ID: E123, Name: Bob, Age: 40\n",
      "123-45-6789\n"
     ]
    }
   ],
   "source": [
    "employee = Employee(\"Bob\", 40, \"E123\")\n",
    "print(employee.get_employee_info())  # Accessing public method\n",
    "print(employee.get_ssn())  # Accessing private attribute via getter"
   ]
  },
  {
   "cell_type": "code",
   "execution_count": null,
   "id": "8515b72c",
   "metadata": {},
   "outputs": [],
   "source": []
  }
 ],
 "metadata": {
  "kernelspec": {
   "display_name": "Python 3",
   "language": "python",
   "name": "python3"
  },
  "language_info": {
   "codemirror_mode": {
    "name": "ipython",
    "version": 3
   },
   "file_extension": ".py",
   "mimetype": "text/x-python",
   "name": "python",
   "nbconvert_exporter": "python",
   "pygments_lexer": "ipython3",
   "version": "3.12.11"
  }
 },
 "nbformat": 4,
 "nbformat_minor": 5
}
