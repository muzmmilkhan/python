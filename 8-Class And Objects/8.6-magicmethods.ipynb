{
 "cells": [
  {
   "cell_type": "markdown",
   "id": "cd5cb889",
   "metadata": {},
   "source": [
    "### Magic Methods\n",
    "**Magic methods** (also called dunder methods) are special methods in Python that start and end with double underscores (`__`). They allow you to define how objects of your class behave with built-in Python operations like arithmetic, comparisons, string representation, and more. These methods are automatically called by Python when certain operations are performed on objects."
   ]
  },
  {
   "cell_type": "markdown",
   "id": "16083132",
   "metadata": {},
   "source": [
    "#### Common Magic Methods Examples\n",
    "\n",
    "**`__init__(self, ...)`** - Constructor method called when creating an object\n",
    "```python\n",
    "def __init__(self, name, age):\n",
    "    self.name = name\n",
    "    self.age = age\n",
    "```\n",
    "\n",
    "**`__str__(self)`** - Returns a human-readable string representation\n",
    "```python\n",
    "def __str__(self):\n",
    "    return f\"Person(name={self.name}, age={self.age})\"\n",
    "```\n",
    "\n",
    "**`__repr__(self)`** - Returns an unambiguous string representation for debugging\n",
    "```python\n",
    "def __repr__(self):\n",
    "    return f\"Person('{self.name}', {self.age})\"\n",
    "```\n",
    "\n",
    "**`__len__(self)`** - Defines behavior for `len()` function\n",
    "```python\n",
    "def __len__(self):\n",
    "    return len(self.name)\n",
    "```\n",
    "\n",
    "**`__add__(self, other)`** - Defines behavior for `+` operator\n",
    "```python\n",
    "def __add__(self, other):\n",
    "    return self.age + other.age\n",
    "```\n",
    "\n",
    "**`__eq__(self, other)`** - Defines behavior for `==` operator\n",
    "```python\n",
    "def __eq__(self, other):\n",
    "    return self.name == other.name and self.age == other.age\n",
    "```\n",
    "\n",
    "**`__getitem__(self, key)`** - Enables indexing with `[]`\n",
    "```python\n",
    "def __getitem__(self, key):\n",
    "    if key == 0:\n",
    "        return self.name\n",
    "    elif key == 1:\n",
    "        return self.age\n",
    "```"
   ]
  },
  {
   "cell_type": "code",
   "execution_count": 13,
   "id": "41409f64",
   "metadata": {},
   "outputs": [],
   "source": [
    "# Basic Method Usage\n",
    "class Person:\n",
    "    def __init__(self, name, age):\n",
    "        self.name = name\n",
    "        self.age = age\n",
    "\n",
    "    def __str__(self):\n",
    "        return f\"Person(name={self.name}, age={self.age})\"\n",
    "\n",
    "    def __repr__(self):\n",
    "        return f\"Person('{self.name}', {self.age})\"\n",
    "\n",
    "    def __len__(self):\n",
    "        return len(self.name)\n",
    "\n",
    "    def __add__(self, other):\n",
    "        return Person(self.name + \" & \" + other.name, self.age + other.age)\n",
    "\n",
    "    def __eq__(self, other):\n",
    "        return self.name == other.name and self.age == other.age\n",
    "\n",
    "    def __getitem__(self, key):\n",
    "        if key == 0:\n",
    "            return self.name\n",
    "        elif key == 1:\n",
    "            return self.age"
   ]
  },
  {
   "cell_type": "code",
   "execution_count": 14,
   "id": "44e5c336",
   "metadata": {},
   "outputs": [
    {
     "name": "stdout",
     "output_type": "stream",
     "text": [
      "Person(name=Muzmmil, age=30)\n"
     ]
    }
   ],
   "source": [
    "person = Person(\"Muzmmil\", 30)\n",
    "print(person)"
   ]
  },
  {
   "cell_type": "code",
   "execution_count": 15,
   "id": "a2c2f3b1",
   "metadata": {},
   "outputs": [
    {
     "name": "stdout",
     "output_type": "stream",
     "text": [
      "Person('Muzmmil', 30)\n"
     ]
    }
   ],
   "source": [
    "print(repr(person))  # Unambiguous representation"
   ]
  },
  {
   "cell_type": "code",
   "execution_count": 16,
   "id": "df9a0537",
   "metadata": {},
   "outputs": [
    {
     "name": "stdout",
     "output_type": "stream",
     "text": [
      "7\n"
     ]
    }
   ],
   "source": [
    "print(len(person))  # Length of the name"
   ]
  },
  {
   "cell_type": "code",
   "execution_count": 17,
   "id": "8d537eaa",
   "metadata": {},
   "outputs": [
    {
     "name": "stdout",
     "output_type": "stream",
     "text": [
      "Person(name=Muzmmil & Najmin, age=55)\n",
      "False\n"
     ]
    }
   ],
   "source": [
    "p1 = Person(\"Muzmmil\", 30)\n",
    "p2 = Person(\"Najmin\", 25)\n",
    "print(p1 + p2)  # Using __add__ method\n",
    "print(p1 == p2)  # Using __eq__ method"
   ]
  },
  {
   "cell_type": "code",
   "execution_count": 19,
   "id": "0bf95ec4",
   "metadata": {},
   "outputs": [
    {
     "data": {
      "text/plain": [
       "'Muzmmil'"
      ]
     },
     "execution_count": 19,
     "metadata": {},
     "output_type": "execute_result"
    }
   ],
   "source": [
    "p1[0]  # Accessing name"
   ]
  },
  {
   "cell_type": "code",
   "execution_count": 20,
   "id": "6aa6de48",
   "metadata": {},
   "outputs": [
    {
     "data": {
      "text/plain": [
       "30"
      ]
     },
     "execution_count": 20,
     "metadata": {},
     "output_type": "execute_result"
    }
   ],
   "source": [
    "p1[1]  # Accessing age"
   ]
  },
  {
   "cell_type": "code",
   "execution_count": 28,
   "id": "67eadcde",
   "metadata": {},
   "outputs": [],
   "source": [
    "class Vector:\n",
    "    def __init__(self, x, y):\n",
    "        self.x = x\n",
    "        self.y = y\n",
    "    def __str__(self):\n",
    "        return f\"Vector({self.x}, {self.y})\"\n",
    "    def __repr__(self):\n",
    "        return f\"Vector({self.x}, {self.y})\"\n",
    "    def __add__(self,other):\n",
    "        return Vector(self.x + other.x, self.y + other.y)\n",
    "    def __sub__(self,other):\n",
    "        return Vector(self.x - other.x, self.y - other.y)\n",
    "    def __mul__(self,other):\n",
    "        return Vector(self.x * other.x, self.y * other.y)\n",
    "    def __eq__(self,other):\n",
    "        return self.x == other.x and self.y == other.y\n",
    "    "
   ]
  },
  {
   "cell_type": "code",
   "execution_count": 29,
   "id": "552394cd",
   "metadata": {},
   "outputs": [
    {
     "name": "stdout",
     "output_type": "stream",
     "text": [
      "Vector(7, 10)\n",
      "Vector(-3, -4)\n",
      "False\n"
     ]
    }
   ],
   "source": [
    "v1 = Vector(2, 3)\n",
    "v2 = Vector(5, 7)\n",
    "print(v1 + v2)  # Using __add__ method\n",
    "print(v1 - v2)  # Using __sub__ method\n",
    "print(v1 == v2)  # Using __eq__ method"
   ]
  },
  {
   "cell_type": "code",
   "execution_count": 30,
   "id": "452085ed",
   "metadata": {},
   "outputs": [
    {
     "name": "stdout",
     "output_type": "stream",
     "text": [
      "Vector(2, 3)\n"
     ]
    }
   ],
   "source": [
    "print(repr(v1))  # Unambiguous representation"
   ]
  },
  {
   "cell_type": "code",
   "execution_count": 31,
   "id": "c9b30e2c",
   "metadata": {},
   "outputs": [
    {
     "name": "stdout",
     "output_type": "stream",
     "text": [
      "Vector(2, 3)\n"
     ]
    }
   ],
   "source": [
    "print(v1)"
   ]
  },
  {
   "cell_type": "code",
   "execution_count": 32,
   "id": "fb38183a",
   "metadata": {},
   "outputs": [
    {
     "name": "stdout",
     "output_type": "stream",
     "text": [
      "Vector(10, 21)\n"
     ]
    }
   ],
   "source": [
    "print(v1*v2)  # Using __mul__ method"
   ]
  },
  {
   "cell_type": "code",
   "execution_count": null,
   "id": "112f19d0",
   "metadata": {},
   "outputs": [],
   "source": []
  }
 ],
 "metadata": {
  "kernelspec": {
   "display_name": "Python 3",
   "language": "python",
   "name": "python3"
  },
  "language_info": {
   "codemirror_mode": {
    "name": "ipython",
    "version": 3
   },
   "file_extension": ".py",
   "mimetype": "text/x-python",
   "name": "python",
   "nbconvert_exporter": "python",
   "pygments_lexer": "ipython3",
   "version": "3.12.11"
  }
 },
 "nbformat": 4,
 "nbformat_minor": 5
}
