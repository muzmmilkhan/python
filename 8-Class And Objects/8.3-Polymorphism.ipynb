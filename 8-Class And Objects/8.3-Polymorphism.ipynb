{
 "cells": [
  {
   "cell_type": "markdown",
   "id": "4d91bce9",
   "metadata": {},
   "source": [
    "### Polymorphism\n",
    "**Definition**: Polymorphism is a fundamental concept in object-oriented programming that allows objects of different types to be treated as instances of the same type through a common interface. The word \"polymorphism\" comes from Greek, meaning \"many forms.\"\n",
    "\n",
    "**Key Characteristics**:\n",
    "- Same interface, different implementations\n",
    "- Enables code reusability and flexibility\n",
    "- Allows runtime determination of which method to execute\n",
    "- Supports the principle of \"write once, use many\"\n",
    "\n",
    "**Types of Polymorphism**:\n",
    "1. **Runtime Polymorphism** (Dynamic) - Method overriding\n",
    "2. **Compile-time Polymorphism** (Static) - Method overloading"
   ]
  },
  {
   "cell_type": "markdown",
   "id": "0821e4c0",
   "metadata": {},
   "source": [
    "#### Method Overriding\n",
    "**Definition**: Method overriding is a feature of object-oriented programming where a subclass provides a specific implementation of a method that is already defined in its parent class. The overridden method in the subclass has the same name, return type, and parameters as the method in the parent class, but contains different logic or behavior.\n",
    "\n",
    "**Key Points**:\n",
    "- Enables runtime polymorphism\n",
    "- Subclass method \"overrides\" the parent class method\n",
    "- Method signature must match exactly\n",
    "- Uses dynamic method dispatch to determine which version to call\n",
    "- Allows customization of inherited behavior"
   ]
  },
  {
   "cell_type": "code",
   "execution_count": 4,
   "id": "98ad13ea",
   "metadata": {},
   "outputs": [],
   "source": [
    "class Animal:\n",
    "    \"\"\"Base class for all animals.\"\"\"\n",
    "    def __init__(self, name, species):\n",
    "        self.name = name\n",
    "        self.species = species\n",
    "\n",
    "    def make_sound(self):  # Overridable method\n",
    "        \"\"\"Returns the sound made by the animal.\"\"\"\n",
    "        pass\n",
    "class Dog(Animal):\n",
    "    \"\"\"Class representing a dog.\"\"\"\n",
    "    def __init__(self, name, breed):\n",
    "        super().__init__(name, species=\"Dog\")\n",
    "        self.breed = breed\n",
    "\n",
    "    def make_sound(self):  # Overriding the make_sound method\n",
    "        \"\"\"Returns the sound made by the dog.\"\"\"\n",
    "        return \"Woof!\"\n",
    "class Cat(Animal):\n",
    "    \"\"\"Class representing a cat.\"\"\"\n",
    "    def __init__(self, name, breed):\n",
    "        super().__init__(name, species=\"Cat\")\n",
    "        self.breed = breed\n",
    "\n",
    "    def make_sound(self):  # Overriding the make_sound method\n",
    "        \"\"\"Returns the sound made by the cat.\"\"\"\n",
    "        return \"Meow!\"  \n"
   ]
  },
  {
   "cell_type": "code",
   "execution_count": 5,
   "id": "3e42b1af",
   "metadata": {},
   "outputs": [
    {
     "name": "stdout",
     "output_type": "stream",
     "text": [
      "Buddy is a Dog of breed Golden Retriever and says Woof!\n",
      "Whiskers is a Cat of breed Siamese and says Meow!\n"
     ]
    }
   ],
   "source": [
    "dog = Dog(name=\"Buddy\", breed=\"Golden Retriever\")\n",
    "cat = Cat(name=\"Whiskers\", breed=\"Siamese\")\n",
    "print(f\"{dog.name} is a {dog.species} of breed {dog.breed} and says {dog.make_sound()}\")\n",
    "print(f\"{cat.name} is a {cat.species} of breed {cat.breed} and says {cat.make_sound()}\")"
   ]
  },
  {
   "cell_type": "code",
   "execution_count": null,
   "id": "49da8c8d",
   "metadata": {},
   "outputs": [],
   "source": [
    "class Shape:\n",
    "    \"\"\"Base class for all shapes.\"\"\"\n",
    "    def area(self):  # Overridable method\n",
    "        \"\"\"Returns the area of the shape.\"\"\"\n",
    "        pass\n",
    "\n",
    "class Rectangle(Shape):\n",
    "    \"\"\"Class representing a rectangle.\"\"\"\n",
    "    def __init__(self, width, height):\n",
    "        self.width = width\n",
    "        self.height = height\n",
    "\n",
    "    def area(self):  # Overriding the area method\n",
    "        \"\"\"Returns the area of the rectangle.\"\"\"\n",
    "        return self.width * self.height\n",
    "class Circle(Shape):\n",
    "    \"\"\"Class representing a circle.\"\"\"\n",
    "    def __init__(self, radius):\n",
    "        self.radius = radius\n",
    "\n",
    "    def area(self):  # Overriding the area method\n",
    "        \"\"\"Returns the area of the circle.\"\"\"\n",
    "        import math\n",
    "        return math.pi * (self.radius ** 2)\n"
   ]
  },
  {
   "cell_type": "code",
   "execution_count": 7,
   "id": "c2de8b82",
   "metadata": {},
   "outputs": [
    {
     "name": "stdout",
     "output_type": "stream",
     "text": [
      "Area of rectangle: 50\n",
      "Area of circle: 153.93804002589985\n"
     ]
    }
   ],
   "source": [
    "rectangle = Rectangle(5, 10)\n",
    "circle = Circle(7)\n",
    "print(f\"Area of rectangle: {rectangle.area()}\")\n",
    "print(f\"Area of circle: {circle.area()}\")"
   ]
  },
  {
   "cell_type": "code",
   "execution_count": 12,
   "id": "5144232d",
   "metadata": {},
   "outputs": [],
   "source": [
    "## polymorphism with Abstract Base Classes (ABCs)\n",
    "from abc import ABC, abstractmethod\n",
    "\n",
    "class Vehicle(ABC):\n",
    "    \"\"\"Abstract base class for all vehicles.\"\"\"\n",
    "    @abstractmethod\n",
    "    def display_info(self):\n",
    "        \"\"\"Display information about the vehicle.\"\"\"\n",
    "        pass\n",
    "\n",
    "class Car(Vehicle):\n",
    "    \"\"\"Class representing a car.\"\"\"\n",
    "    def __init__(self, make, model):\n",
    "        self.make = make\n",
    "        self.model = model\n",
    "\n",
    "    def display_info(self):\n",
    "        \"\"\"Display information about the car.\"\"\"\n",
    "        return f\"Car Make: {self.make}, Model: {self.model}\"\n",
    "\n",
    "class Motorcycle(Vehicle):\n",
    "    \"\"\"Class representing a motorcycle.\"\"\"\n",
    "    def __init__(self, make, model):\n",
    "        self.make = make\n",
    "        self.model = model\n",
    "\n",
    "    def display_info(self):\n",
    "        \"\"\"Display information about the motorcycle.\"\"\"\n",
    "        return f\"Motorcycle Make: {self.make}, Model: {self.model}\"\n",
    "class Tesla(Car):\n",
    "    \"\"\"Class representing a Tesla car, inheriting from Car.\"\"\"\n",
    "    def __init__(self, make, model, year, doors, autopilot):\n",
    "        super().__init__(make, model)\n",
    "        self.year = year\n",
    "        self.doors = doors\n",
    "        self.autopilot = autopilot\n",
    "\n",
    "    def display_info(self):\n",
    "        \"\"\"Display information about the Tesla car.\"\"\"\n",
    "        autopilot_status = \"with Autopilot\" if self.autopilot else \"without Autopilot\"\n",
    "        return f\"{super().display_info()}, Year: {self.year}, Doors: {self.doors}, {autopilot_status}\""
   ]
  },
  {
   "cell_type": "code",
   "execution_count": 13,
   "id": "814ad56a",
   "metadata": {},
   "outputs": [
    {
     "name": "stdout",
     "output_type": "stream",
     "text": [
      "Car Make: Toyota, Model: Camry\n",
      "Motorcycle Make: Harley-Davidson, Model: Street 750\n"
     ]
    },
    {
     "data": {
      "text/plain": [
       "'Car Make: Tesla, Model: Model S, Year: 2023, Doors: 4, with Autopilot'"
      ]
     },
     "execution_count": 13,
     "metadata": {},
     "output_type": "execute_result"
    }
   ],
   "source": [
    "car1 = Car(\"Toyota\", \"Camry\")\n",
    "motorcycle1 = Motorcycle(\"Harley-Davidson\", \"Street 750\")\n",
    "print(car1.display_info())\n",
    "print(motorcycle1.display_info())\n",
    "tesla = Tesla(\"Tesla\", \"Model S\", 2023, 4, True)\n",
    "tesla.display_info()"
   ]
  },
  {
   "cell_type": "code",
   "execution_count": null,
   "id": "f6a036db",
   "metadata": {},
   "outputs": [],
   "source": []
  }
 ],
 "metadata": {
  "kernelspec": {
   "display_name": "Python 3",
   "language": "python",
   "name": "python3"
  },
  "language_info": {
   "codemirror_mode": {
    "name": "ipython",
    "version": 3
   },
   "file_extension": ".py",
   "mimetype": "text/x-python",
   "name": "python",
   "nbconvert_exporter": "python",
   "pygments_lexer": "ipython3",
   "version": "3.12.11"
  }
 },
 "nbformat": 4,
 "nbformat_minor": 5
}
