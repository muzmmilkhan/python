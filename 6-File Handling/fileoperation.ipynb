{
 "cells": [
  {
   "cell_type": "markdown",
   "id": "c9410409",
   "metadata": {},
   "source": [
    "### File Operation In Python\n",
    "File operations in Python allow you to read from and write to files on your system. Python provides built-in functions and methods to handle various file formats including text files, CSV files, and binary files. The most common approach is using the `open()` function with different modes like 'r' for reading, 'w' for writing, and 'a' for appending."
   ]
  },
  {
   "cell_type": "code",
   "execution_count": 1,
   "id": "f02415e2",
   "metadata": {},
   "outputs": [
    {
     "name": "stdout",
     "output_type": "stream",
     "text": [
      "Hello How are you?\n",
      "I am fine\n",
      "Welcome to the cloud Age\n"
     ]
    }
   ],
   "source": [
    "with open('example.txt', 'r') as file:\n",
    "    content = file.read()\n",
    "    print(content)\n"
   ]
  },
  {
   "cell_type": "code",
   "execution_count": 19,
   "id": "2136db89",
   "metadata": {},
   "outputs": [
    {
     "name": "stdout",
     "output_type": "stream",
     "text": [
      "This is a new file.\n"
     ]
    }
   ],
   "source": [
    "with open('example.txt', 'r') as file:\n",
    "    for line in file:\n",
    "        print(line.strip()) # .strip() removes leading/trailing whitespace"
   ]
  },
  {
   "cell_type": "code",
   "execution_count": 10,
   "id": "1373edb9",
   "metadata": {},
   "outputs": [],
   "source": [
    "## Writing to a File\n",
    "with open('example.txt', 'w') as file:\n",
    "    file.write(\"Hello, World!\\n\")\n",
    "    file.write(\"This is a new line.\\n\")"
   ]
  },
  {
   "cell_type": "code",
   "execution_count": 12,
   "id": "1c0839cc",
   "metadata": {},
   "outputs": [],
   "source": [
    "# appending to a file\n",
    "with open('example.txt', 'a') as file:\n",
    "    file.write(\"This line is appended.\\n\")\n",
    "    file.write(\"Another appended line.\\n\")"
   ]
  },
  {
   "cell_type": "code",
   "execution_count": 13,
   "id": "13a84174",
   "metadata": {},
   "outputs": [],
   "source": [
    "lines = [\"This is the first line.\\n\", \"This is the second line.\\n\", \"This is the third line.\\n\"]\n",
    "with open('example.txt', 'a') as file:\n",
    "    file.writelines(lines)"
   ]
  },
  {
   "cell_type": "code",
   "execution_count": 15,
   "id": "890d6318",
   "metadata": {},
   "outputs": [],
   "source": [
    "# binary file operations\n",
    "with open('example.bin', 'wb') as file:\n",
    "    file.write(b'\\x00\\x01\\x02\\x03\\x04')  # Writing binary data  "
   ]
  },
  {
   "cell_type": "code",
   "execution_count": 16,
   "id": "6dc929ce",
   "metadata": {},
   "outputs": [
    {
     "name": "stdout",
     "output_type": "stream",
     "text": [
      "b'\\x00\\x01\\x02\\x03\\x04'\n"
     ]
    }
   ],
   "source": [
    "# Reading binary data\n",
    "with open('example.bin', 'rb') as file:\n",
    "    binary_content = file.read()\n",
    "    print(binary_content)  # Output: b'\\x00\\x01\\x02\\x03\\x04'"
   ]
  },
  {
   "cell_type": "code",
   "execution_count": 17,
   "id": "41035ae6",
   "metadata": {},
   "outputs": [
    {
     "name": "stdout",
     "output_type": "stream",
     "text": [
      "Hello, World!\n",
      "This is a new line.\n",
      "This line is appended.\n",
      "Another appended line.\n",
      "This is the first line.\n",
      "This is the second line.\n",
      "This is the third line.\n",
      "\n",
      "Hello, World!\n",
      "This is a new line.\n",
      "This line is appended.\n",
      "Another appended line.\n",
      "This is the first line.\n",
      "This is the second line.\n",
      "This is the third line.\n",
      "\n",
      "Adding a new line after reading the file.\n"
     ]
    }
   ],
   "source": [
    "# Read and write operations can be combined\n",
    "with open('example.txt', 'r+') as file:\n",
    "    content = file.read()\n",
    "    print(content)\n",
    "    file.write(\"\\nAdding a new line after reading the file.\")\n",
    "    file.seek(0)  # Move the cursor back to the beginning of the file\n",
    "    updated_content = file.read()\n",
    "    print(updated_content)"
   ]
  },
  {
   "cell_type": "code",
   "execution_count": 18,
   "id": "c98006cc",
   "metadata": {},
   "outputs": [
    {
     "name": "stdout",
     "output_type": "stream",
     "text": [
      "This is a new file.\n",
      "\n"
     ]
    }
   ],
   "source": [
    "# write and read operations can be combined\n",
    "with open('example.txt', 'w+') as file:\n",
    "    file.write(\"This is a new file.\\n\")\n",
    "    file.seek(0)  # Move the cursor back to the beginning of the file\n",
    "    content = file.read()\n",
    "    print(content)  # Output: This is a new file."
   ]
  },
  {
   "cell_type": "code",
   "execution_count": 21,
   "id": "93ed15ff",
   "metadata": {},
   "outputs": [],
   "source": [
    "# Read from source file and write to destination file\n",
    "with open('source.txt', 'r') as source_file:\n",
    "    with open('destination.txt', 'w') as dest_file:\n",
    "        for line in source_file:\n",
    "            dest_file.write(line)"
   ]
  },
  {
   "cell_type": "code",
   "execution_count": 22,
   "id": "d98d14fc",
   "metadata": {},
   "outputs": [
    {
     "name": "stdout",
     "output_type": "stream",
     "text": [
      "This is a new file.\n",
      "\n"
     ]
    }
   ],
   "source": [
    "# read the destination file to verify\n",
    "with open('destination.txt', 'r') as file:\n",
    "    content = file.read()\n",
    "    print(content)"
   ]
  },
  {
   "cell_type": "code",
   "execution_count": null,
   "id": "1d35ff94",
   "metadata": {},
   "outputs": [],
   "source": []
  }
 ],
 "metadata": {
  "kernelspec": {
   "display_name": "Python 3",
   "language": "python",
   "name": "python3"
  },
  "language_info": {
   "codemirror_mode": {
    "name": "ipython",
    "version": 3
   },
   "file_extension": ".py",
   "mimetype": "text/x-python",
   "name": "python",
   "nbconvert_exporter": "python",
   "pygments_lexer": "ipython3",
   "version": "3.12.11"
  }
 },
 "nbformat": 4,
 "nbformat_minor": 5
}
