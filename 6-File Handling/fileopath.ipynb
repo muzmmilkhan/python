{
 "cells": [
  {
   "cell_type": "code",
   "execution_count": 1,
   "id": "812f6990",
   "metadata": {},
   "outputs": [],
   "source": [
    "# create a new directory\n",
    "import os\n",
    "os.makedirs('package', exist_ok=True)"
   ]
  },
  {
   "cell_type": "code",
   "execution_count": 2,
   "id": "68ac2621",
   "metadata": {},
   "outputs": [
    {
     "name": "stdout",
     "output_type": "stream",
     "text": [
      "['fileoperation.ipynb', 'destination.txt', 'fileopath.ipynb', 'source.txt', 'example.bin', 'example.txt', 'package']\n"
     ]
    }
   ],
   "source": [
    "# list files in the current directory\n",
    "files = os.listdir('.')\n",
    "print(files)"
   ]
  },
  {
   "cell_type": "code",
   "execution_count": 3,
   "id": "68474252",
   "metadata": {},
   "outputs": [
    {
     "name": "stdout",
     "output_type": "stream",
     "text": [
      "folder/file.txt\n"
     ]
    }
   ],
   "source": [
    "### joining paths\n",
    "dir_name = \"folder\"\n",
    "file_name = \"file.txt\"\n",
    "full_path = os.path.join(dir_name, file_name)\n",
    "print(full_path)  # Output: folder/file.txt"
   ]
  },
  {
   "cell_type": "code",
   "execution_count": 4,
   "id": "cc754900",
   "metadata": {},
   "outputs": [
    {
     "name": "stdout",
     "output_type": "stream",
     "text": [
      "/Users/MU20414673/Udemy_Final/python/6-File Handling/folder/file.txt\n"
     ]
    }
   ],
   "source": [
    "# joining paths with absolute path\n",
    "abs_path = os.path.abspath(full_path)\n",
    "print(abs_path)  # Output: /current/working/directory/folder/file.txt"
   ]
  },
  {
   "cell_type": "code",
   "execution_count": 5,
   "id": "cf874b58",
   "metadata": {},
   "outputs": [
    {
     "name": "stdout",
     "output_type": "stream",
     "text": [
      "The path folder/file.txt does not exist.\n"
     ]
    }
   ],
   "source": [
    "# path exists\n",
    "if os.path.exists(full_path):\n",
    "    print(f\"The path {full_path} exists.\")\n",
    "else:\n",
    "    print(f\"The path {full_path} does not exist.\")"
   ]
  },
  {
   "cell_type": "code",
   "execution_count": 7,
   "id": "568744df",
   "metadata": {},
   "outputs": [
    {
     "name": "stdout",
     "output_type": "stream",
     "text": [
      "example.txt is a file.\n"
     ]
    }
   ],
   "source": [
    "# check if path is a file or directory\n",
    "if os.path.isfile('example.txt'):\n",
    "    print(f\"example.txt is a file.\")\n",
    "elif os.path.isdir('example.txt'):\n",
    "    print(f\"example.txt is a directory.\")"
   ]
  },
  {
   "cell_type": "code",
   "execution_count": 8,
   "id": "277cec06",
   "metadata": {},
   "outputs": [
    {
     "name": "stdout",
     "output_type": "stream",
     "text": [
      "Absolute path of example.txt is /Users/MU20414673/Udemy_Final/python/6-File Handling/example.txt\n"
     ]
    }
   ],
   "source": [
    "relative_path = \"example.txt\"\n",
    "absolute_path = os.path.abspath(relative_path)\n",
    "print(f\"Absolute path of {relative_path} is {absolute_path}\")"
   ]
  },
  {
   "cell_type": "code",
   "execution_count": null,
   "id": "8f74fb4e",
   "metadata": {},
   "outputs": [],
   "source": []
  }
 ],
 "metadata": {
  "kernelspec": {
   "display_name": "Python 3",
   "language": "python",
   "name": "python3"
  },
  "language_info": {
   "codemirror_mode": {
    "name": "ipython",
    "version": 3
   },
   "file_extension": ".py",
   "mimetype": "text/x-python",
   "name": "python",
   "nbconvert_exporter": "python",
   "pygments_lexer": "ipython3",
   "version": "3.12.11"
  }
 },
 "nbformat": 4,
 "nbformat_minor": 5
}
