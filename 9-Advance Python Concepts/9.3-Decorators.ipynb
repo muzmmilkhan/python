{
 "cells": [
  {
   "cell_type": "markdown",
   "id": "73f729b3",
   "metadata": {},
   "source": [
    "### Decorators\n",
    "A decorator is a design pattern in Python that allows you to modify or extend the behavior of functions or classes without permanently modifying their code. Decorators use the `@` symbol and are placed above the function or class definition they're decorating."
   ]
  },
  {
   "cell_type": "code",
   "execution_count": 7,
   "id": "a985e999",
   "metadata": {},
   "outputs": [],
   "source": [
    "## Function Copy\n",
    "def welcome():\n",
    "    print(\"Welcome to the Python course!\")\n"
   ]
  },
  {
   "cell_type": "code",
   "execution_count": 8,
   "id": "31b87bed",
   "metadata": {},
   "outputs": [
    {
     "name": "stdout",
     "output_type": "stream",
     "text": [
      "Welcome to the Python course!\n"
     ]
    }
   ],
   "source": [
    "welcome()"
   ]
  },
  {
   "cell_type": "code",
   "execution_count": 9,
   "id": "928a41a2",
   "metadata": {},
   "outputs": [
    {
     "name": "stdout",
     "output_type": "stream",
     "text": [
      "Welcome to the Python course!\n"
     ]
    }
   ],
   "source": [
    "wel = welcome\n",
    "wel()"
   ]
  },
  {
   "cell_type": "code",
   "execution_count": 10,
   "id": "88416161",
   "metadata": {},
   "outputs": [
    {
     "name": "stdout",
     "output_type": "stream",
     "text": [
      "Welcome to the Python course!\n",
      "Welcome to the Python course!\n"
     ]
    }
   ],
   "source": [
    "wel()\n",
    "del welcome\n",
    "wel()"
   ]
  },
  {
   "cell_type": "code",
   "execution_count": 23,
   "id": "5c3dc98b",
   "metadata": {},
   "outputs": [],
   "source": [
    "## closure\n",
    "def outer_function(func):\n",
    "    def inner_function():\n",
    "        print(\"This is the inner function.\")\n",
    "        func(\"Welcome to the inner function!\")\n",
    "        print(\"This is the inner function again.\")\n",
    "\n",
    "    return inner_function()"
   ]
  },
  {
   "cell_type": "code",
   "execution_count": 24,
   "id": "3471de85",
   "metadata": {},
   "outputs": [
    {
     "name": "stdout",
     "output_type": "stream",
     "text": [
      "This is the inner function.\n",
      "Welcome to the inner function!\n",
      "This is the inner function again.\n"
     ]
    }
   ],
   "source": [
    "outer_function(print)"
   ]
  },
  {
   "cell_type": "code",
   "execution_count": 28,
   "id": "cdd74543",
   "metadata": {},
   "outputs": [],
   "source": [
    "def outer_function(func,lst):\n",
    "    def inner_function():\n",
    "        print(\"This is the inner function.\")\n",
    "        print(func(lst))\n",
    "        print(\"This is the inner function again.\")\n",
    "\n",
    "    return inner_function()"
   ]
  },
  {
   "cell_type": "code",
   "execution_count": 29,
   "id": "d25e02df",
   "metadata": {},
   "outputs": [
    {
     "name": "stdout",
     "output_type": "stream",
     "text": [
      "This is the inner function.\n",
      "5\n",
      "This is the inner function again.\n"
     ]
    }
   ],
   "source": [
    "outer_function(len, [1, 2, 3, 4, 5])"
   ]
  },
  {
   "cell_type": "code",
   "execution_count": 30,
   "id": "75346dc3",
   "metadata": {},
   "outputs": [],
   "source": [
    "## Decorators\n",
    "def main_function(func):\n",
    "    def wrapper_function(*args, **kwargs):\n",
    "        print(\"Before the function call.\")\n",
    "        func(*args, **kwargs)\n",
    "        print(\"After the function call.\")\n",
    "    return wrapper_function"
   ]
  },
  {
   "cell_type": "code",
   "execution_count": 31,
   "id": "ae4b7abf",
   "metadata": {},
   "outputs": [
    {
     "name": "stdout",
     "output_type": "stream",
     "text": [
      "Before the function call.\n",
      "Hello, this is a decorated function!\n",
      "After the function call.\n"
     ]
    }
   ],
   "source": [
    "@main_function\n",
    "def display_message(message):\n",
    "    print(message)\n",
    "display_message(\"Hello, this is a decorated function!\")"
   ]
  },
  {
   "cell_type": "code",
   "execution_count": 32,
   "id": "e0c227f2",
   "metadata": {},
   "outputs": [],
   "source": [
    "def my_decorator(func):\n",
    "    def wrapper(*args, **kwargs):\n",
    "        print(\"Before the function call.\")\n",
    "        result = func(*args, **kwargs)\n",
    "        print(\"After the function call.\")\n",
    "        return result\n",
    "    return wrapper"
   ]
  },
  {
   "cell_type": "code",
   "execution_count": 34,
   "id": "71f0b1c5",
   "metadata": {},
   "outputs": [
    {
     "name": "stdout",
     "output_type": "stream",
     "text": [
      "Before the function call.\n",
      "Hello, Muzmmil!\n",
      "After the function call.\n"
     ]
    }
   ],
   "source": [
    "@my_decorator\n",
    "def say_hello(name):\n",
    "    print(f\"Hello, {name}!\")\n",
    "say_hello(\"Muzmmil\")"
   ]
  },
  {
   "cell_type": "code",
   "execution_count": 35,
   "id": "274c1518",
   "metadata": {},
   "outputs": [],
   "source": [
    "def repeat_decorator(func):\n",
    "    def wrapper(*args, **kwargs):\n",
    "        for _ in range(3):\n",
    "            func(*args, **kwargs)\n",
    "    return wrapper"
   ]
  },
  {
   "cell_type": "code",
   "execution_count": 36,
   "id": "76d582f1",
   "metadata": {},
   "outputs": [],
   "source": [
    "@repeat_decorator\n",
    "def print_message(message):\n",
    "    print(message)"
   ]
  },
  {
   "cell_type": "code",
   "execution_count": 37,
   "id": "380cdab7",
   "metadata": {},
   "outputs": [
    {
     "name": "stdout",
     "output_type": "stream",
     "text": [
      "This message will be printed three times.\n",
      "This message will be printed three times.\n",
      "This message will be printed three times.\n"
     ]
    }
   ],
   "source": [
    "print_message(\"This message will be printed three times.\")"
   ]
  },
  {
   "cell_type": "code",
   "execution_count": 38,
   "id": "a579b4c4",
   "metadata": {},
   "outputs": [],
   "source": [
    "#Conclusion\n",
    "# Decorators are a powerful feature in Python that allow you to modify the behavior of functions or methods.\n",
    "# They are often used for logging, access control, memoization, and other cross-cutting concerns.\n",
    "# Decorators are defined using the `@decorator_name` syntax and can take arguments.\n",
    "# They can be applied to functions, methods, and even classes.\n",
    "# Decorators can be nested, and you can create your own decorators to encapsulate reusable functionality.\n",
    "# Decorators can also be used to create closures, allowing you to maintain state across function calls.\n",
    "# Decorators can be used to enhance the functionality of existing functions without modifying their code.\n",
    "# They can be used to add pre- and post-processing logic around function calls.\n",
    "# Decorators can be used to create reusable and composable code, making it easier to maintain and extend.\n",
    "# Decorators can be used to implement design patterns like the Singleton pattern, Factory pattern, and more.\n",
    "# Decorators can be used to create higher-order functions that take other functions as arguments.\n",
    "# They can be used to create function wrappers that add functionality to existing functions.\n",
    "# Decorators can be used to create function factories that generate functions with specific behavior.\n"
   ]
  },
  {
   "cell_type": "code",
   "execution_count": null,
   "id": "e170d8da",
   "metadata": {},
   "outputs": [],
   "source": []
  }
 ],
 "metadata": {
  "kernelspec": {
   "display_name": "Python 3",
   "language": "python",
   "name": "python3"
  },
  "language_info": {
   "codemirror_mode": {
    "name": "ipython",
    "version": 3
   },
   "file_extension": ".py",
   "mimetype": "text/x-python",
   "name": "python",
   "nbconvert_exporter": "python",
   "pygments_lexer": "ipython3",
   "version": "3.12.11"
  }
 },
 "nbformat": 4,
 "nbformat_minor": 5
}
