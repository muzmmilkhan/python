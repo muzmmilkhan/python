{
 "cells": [
  {
   "cell_type": "markdown",
   "id": "fdacb2cc",
   "metadata": {},
   "source": [
    "### Iterators\n",
    "An iterator is an object that can be iterated over, meaning you can traverse through all its elements one at a time. In Python, iterators implement the iterator protocol, which consists of the `__iter__()` and `__next__()` methods. They provide a way to access elements sequentially without needing to know the underlying structure of the data."
   ]
  },
  {
   "cell_type": "code",
   "execution_count": 3,
   "id": "813c382b",
   "metadata": {},
   "outputs": [
    {
     "name": "stdout",
     "output_type": "stream",
     "text": [
      "<class 'list_iterator'>\n",
      "1\n",
      "2\n",
      "3\n",
      "4\n",
      "5\n"
     ]
    }
   ],
   "source": [
    "my_list = [1, 2, 3, 4, 5]\n",
    "my_iter = iter(my_list)\n",
    "print(type(my_iter))  # Output: <class 'list_iterator'>\n",
    "print(next(my_iter))  # Output: 1\n",
    "print(next(my_iter))  # Output: 2\n",
    "print(next(my_iter))  # Output: 3\n",
    "print(next(my_iter))  # Output: 4\n",
    "print(next(my_iter))  # Output: 5\n",
    "# print(next(my_iter))  # Output: StopIteration\n"
   ]
  },
  {
   "cell_type": "code",
   "execution_count": 4,
   "id": "d12d8009",
   "metadata": {},
   "outputs": [
    {
     "name": "stdout",
     "output_type": "stream",
     "text": [
      "1\n",
      "2\n",
      "3\n",
      "4\n",
      "5\n",
      "Reached the end of the iterator.\n"
     ]
    }
   ],
   "source": [
    "my_list = [1, 2, 3, 4, 5]\n",
    "my_iter = iter(my_list)\n",
    "try:\n",
    "    while True:\n",
    "        print(next(my_iter))\n",
    "except StopIteration:\n",
    "    print(\"Reached the end of the iterator.\")"
   ]
  },
  {
   "cell_type": "code",
   "execution_count": 5,
   "id": "60eaa58a",
   "metadata": {},
   "outputs": [
    {
     "name": "stdout",
     "output_type": "stream",
     "text": [
      "H\n",
      "e\n",
      "l\n",
      "l\n",
      "o\n",
      "Reached the end of the iterator for string.\n"
     ]
    }
   ],
   "source": [
    "my_string = \"Hello\"\n",
    "my_iter = iter(my_string)\n",
    "try:\n",
    "    while True:\n",
    "        print(next(my_iter))\n",
    "except StopIteration:\n",
    "    print(\"Reached the end of the iterator for string.\")"
   ]
  },
  {
   "cell_type": "code",
   "execution_count": null,
   "id": "470cb62f",
   "metadata": {},
   "outputs": [],
   "source": []
  }
 ],
 "metadata": {
  "kernelspec": {
   "display_name": "Python 3",
   "language": "python",
   "name": "python3"
  },
  "language_info": {
   "codemirror_mode": {
    "name": "ipython",
    "version": 3
   },
   "file_extension": ".py",
   "mimetype": "text/x-python",
   "name": "python",
   "nbconvert_exporter": "python",
   "pygments_lexer": "ipython3",
   "version": "3.12.11"
  }
 },
 "nbformat": 4,
 "nbformat_minor": 5
}
