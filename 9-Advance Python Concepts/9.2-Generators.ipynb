{
 "cells": [
  {
   "cell_type": "markdown",
   "id": "70733e4a",
   "metadata": {},
   "source": [
    "### Generator\n",
    "\n",
    "\n",
    "A generator is a special type of function in Python that returns an iterator object. Unlike regular functions that return a single value and terminate, generators can yield multiple values one at a time, pausing their execution between yields and resuming from where they left off. This makes them memory-efficient for handling large datasets or infinite sequences, as they generate values on-demand rather than storing all values in memory at once."
   ]
  },
  {
   "cell_type": "code",
   "execution_count": 5,
   "id": "6afb32dd",
   "metadata": {},
   "outputs": [],
   "source": [
    "def square(n):\n",
    "    for i in range(n):\n",
    "        yield i ** 2"
   ]
  },
  {
   "cell_type": "code",
   "execution_count": 6,
   "id": "ae34d20b",
   "metadata": {},
   "outputs": [],
   "source": [
    "s = square(3)"
   ]
  },
  {
   "cell_type": "code",
   "execution_count": 8,
   "id": "03dae1cd",
   "metadata": {},
   "outputs": [
    {
     "name": "stdout",
     "output_type": "stream",
     "text": [
      "0\n",
      "1\n",
      "4\n"
     ]
    }
   ],
   "source": [
    "for i in s:\n",
    "    print(i)"
   ]
  },
  {
   "cell_type": "code",
   "execution_count": 11,
   "id": "d44e2eb1",
   "metadata": {},
   "outputs": [
    {
     "data": {
      "text/plain": [
       "0"
      ]
     },
     "execution_count": 11,
     "metadata": {},
     "output_type": "execute_result"
    }
   ],
   "source": [
    "s = square(3)\n",
    "next(s)  # This will raise StopIteration if the generator is exhausted"
   ]
  },
  {
   "cell_type": "code",
   "execution_count": 12,
   "id": "29b2b471",
   "metadata": {},
   "outputs": [
    {
     "data": {
      "text/plain": [
       "1"
      ]
     },
     "execution_count": 12,
     "metadata": {},
     "output_type": "execute_result"
    }
   ],
   "source": [
    "next(s)  # This will raise StopIteration if the generator is exhausted"
   ]
  },
  {
   "cell_type": "code",
   "execution_count": 13,
   "id": "9b499b82",
   "metadata": {},
   "outputs": [
    {
     "data": {
      "text/plain": [
       "4"
      ]
     },
     "execution_count": 13,
     "metadata": {},
     "output_type": "execute_result"
    }
   ],
   "source": [
    "next(s)  # This will raise StopIteration if the generator is exhausted"
   ]
  },
  {
   "cell_type": "code",
   "execution_count": 18,
   "id": "86c89727",
   "metadata": {},
   "outputs": [],
   "source": [
    "def my_generator():\n",
    "    yield 1\n",
    "    yield 2\n",
    "    yield 3"
   ]
  },
  {
   "cell_type": "code",
   "execution_count": 20,
   "id": "03fa3e2e",
   "metadata": {},
   "outputs": [
    {
     "data": {
      "text/plain": [
       "1"
      ]
     },
     "execution_count": 20,
     "metadata": {},
     "output_type": "execute_result"
    }
   ],
   "source": [
    "a = my_generator()\n",
    "next(a)  # This will return 1"
   ]
  },
  {
   "cell_type": "code",
   "execution_count": null,
   "id": "edf65f1e",
   "metadata": {},
   "outputs": [
    {
     "data": {
      "text/plain": [
       "2"
      ]
     },
     "execution_count": 21,
     "metadata": {},
     "output_type": "execute_result"
    }
   ],
   "source": [
    "next(a)  # This will return 2"
   ]
  },
  {
   "cell_type": "code",
   "execution_count": 22,
   "id": "11975c26",
   "metadata": {},
   "outputs": [
    {
     "data": {
      "text/plain": [
       "3"
      ]
     },
     "execution_count": 22,
     "metadata": {},
     "output_type": "execute_result"
    }
   ],
   "source": [
    "next(a)"
   ]
  },
  {
   "cell_type": "code",
   "execution_count": 23,
   "id": "aec7735f",
   "metadata": {},
   "outputs": [],
   "source": [
    "def read_large_file(file_path):\n",
    "    with open(file_path, 'r') as file:\n",
    "        for line in file:\n",
    "            yield line.strip()"
   ]
  },
  {
   "cell_type": "code",
   "execution_count": 25,
   "id": "94e6111f",
   "metadata": {},
   "outputs": [
    {
     "name": "stdout",
     "output_type": "stream",
     "text": [
      "president of india article\n",
      "The President of India: Constitutional provisions and powers\n",
      "The President of India is the Head of State and the Supreme Commander of the Indian Armed Forces. The office and its functions are detailed in Part V of the Indian Constitution, specifically within Articles 52-62 and other related provisions.\n",
      "Here's a breakdown of the key articles concerning the President of India:\n",
      "Article 52: Establishes the office of the President.\n",
      "Article 53: Deals with the executive power of the Union, vested in the President, including the supreme command of the Defence Forces.\n",
      "Article 54: Outlines the election by an electoral college.\n",
      "Article 55: Details the election manner using proportional representation.\n",
      "Article 56: Defines the five-year term of office.\n",
      "Article 57: Specifies eligibility for re-election.\n",
      "Article 58: Sets out qualifications, including citizenship, age, and Lok Sabha eligibility.\n",
      "Article 59: Lays down office conditions, such as not holding other offices of profit.\n",
      "Article 60: Prescribes the oath or affirmation.\n",
      "Article 61: Outlines the impeachment procedure for violating the Constitution.\n",
      "Article 62: Deals with filling vacancies and the term of a person elected to fill a casual vacancy.\n",
      "Other relevant articles\n",
      "Other articles detail specific presidential powers:\n",
      "Article 72: Confers the power to grant pardons.\n",
      "Articles 352-360: Grant emergency powers.\n",
      "Article 123: Empowers the President to promulgate ordinances.\n",
      "Article 111: Defines the President's veto power on bills passed by Parliament.\n",
      "Article 201: Grants similar powers regarding bills passed by State Legislatures.\n",
      "Current President of India\n",
      "As of July 13, 2025, Smt. Droupadi Murmu is the 15th President of India, having taken office on July 25, 2022.\n"
     ]
    }
   ],
   "source": [
    "for line in read_large_file('large_file.txt'):\n",
    "    print(line.strip())"
   ]
  },
  {
   "cell_type": "code",
   "execution_count": null,
   "id": "b502b166",
   "metadata": {},
   "outputs": [],
   "source": []
  }
 ],
 "metadata": {
  "kernelspec": {
   "display_name": "Python 3",
   "language": "python",
   "name": "python3"
  },
  "language_info": {
   "codemirror_mode": {
    "name": "ipython",
    "version": 3
   },
   "file_extension": ".py",
   "mimetype": "text/x-python",
   "name": "python",
   "nbconvert_exporter": "python",
   "pygments_lexer": "ipython3",
   "version": "3.12.11"
  }
 },
 "nbformat": 4,
 "nbformat_minor": 5
}
