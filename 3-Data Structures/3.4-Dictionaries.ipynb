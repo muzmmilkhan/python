{
 "cells": [
  {
   "cell_type": "markdown",
   "id": "035b7b7b",
   "metadata": {},
   "source": [
    "## Dictionary\n",
    "\n",
    "A dictionary is a built-in data type in Python that stores data in key-value pairs. Here are the key points:\n",
    "\n",
    "• **Unordered collection**: Items have no defined order (Python 3.7+ maintains insertion order)\n",
    "• **Mutable**: Can be modified after creation\n",
    "• **Key-value pairs**: Each item consists of a key and its corresponding value\n",
    "• **Unique keys**: Keys must be unique within a dictionary\n",
    "• **Indexed by keys**: Access values using their associated keys rather than positions\n",
    "• **Dynamic size**: Can grow or shrink during runtime\n",
    "• **Syntax**: Created using curly braces `{}` or `dict()` constructor"
   ]
  },
  {
   "cell_type": "code",
   "execution_count": 1,
   "id": "d07c711d",
   "metadata": {},
   "outputs": [],
   "source": [
    "## Creating a Dictionary\n",
    "my_dict = {\n",
    "    \"name\": \"Muzmmil\",\n",
    "    \"age\": 30,\n",
    "    \"city\": \"India\"\n",
    "}"
   ]
  },
  {
   "cell_type": "code",
   "execution_count": 2,
   "id": "25a1d7c2",
   "metadata": {},
   "outputs": [
    {
     "name": "stdout",
     "output_type": "stream",
     "text": [
      "{'name': 'Muzmmil', 'age': 30, 'city': 'India'}\n",
      "<class 'dict'>\n"
     ]
    }
   ],
   "source": [
    "print(my_dict)  # Output: {'name': 'Muzmmil', 'age': 30, 'city': 'India'}\n",
    "print(type(my_dict))  # Output: <class 'dict'>"
   ]
  },
  {
   "cell_type": "code",
   "execution_count": 3,
   "id": "b63f988f",
   "metadata": {},
   "outputs": [
    {
     "ename": "KeyError",
     "evalue": "'country'",
     "output_type": "error",
     "traceback": [
      "\u001b[31m---------------------------------------------------------------------------\u001b[39m",
      "\u001b[31mKeyError\u001b[39m                                  Traceback (most recent call last)",
      "\u001b[36mCell\u001b[39m\u001b[36m \u001b[39m\u001b[32mIn[3]\u001b[39m\u001b[32m, line 2\u001b[39m\n\u001b[32m      1\u001b[39m \u001b[38;5;66;03m# Error\u001b[39;00m\n\u001b[32m----> \u001b[39m\u001b[32m2\u001b[39m \u001b[38;5;28mprint\u001b[39m(\u001b[43mmy_dict\u001b[49m\u001b[43m[\u001b[49m\u001b[33;43m\"\u001b[39;49m\u001b[33;43mcountry\u001b[39;49m\u001b[33;43m\"\u001b[39;49m\u001b[43m]\u001b[49m)  \u001b[38;5;66;03m# KeyError: 'country' (key does not exist)\u001b[39;00m\n",
      "\u001b[31mKeyError\u001b[39m: 'country'"
     ]
    }
   ],
   "source": [
    "# Error\n",
    "print(my_dict[\"country\"])  # KeyError: 'country' (key does not exist)\n"
   ]
  },
  {
   "cell_type": "code",
   "execution_count": 5,
   "id": "aafc8a11",
   "metadata": {},
   "outputs": [],
   "source": [
    "student = {    \"name\": \"Muzmmil\",\n",
    "    \"age\": 30,\n",
    "    \"city\": \"India\",\n",
    "    \"courses\": [\"Python\", \"JavaScript\"],\n",
    "    \"is_student\": True,\n",
    "    \"name\": \"khan\",\n",
    "}"
   ]
  },
  {
   "cell_type": "code",
   "execution_count": 7,
   "id": "727383aa",
   "metadata": {},
   "outputs": [
    {
     "name": "stdout",
     "output_type": "stream",
     "text": [
      "{'name': 'khan', 'age': 30, 'city': 'India', 'courses': ['Python', 'JavaScript'], 'is_student': True}\n",
      "<class 'dict'>\n"
     ]
    }
   ],
   "source": [
    "print(student)  # Output: {'name': 'Muzmmil', 'age': 30, 'city': 'India', 'courses': ['Python', 'JavaScript'], 'is_student': True}\n",
    "print(type(student))  # Output: <class 'dict'>"
   ]
  },
  {
   "cell_type": "code",
   "execution_count": 8,
   "id": "a122cdff",
   "metadata": {},
   "outputs": [
    {
     "name": "stdout",
     "output_type": "stream",
     "text": [
      "khan\n",
      "30\n",
      "Not Found\n"
     ]
    }
   ],
   "source": [
    "## Accessing Dictionary Values\n",
    "print(student[\"name\"])  # Output: 'Muzmmil'\n",
    "print(student.get(\"age\"))  # Output: 30 (using get method)\n",
    "print(student.get(\"country\", \"Not Found\"))  # Output: 'Not Found' (default value if key doesn't exist)"
   ]
  },
  {
   "cell_type": "code",
   "execution_count": 9,
   "id": "0af6f427",
   "metadata": {},
   "outputs": [
    {
     "name": "stdout",
     "output_type": "stream",
     "text": [
      "{'name': 'khan', 'age': 31, 'city': 'India', 'courses': ['Python', 'JavaScript'], 'is_student': True, 'country': 'India'}\n"
     ]
    }
   ],
   "source": [
    "## Modifying Dictionary Values\n",
    "student[\"age\"] = 31  # Update existing key\n",
    "student[\"country\"] = \"India\"  # Add new key-value pair\n",
    "print(student)  # Output: {'name': 'Muzmmil', 'age': 31, 'city': 'India', 'courses': ['Python', 'JavaScript'], 'is_student': True, 'country': 'India'}"
   ]
  },
  {
   "cell_type": "code",
   "execution_count": 10,
   "id": "de433d4d",
   "metadata": {},
   "outputs": [
    {
     "name": "stdout",
     "output_type": "stream",
     "text": [
      "{'name': 'khan', 'age': 31, 'courses': ['Python', 'JavaScript'], 'is_student': True, 'country': 'India'}\n"
     ]
    }
   ],
   "source": [
    "## Deleting Dictionary Keys\n",
    "del student[\"city\"]  # Delete key 'city'\n",
    "print(student)  # Output: {'name': 'Muzmmil', 'age': 31, 'courses': ['Python', 'JavaScript'], 'is_student': True, '"
   ]
  },
  {
   "cell_type": "code",
   "execution_count": 11,
   "id": "6622f5b4",
   "metadata": {},
   "outputs": [
    {
     "name": "stdout",
     "output_type": "stream",
     "text": [
      "dict_keys(['name', 'age', 'courses', 'is_student', 'country'])\n",
      "dict_values(['khan', 31, ['Python', 'JavaScript'], True, 'India'])\n",
      "dict_items([('name', 'khan'), ('age', 31), ('courses', ['Python', 'JavaScript']), ('is_student', True), ('country', 'India')])\n"
     ]
    }
   ],
   "source": [
    "## Dictionary Methods\n",
    "print(student.keys())  # Output: dict_keys(['name', 'age', 'courses', 'is_student', 'country'])\n",
    "print(student.values())  # Output: dict_values(['Muzmmil', 31, ['Python', 'JavaScript'], True, 'India'])\n",
    "print(student.items())  # Output: dict_items([('name', 'Muzmmil'), ('age', 31), ('courses', ['Python', 'JavaScript']), ('is_student', True),"
   ]
  },
  {
   "cell_type": "code",
   "execution_count": 12,
   "id": "d8f191b1",
   "metadata": {},
   "outputs": [
    {
     "name": "stdout",
     "output_type": "stream",
     "text": [
      "{'name': 'khan', 'age': 31, 'courses': ['Python', 'JavaScript'], 'is_student': True, 'country': 'India'}\n"
     ]
    }
   ],
   "source": [
    "## shallow copy\n",
    "new_student = student.copy()  # Create a shallow copy of the dictionary\n",
    "print(new_student)  # Output: {'name': 'Muzmmil', 'age': 31, 'courses': ['Python', 'JavaScript'], 'is_student': True,"
   ]
  },
  {
   "cell_type": "code",
   "execution_count": 13,
   "id": "ebc3bedf",
   "metadata": {},
   "outputs": [
    {
     "name": "stdout",
     "output_type": "stream",
     "text": [
      "{'name': 'Muzmmil Khan', 'age': 31, 'courses': ['Python', 'JavaScript'], 'is_student': True, 'country': 'India'}\n",
      "{'name': 'khan', 'age': 31, 'courses': ['Python', 'JavaScript'], 'is_student': True, 'country': 'India'}\n"
     ]
    }
   ],
   "source": [
    "student['name'] = \"Muzmmil Khan\"  # Update name in original dictionary\n",
    "print(student)  # Output: {'name': 'Muzmmil Khan', 'age': 31, 'courses': ['Python', 'JavaScript'], 'is_student': True, 'country': 'India'}\n",
    "print(new_student)  # Output: {'name': 'Muzmmil', 'age': 31, 'courses': ['Python', 'JavaScript'], '"
   ]
  },
  {
   "cell_type": "code",
   "execution_count": 14,
   "id": "5d8a738c",
   "metadata": {},
   "outputs": [
    {
     "name": "stdout",
     "output_type": "stream",
     "text": [
      "name: Muzmmil Khan\n",
      "age: 31\n",
      "courses: ['Python', 'JavaScript']\n",
      "is_student: True\n",
      "country: India\n"
     ]
    }
   ],
   "source": [
    "## Iterating through a Dictionary\n",
    "for key, value in student.items():\n",
    "    print(f\"{key}: {value}\")"
   ]
  },
  {
   "cell_type": "code",
   "execution_count": 15,
   "id": "96a851a4",
   "metadata": {},
   "outputs": [
    {
     "name": "stdout",
     "output_type": "stream",
     "text": [
      "name: Muzmmil Khan\n",
      "age: 31\n",
      "courses: ['Python', 'JavaScript']\n",
      "is_student: True\n",
      "country: India\n",
      "Muzmmil Khan\n",
      "31\n",
      "['Python', 'JavaScript']\n",
      "True\n",
      "India\n"
     ]
    }
   ],
   "source": [
    "for key in student:\n",
    "    print(f\"{key}: {student[key]}\")  # Accessing value using key\n",
    "for value in student.values():\n",
    "    print(value)  # Print each value in the dictionary"
   ]
  },
  {
   "cell_type": "code",
   "execution_count": 17,
   "id": "6b06c629",
   "metadata": {},
   "outputs": [
    {
     "name": "stdout",
     "output_type": "stream",
     "text": [
      "Jiya\n",
      "['English', 'History']\n",
      "Not Found\n",
      "22\n",
      "Not Found\n"
     ]
    }
   ],
   "source": [
    "## Nested Dictionaries\n",
    "nested_dict = {\n",
    "    \"student1\": {\n",
    "        \"name\": \"Jiya\",\n",
    "        \"age\": 22,\n",
    "        \"courses\": [\"Math\", \"Science\"]\n",
    "    },\n",
    "    \"student2\": {\n",
    "        \"name\": \"Najmin\",\n",
    "        \"age\": 24,\n",
    "        \"courses\": [\"English\", \"History\"]\n",
    "    }\n",
    "}\n",
    "print(nested_dict[\"student1\"][\"name\"])  # Output: 'Jiya'\n",
    "print(nested_dict[\"student2\"][\"courses\"])  # Output: ['English', 'History']\n",
    "print(nested_dict.get(\"student3\", \"Not Found\"))  # Output: 'Not Found' (key does not exist)\n",
    "print(nested_dict.get(\"student1\", {}).get(\"age\", \"Not Found\"))  # Output: 22 (using nested get method)\n",
    "print(nested_dict.get(\"student3\", {}).get(\"name\", \"Not Found\"))  # Output: 'Not Found' (key does not exist)"
   ]
  },
  {
   "cell_type": "code",
   "execution_count": 18,
   "id": "444efaa4",
   "metadata": {},
   "outputs": [
    {
     "name": "stdout",
     "output_type": "stream",
     "text": [
      "{'student1': {'name': 'Jiya', 'age': 23, 'courses': ['Math', 'Science']}, 'student2': {'name': 'Najmin', 'age': 24, 'courses': ['English', 'History', 'Geography']}}\n"
     ]
    }
   ],
   "source": [
    "nested_dict[\"student1\"][\"age\"] = 23  # Update age of student1\n",
    "nested_dict[\"student2\"][\"courses\"].append(\"Geography\")  # Add new course to student2\n",
    "print(nested_dict)  # Output: {'student1': {'name': 'Jiya', 'age': 23, 'courses': ['Math', 'Science']}, '"
   ]
  },
  {
   "cell_type": "code",
   "execution_count": 19,
   "id": "2e757306",
   "metadata": {},
   "outputs": [
    {
     "name": "stdout",
     "output_type": "stream",
     "text": [
      "ID: student1\n",
      "  name: Jiya\n",
      "  age: 23\n",
      "  courses: ['Math', 'Science']\n",
      "\n",
      "ID: student2\n",
      "  name: Najmin\n",
      "  age: 24\n",
      "  courses: ['English', 'History', 'Geography']\n",
      "\n"
     ]
    }
   ],
   "source": [
    "## Itreating through Nested Dictionaries\n",
    "for student_id, student_info in nested_dict.items():\n",
    "    print(f\"ID: {student_id}\")\n",
    "    for key, value in student_info.items():\n",
    "        print(f\"  {key}: {value}\")\n",
    "    print()  # Print a newline for better readability   "
   ]
  },
  {
   "cell_type": "code",
   "execution_count": 20,
   "id": "3e783c2a",
   "metadata": {},
   "outputs": [
    {
     "name": "stdout",
     "output_type": "stream",
     "text": [
      "{1: 1, 2: 4, 3: 9, 4: 16, 5: 25}\n",
      "{'courses': ['Python', 'JavaScript']}\n"
     ]
    }
   ],
   "source": [
    "## Dictionary Comprehensions\n",
    "squared_numbers = {x: x**2 for x in range(1, 6)}  # Create a dictionary with numbers and their squares\n",
    "print(squared_numbers)  # Output: {1: 1, 2: 4, 3: 9, 4: 16, 5: 25}\n",
    "filtered_dict = {k: v for k, v in student.items() if isinstance(v, list)}  # Filter dictionary to include only keys with list values\n",
    "print(filtered_dict)  # Output: {'courses': ['Python', 'JavaScript']}   "
   ]
  },
  {
   "cell_type": "code",
   "execution_count": 24,
   "id": "5ad42e23",
   "metadata": {},
   "outputs": [
    {
     "name": "stdout",
     "output_type": "stream",
     "text": [
      "{1: 'Odd', 2: 'Even', 3: 'Odd', 4: 'Even', 5: 'Odd', 6: 'Even', 7: 'Odd', 8: 'Even', 9: 'Odd', 10: 'Even'}\n"
     ]
    }
   ],
   "source": [
    "# Conditional Dictionary Comprehensions\n",
    "even_odd_dict = {x: \"Even\" if x % 2 == 0 else \"Odd\" for x in range(1, 11)}  # Create a dictionary with numbers and their even/odd status\n",
    "print(even_odd_dict)  # Output: {1: 'Odd', 2: 'Even', 3: 'Odd', 4: 'Even', 5: 'Odd', 6: 'Even', 7: 'Odd', 8: 'Even',"
   ]
  },
  {
   "cell_type": "code",
   "execution_count": 25,
   "id": "dcc9f9d9",
   "metadata": {},
   "outputs": [],
   "source": [
    "numbers = [1, 2, 2, 3, 3, 3, 4, 4, 4, 4]"
   ]
  },
  {
   "cell_type": "code",
   "execution_count": 26,
   "id": "eb035f9f",
   "metadata": {},
   "outputs": [
    {
     "name": "stdout",
     "output_type": "stream",
     "text": [
      "{1: 1, 2: 2, 3: 3, 4: 4}\n"
     ]
    }
   ],
   "source": [
    "frequency_dict = {}\n",
    "for num in numbers:\n",
    "    if num in frequency_dict:\n",
    "        frequency_dict[num] += 1\n",
    "    else:\n",
    "        frequency_dict[num] = 1\n",
    "print(frequency_dict)  # Output: {1: 1, 2: 2, 3: 3, 4: 4}  # Count frequency of each number in the list"
   ]
  },
  {
   "cell_type": "code",
   "execution_count": 27,
   "id": "e21e0e93",
   "metadata": {},
   "outputs": [
    {
     "name": "stdout",
     "output_type": "stream",
     "text": [
      "{'a': 1, 'b': 3, 'c': 4}\n"
     ]
    }
   ],
   "source": [
    "## Merging Dictionaries\n",
    "dict1 = {\"a\": 1, \"b\": 2}\n",
    "dict2 = {\"b\": 3, \"c\": 4}\n",
    "merged_dict = {**dict1, **dict2}  # Merge two dictionaries (dict1 takes precedence over dict2 for common keys)\n",
    "print(merged_dict)  # Output: {'a': 1, 'b': 3, 'c': 4}"
   ]
  },
  {
   "cell_type": "code",
   "execution_count": null,
   "id": "dc49b91f",
   "metadata": {},
   "outputs": [],
   "source": []
  }
 ],
 "metadata": {
  "kernelspec": {
   "display_name": "Python 3",
   "language": "python",
   "name": "python3"
  },
  "language_info": {
   "codemirror_mode": {
    "name": "ipython",
    "version": 3
   },
   "file_extension": ".py",
   "mimetype": "text/x-python",
   "name": "python",
   "nbconvert_exporter": "python",
   "pygments_lexer": "ipython3",
   "version": "3.12.11"
  }
 },
 "nbformat": 4,
 "nbformat_minor": 5
}
