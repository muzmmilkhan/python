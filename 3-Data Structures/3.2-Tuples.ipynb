{
 "cells": [
  {
   "cell_type": "markdown",
   "id": "7ea0c902",
   "metadata": {},
   "source": [
    "## Tuples\n",
    "\n",
    "### Definition\n",
    "\n",
    "- A tuple is an ordered collection of items (elements) in Python\n",
    "- Tuples are immutable, meaning their contents cannot be changed after creation\n",
    "- Elements in a tuple can be of different data types\n",
    "- Tuples are defined using parentheses `()` with elements separated by commas\n",
    "- They support indexing and slicing operations\n",
    "- Tuples are commonly used to store related pieces of information together"
   ]
  },
  {
   "cell_type": "code",
   "execution_count": 2,
   "id": "bd887790",
   "metadata": {},
   "outputs": [
    {
     "name": "stdout",
     "output_type": "stream",
     "text": [
      "(1, 2, 3)\n",
      "(4, 5, 6)\n",
      "<class 'tuple'>\n",
      "<class 'tuple'>\n"
     ]
    }
   ],
   "source": [
    "## Creating Tuples\n",
    "# Tuples can be created using parentheses () or the tuple() function.\n",
    "my_tuple = (1, 2, 3)\n",
    "another_tuple = tuple([4, 5, 6])\n",
    "print(my_tuple)  # Output: (1, 2, 3)\n",
    "print(another_tuple)  # Output: (4, 5, 6)\n",
    "print(type(my_tuple))  # Output: <class 'tuple'>\n",
    "print(type(another_tuple))  # Output: <class 'tuple'>"
   ]
  },
  {
   "cell_type": "code",
   "execution_count": 3,
   "id": "a70f9ef3",
   "metadata": {},
   "outputs": [
    {
     "name": "stdout",
     "output_type": "stream",
     "text": [
      "(1, 2, 3)\n",
      "(42,)\n",
      "<class 'tuple'>\n"
     ]
    }
   ],
   "source": [
    "lst1 = [1, 2, 3]\n",
    "tuple_from_list = tuple(lst1)  # Convert a list to a tuple\n",
    "print(tuple_from_list)  # Output: (1, 2, 3)\n",
    "# You can also create a tuple with a single element by adding a comma after the element.\n",
    "single_element_tuple = (42,)  # Note the comma\n",
    "print(single_element_tuple)  # Output: (42,)\n",
    "print(type(single_element_tuple))  # Output: <class 'tuple'>"
   ]
  },
  {
   "cell_type": "code",
   "execution_count": 4,
   "id": "3ee84b34",
   "metadata": {},
   "outputs": [
    {
     "name": "stdout",
     "output_type": "stream",
     "text": [
      "[(1, 1), (1, 2), (1, 3), (2, 1), (2, 2), (2, 3), (3, 1), (3, 2), (3, 3)]\n"
     ]
    }
   ],
   "source": [
    "list_of_tuples = [(i, j) for i in lst1 for j in lst1]  # This will create a list of tuples\n",
    "print(list_of_tuples)  # This will print [(1, 1), (1, 2), (1, 3), (2, 1), (2, 2), (2, 3), (3, 1), (3, 2"
   ]
  },
  {
   "cell_type": "code",
   "execution_count": 5,
   "id": "a13728e6",
   "metadata": {},
   "outputs": [
    {
     "name": "stdout",
     "output_type": "stream",
     "text": [
      "(1, 'a', 3.14, True)\n",
      "<class 'tuple'>\n"
     ]
    }
   ],
   "source": [
    "mixed_tuple = (1, 'a', 3.14, True)  # A tuple with mixed data types\n",
    "print(mixed_tuple)  # Output: (1, 'a', 3.14, True)\n",
    "print(type(mixed_tuple))  # Output: <class 'tuple'>\n",
    "# Tuples can also be nested, meaning you can have tuples within tuples."
   ]
  },
  {
   "cell_type": "code",
   "execution_count": 6,
   "id": "3d86744e",
   "metadata": {},
   "outputs": [
    {
     "name": "stdout",
     "output_type": "stream",
     "text": [
      "1\n",
      "(2, 3)\n"
     ]
    }
   ],
   "source": [
    "# Indexing and Slicing Tuples\n",
    "# Tuples support indexing and slicing just like lists.\n",
    "print(my_tuple[0])  # Output: 1\n",
    "print(my_tuple[1:3])  # Output: (2, 3)\n"
   ]
  },
  {
   "cell_type": "code",
   "execution_count": 7,
   "id": "e95b32df",
   "metadata": {},
   "outputs": [
    {
     "name": "stdout",
     "output_type": "stream",
     "text": [
      "(3, 2, 1)\n"
     ]
    }
   ],
   "source": [
    "# Reversing a Tuple\n",
    "# You can reverse a tuple using slicing.\n",
    "reversed_tuple = my_tuple[::-1]\n",
    "print(reversed_tuple)  # Output: (3, 2, 1)"
   ]
  },
  {
   "cell_type": "code",
   "execution_count": 8,
   "id": "312a7a87",
   "metadata": {},
   "outputs": [
    {
     "name": "stdout",
     "output_type": "stream",
     "text": [
      "(1, 2, 3, 4, 5, 6)\n",
      "(1, 2, 3, 1, 2, 3)\n"
     ]
    }
   ],
   "source": [
    "# Tupeles Operations\n",
    "# Tuples support various operations like concatenation and repetition.\n",
    "concatenated_tuple = my_tuple + another_tuple\n",
    "print(concatenated_tuple)  # Output: (1, 2, 3, 4, 5, 6)\n",
    "repeated_tuple = my_tuple * 2\n",
    "print(repeated_tuple)  # Output: (1, 2, 3, 1, 2, 3)"
   ]
  },
  {
   "cell_type": "code",
   "execution_count": 9,
   "id": "94682e6d",
   "metadata": {},
   "outputs": [
    {
     "data": {
      "text/plain": [
       "(1, 'a', 3.14, True, 1, 'a', 3.14, True, 1, 'a', 3.14, True)"
      ]
     },
     "execution_count": 9,
     "metadata": {},
     "output_type": "execute_result"
    }
   ],
   "source": [
    "mixed_tuple * 3"
   ]
  },
  {
   "cell_type": "code",
   "execution_count": 10,
   "id": "4d13c193",
   "metadata": {},
   "outputs": [
    {
     "data": {
      "text/plain": [
       "(1, 2, 3, 4, 5, 1, 2, 3, 4, 5)"
      ]
     },
     "execution_count": 10,
     "metadata": {},
     "output_type": "execute_result"
    }
   ],
   "source": [
    "numbers = (1, 2, 3, 4, 5)\n",
    "numbers[0]  # Accessing the first element of the tuple\n",
    "numbers[1:3]  # Slicing the tuple to get elements from index 1 to index 3 (exclusive)\n",
    "numbers[::-1]  # Reversing the tuple\n",
    "numbers + (6, 7)  # Concatenating another tuple to the existing tuple\n",
    "numbers * 2  # Repeating the tuple twice"
   ]
  },
  {
   "cell_type": "code",
   "execution_count": 11,
   "id": "de931dd5",
   "metadata": {},
   "outputs": [
    {
     "name": "stdout",
     "output_type": "stream",
     "text": [
      "Error: 'tuple' object does not support item assignment\n"
     ]
    }
   ],
   "source": [
    "# Immutability of Tuples\n",
    "# Tuples are immutable, meaning you cannot change their elements after creation.\n",
    "# Attempting to modify a tuple will raise a TypeError.\n",
    "try:\n",
    "    my_tuple[0] = 10  # This will raise an error\n",
    "except TypeError as e:\n",
    "    print(f\"Error: {e}\")"
   ]
  },
  {
   "cell_type": "code",
   "execution_count": 12,
   "id": "6629b856",
   "metadata": {},
   "outputs": [
    {
     "name": "stdout",
     "output_type": "stream",
     "text": [
      "Count of 1 in my_tuple: 1\n",
      "Index of 2 in my_tuple: 1\n",
      "Count of 'a' in mixed_tuple: 2\n",
      "Index of 'a' in mixed_tuple: 1\n",
      "Error: tuple.index(x): x not in tuple\n",
      "(10, 2, 3)\n"
     ]
    }
   ],
   "source": [
    "## Tuple methods\n",
    "# Tuples have a few built-in methods, such as count() and index().\n",
    "# count() returns the number of occurrences of a specified value.\n",
    "count_of_1 = my_tuple.count(1)\n",
    "print(f\"Count of 1 in my_tuple: {count_of_1}\")  # Output: Count of 1 in my_tuple: 1\n",
    "# index() returns the index of the first occurrence of a specified value.\n",
    "index_of_2 = my_tuple.index(2)\n",
    "print(f\"Index of 2 in my_tuple: {index_of_2}\")  # Output: Index of 2 in my_tuple: 1\n",
    "# Note: If the value is not found, index() will raise a ValueError.\n",
    "# Example of using count() and index() with a tuple containing mixed data types.\n",
    "mixed_tuple = (1, 'a', 3.14, True, 'a')\n",
    "count_of_a = mixed_tuple.count('a')\n",
    "print(f\"Count of 'a' in mixed_tuple: {count_of_a}\")  # Output: Count of 'a' in mixed_tuple: 2\n",
    "index_of_a = mixed_tuple.index('a')\n",
    "print(f\"Index of 'a' in mixed_tuple: {index_of_a}\")  # Output: Index of 'a' in mixed_tuple: 1\n",
    "# If you try to find the index of a value that is not present, it will raise a ValueError.\n",
    "try:\n",
    "    index_of_b = mixed_tuple.index('b')  # This will raise an error\n",
    "except ValueError as e:\n",
    "    print(f\"Error: {e}\")\n",
    "# Output: Error: 'b' is not in tuple\n",
    "# Note: Tuples do not have methods like append() or remove() because they are immutable.\n",
    "# If you need to modify a tuple, you can convert it to a list, make changes, and then convert it back to a tuple.\n",
    "# Example of converting a tuple to a list, modifying it, and converting it back to a tuple.\n",
    "temp_list = list(my_tuple)  # Convert tuple to list\n",
    "temp_list[0] = 10  # Modify the first element\n",
    "modified_tuple = tuple(temp_list)  # Convert list back to tuple\n",
    "print(modified_tuple)  # Output: (10, 2, 3)\n",
    "# This is a workaround since tuples themselves cannot be modified.  "
   ]
  },
  {
   "cell_type": "code",
   "execution_count": 13,
   "id": "90afda9d",
   "metadata": {},
   "outputs": [
    {
     "name": "stdout",
     "output_type": "stream",
     "text": [
      "(1, 2, 3)\n",
      "1 2 3\n"
     ]
    }
   ],
   "source": [
    "## Packing and Unpacking Tuples\n",
    "# Tuples can be used for packing and unpacking values.\n",
    "# Packing is when you assign multiple values to a tuple in a single statement.\n",
    "packed_tuple = 1, 2, 3  # Packing values into a tuple\n",
    "print(packed_tuple)  # Output: (1, 2, 3)\n",
    "# Unpacking is when you assign the values of a tuple to multiple variables.\n",
    "a, b, c = packed_tuple  # Unpacking values from a tuple\n",
    "print(a, b, c)  # Output: 1 2 3"
   ]
  },
  {
   "cell_type": "code",
   "execution_count": 14,
   "id": "36964ce4",
   "metadata": {},
   "outputs": [
    {
     "name": "stdout",
     "output_type": "stream",
     "text": [
      "1\n",
      "2\n",
      "[3, 4, 5]\n"
     ]
    }
   ],
   "source": [
    "## Unpacking with * operator\n",
    "# You can use the * operator to unpack a tuple into multiple variables, allowing you to capture\n",
    "# the remaining elements in a single variable.\n",
    "numbers = (1, 2, 3, 4, 5)\n",
    "a, b, *rest = numbers  # Unpacking with * operator\n",
    "print(a)  # Output: 1\n",
    "print(b)  # Output: 2\n",
    "print(rest)  # Output: [3, 4, 5]"
   ]
  },
  {
   "cell_type": "code",
   "execution_count": 15,
   "id": "06fe16c5",
   "metadata": {},
   "outputs": [
    {
     "name": "stdout",
     "output_type": "stream",
     "text": [
      "(1, (2, 3), (4, 5, 6))\n",
      "(2, 3)\n",
      "2\n",
      "5\n"
     ]
    }
   ],
   "source": [
    "## Nested Tuples\n",
    "# Tuples can be nested, meaning you can have tuples within tuples.\n",
    "nested_tuple = (1, (2, 3), (4, 5, 6))\n",
    "print(nested_tuple)  # Output: (1, (2, 3), (4, 5, 6))\n",
    "print(nested_tuple[1])  # Output: (2, 3)\n",
    "print(nested_tuple[1][0])  # Output: 2\n",
    "print(nested_tuple[2][1])  # Output: 5  "
   ]
  },
  {
   "cell_type": "code",
   "execution_count": 16,
   "id": "89d702e9",
   "metadata": {},
   "outputs": [
    {
     "name": "stdout",
     "output_type": "stream",
     "text": [
      "((1, 2), (3, 4), (5, 6))\n",
      "<class 'tuple'>\n"
     ]
    }
   ],
   "source": [
    "lst_of_lists = [[1, 2], [3, 4], [5, 6]]\n",
    "# Converting a list of lists to a tuple of tuples\n",
    "tuple_of_tuples = tuple(tuple(sublist) for sublist in lst_of_lists)\n",
    "print(tuple_of_tuples)  # Output: ((1, 2), (3, 4), (5, 6))\n",
    "print(type(tuple_of_tuples))  # Output: <class 'tuple'>\n",
    "# This is useful when you want to ensure that the structure remains immutable,\n",
    "# as tuples cannot be modified after creation, unlike lists."
   ]
  },
  {
   "cell_type": "code",
   "execution_count": 17,
   "id": "76f4b40b",
   "metadata": {},
   "outputs": [
    {
     "name": "stdout",
     "output_type": "stream",
     "text": [
      "((1, 2), (3, 4), (5, 6))\n",
      "(1, 2)\n",
      "3\n",
      "6\n"
     ]
    }
   ],
   "source": [
    "nested_tuple = ((1, 2), (3, 4), (5, 6))\n",
    "print(nested_tuple)  # Output: ((1, 2), (3, 4), (5, 6))\n",
    "print(nested_tuple[0])  # Output: (1, 2)\n",
    "print(nested_tuple[1][0])  # Output: 3\n",
    "print(nested_tuple[2][1])  # Output: 6"
   ]
  },
  {
   "cell_type": "code",
   "execution_count": 18,
   "id": "fb908466",
   "metadata": {},
   "outputs": [
    {
     "name": "stdout",
     "output_type": "stream",
     "text": [
      "1\n",
      "2\n",
      "3\n"
     ]
    }
   ],
   "source": [
    "# Itration over Tuples\n",
    "# You can iterate over the elements of a tuple using a for loop.\n",
    "for element in my_tuple:\n",
    "    print(element)  # This will print each element of the tuple on a new line"
   ]
  },
  {
   "cell_type": "code",
   "execution_count": 19,
   "id": "6271d880",
   "metadata": {},
   "outputs": [],
   "source": [
    "# Conclusion\n",
    "# Tuples are a powerful data structure in Python that allow you to store immutable sequences of elements.\n",
    "# They support various operations like indexing, slicing, concatenation, and repetition.\n",
    "# Tuples can be nested, packed, and unpacked, making them versatile for different use cases.\n",
    "# Their immutability ensures that the data remains unchanged, which can be beneficial in many scenarios.\n",
    "# Understanding tuples is essential for effective Python programming, especially when dealing with fixed collections of items."
   ]
  }
 ],
 "metadata": {
  "kernelspec": {
   "display_name": "Python 3",
   "language": "python",
   "name": "python3"
  },
  "language_info": {
   "codemirror_mode": {
    "name": "ipython",
    "version": 3
   },
   "file_extension": ".py",
   "mimetype": "text/x-python",
   "name": "python",
   "nbconvert_exporter": "python",
   "pygments_lexer": "ipython3",
   "version": "3.12.11"
  }
 },
 "nbformat": 4,
 "nbformat_minor": 5
}
