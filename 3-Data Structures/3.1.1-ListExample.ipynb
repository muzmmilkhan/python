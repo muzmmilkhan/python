{
 "cells": [
  {
   "cell_type": "code",
   "execution_count": 1,
   "id": "7be867a4",
   "metadata": {},
   "outputs": [
    {
     "name": "stdout",
     "output_type": "stream",
     "text": [
      "['Buy groceries', 'Walk the dog', 'Read a book', 'Exercise']\n",
      "['Buy groceries', 'Read a book', 'Exercise']\n",
      "Buy groceries\n",
      "Exercise\n"
     ]
    }
   ],
   "source": [
    "## TO DO List\n",
    "to_do_list = [\"Buy groceries\", \"Walk the dog\", \"Read a book\"]\n",
    "\n",
    "## Add a new task\n",
    "to_do_list.append(\"Exercise\")  # Add a new task to the list\n",
    "print(to_do_list)  # Output: ['Buy groceries', 'Walk the dog', 'Read a book', 'Exercise']       \n",
    "\n",
    "## Remove a task\n",
    "to_do_list.remove(\"Walk the dog\")  # Remove a specific task from the list\n",
    "print(to_do_list)  # Output: ['Buy groceries', 'Read a book', 'Exercise']   \n",
    "\n",
    "## Accessing tasks\n",
    "print(to_do_list[0])  # Access the first task in the list, Output: 'Buy groceries'\n",
    "print(to_do_list[-1])  # Access the last task in the list, Output: 'Exercise'   "
   ]
  },
  {
   "cell_type": "code",
   "execution_count": 2,
   "id": "2d13a74f",
   "metadata": {},
   "outputs": [
    {
     "name": "stdout",
     "output_type": "stream",
     "text": [
      "Average grade: 86.6\n",
      "Highest grade: 92\n",
      "Lowest grade: 78\n"
     ]
    }
   ],
   "source": [
    "# Organizing student grade information\n",
    "grades = [85, 90, 78, 92, 88]\n",
    "\n",
    "# Calculating the average grade\n",
    "average_grade = sum(grades) / len(grades)\n",
    "print(\"Average grade:\", average_grade)\n",
    "\n",
    "# Finding the highest and lowest grades\n",
    "highest_grade = max(grades)\n",
    "lowest_grade = min(grades)\n",
    "print(\"Highest grade:\", highest_grade)\n",
    "print(\"Lowest grade:\", lowest_grade)"
   ]
  },
  {
   "cell_type": "code",
   "execution_count": 5,
   "id": "de375d39",
   "metadata": {},
   "outputs": [
    {
     "name": "stdout",
     "output_type": "stream",
     "text": [
      "['Apples', 'Bananas', 'Oranges', 'Grapes', 'Mangoes']\n",
      "['Apples', 'Oranges', 'Grapes', 'Mangoes']\n",
      "Oranges are in stock.\n",
      "Inventory List:\n",
      "Apples\n",
      "Oranges\n",
      "Grapes\n",
      "Mangoes\n"
     ]
    }
   ],
   "source": [
    "# Managing a inventory of products\n",
    "inventory = [\"Apples\", \"Bananas\", \"Oranges\", \"Grapes\"]\n",
    "\n",
    "## Add a new product\n",
    "inventory.append(\"Mangoes\")  # Add a new product to the inventory\n",
    "print(inventory)  # Output: ['Apples', 'Bananas', 'Oranges', 'Grapes', 'Mangoes']   \n",
    "\n",
    "## Remove a product\n",
    "inventory.remove(\"Bananas\")  # Remove a specific product from the inventory\n",
    "print(inventory)  # Output: ['Apples', 'Oranges', 'Grapes', 'Mangoes']\n",
    "\n",
    "## Check if a product is in stock\n",
    "product_to_check = \"Oranges\"\n",
    "if product_to_check in inventory:\n",
    "    print(f\"{product_to_check} are in stock.\")\n",
    "else:\n",
    "    print(f\"{product_to_check} are not in stock.\")  \n",
    "\n",
    "# printing the inventory\n",
    "print(\"Inventory List:\")\n",
    "for product in inventory:    \n",
    "    print(product)  # Print each product in the inventory"
   ]
  },
  {
   "cell_type": "code",
   "execution_count": 7,
   "id": "ddb7b893",
   "metadata": {},
   "outputs": [
    {
     "name": "stdout",
     "output_type": "stream",
     "text": [
      "Count of 'Great service!': 1\n",
      "Feedback List:\n",
      "Great service!\n",
      "Very satisfied\n",
      "Could be better\n",
      "Excellent quality\n",
      "Loved the experience!\n"
     ]
    }
   ],
   "source": [
    "# Collecting user feedback\n",
    "feedback = [\"Great service!\", \"Very satisfied\", \"Could be better\", \"Excellent quality\"]\n",
    "\n",
    "# Adding new feedback\n",
    "feedback.append(\"Loved the experience!\")  # Add new feedback to the list\n",
    "\n",
    "\n",
    "# Count the specific feedback\n",
    "positive_feedback_count = feedback.count(\"Great service!\")  # Count how many times a specific feedback appears\n",
    "print(\"Count of 'Great service!':\", positive_feedback_count)  # Output: 1\n",
    "\n",
    "print(\"Feedback List:\")\n",
    "for comment in feedback:\n",
    "    print(comment)  # Print each feedback comment\n",
    "\n"
   ]
  },
  {
   "cell_type": "code",
   "execution_count": null,
   "id": "294ca00f",
   "metadata": {},
   "outputs": [],
   "source": []
  }
 ],
 "metadata": {
  "kernelspec": {
   "display_name": "Python 3",
   "language": "python",
   "name": "python3"
  },
  "language_info": {
   "codemirror_mode": {
    "name": "ipython",
    "version": 3
   },
   "file_extension": ".py",
   "mimetype": "text/x-python",
   "name": "python",
   "nbconvert_exporter": "python",
   "pygments_lexer": "ipython3",
   "version": "3.12.11"
  }
 },
 "nbformat": 4,
 "nbformat_minor": 5
}
