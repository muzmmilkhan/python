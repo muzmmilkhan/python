{
 "cells": [
  {
   "cell_type": "markdown",
   "id": "ff916149",
   "metadata": {},
   "source": [
    "## Sets\n",
    "\n",
    "A **set** is a fundamental data structure in programming and mathematics with the following key characteristics:\n",
    "\n",
    "• **Unordered collection**: Elements have no specific sequence or index\n",
    "• **Unique elements**: No duplicate values are allowed\n",
    "• **Mutable**: Can add or remove elements after creation\n",
    "• **Iterable**: Can loop through elements\n",
    "• **Mathematical operations**: Supports union, intersection, difference, and subset operations\n",
    "• **Fast membership testing**: Efficient to check if an element exists in the set\n",
    "• **Created with curly braces**: `{1, 2, 3}` or using `set()` constructor\n",
    "• **Empty set**: Must use `set()` (not `{}` which creates a dictionary)"
   ]
  },
  {
   "cell_type": "markdown",
   "id": "86435278",
   "metadata": {},
   "source": [
    "### Create a set"
   ]
  },
  {
   "cell_type": "code",
   "execution_count": 1,
   "id": "14ae17c5",
   "metadata": {},
   "outputs": [
    {
     "name": "stdout",
     "output_type": "stream",
     "text": [
      "{1, 2, 3, 4, 5}\n"
     ]
    }
   ],
   "source": [
    "## Creating Sets\n",
    "# A set is a collection of unique elements. You can create a set using curly braces or the set() function.\n",
    "my_set = {1, 2, 3, 4, 5}\n",
    "print(my_set)  # Output: {1, 2, 3, 4, 5}"
   ]
  },
  {
   "cell_type": "code",
   "execution_count": 2,
   "id": "77d24fcb",
   "metadata": {},
   "outputs": [
    {
     "name": "stdout",
     "output_type": "stream",
     "text": [
      "<class 'set'>\n"
     ]
    }
   ],
   "source": [
    "print(type(my_set))  # Output: <class 'set'>"
   ]
  },
  {
   "cell_type": "code",
   "execution_count": 4,
   "id": "85759f64",
   "metadata": {},
   "outputs": [
    {
     "name": "stdout",
     "output_type": "stream",
     "text": [
      "set()\n",
      "<class 'set'>\n"
     ]
    }
   ],
   "source": [
    "my_empty_set = set()\n",
    "print(my_empty_set)  # Output: set()\n",
    "print(type(my_empty_set))  # Output: <class 'set'>"
   ]
  },
  {
   "cell_type": "code",
   "execution_count": 6,
   "id": "a3b52fc2",
   "metadata": {},
   "outputs": [
    {
     "name": "stdout",
     "output_type": "stream",
     "text": [
      "{}\n",
      "<class 'dict'>\n"
     ]
    }
   ],
   "source": [
    "my_empty_set2 = {} # This creates an empty dictionary, not a set\n",
    "print(my_empty_set2)  # Output: {}\n",
    "print(type(my_empty_set2))  # Output: <class 'dict'>"
   ]
  },
  {
   "cell_type": "code",
   "execution_count": 7,
   "id": "f03df36a",
   "metadata": {},
   "outputs": [
    {
     "name": "stdout",
     "output_type": "stream",
     "text": [
      "{1, 2, 3, 4, 5}\n",
      "<class 'set'>\n"
     ]
    }
   ],
   "source": [
    "my_set2 = set([1, 2, 3, 4, 5,5,4,3,2,1])  # Using set constructor with a list\n",
    "print(my_set2)  # Output: {1, 2, 3, 4, 5}\n",
    "print(type(my_set2))  # Output: <class 'set'>"
   ]
  },
  {
   "cell_type": "code",
   "execution_count": 8,
   "id": "2c3101f2",
   "metadata": {},
   "outputs": [
    {
     "name": "stdout",
     "output_type": "stream",
     "text": [
      "{1, 2, 3, 4, 5}\n",
      "{3}\n",
      "{1, 2}\n",
      "{1, 2, 4, 5}\n"
     ]
    }
   ],
   "source": [
    "# Basic Operations on Sets\n",
    "# Sets support various operations like union, intersection, difference, and symmetric difference.\n",
    "set_a = {1, 2, 3}\n",
    "set_b = {3, 4, 5}\n",
    "print(set_a.union(set_b))  # Output: {1, 2, 3, 4, 5}\n",
    "print(set_a.intersection(set_b))  # Output: {3}\n",
    "print(set_a.difference(set_b))  # Output: {1, 2}\n",
    "print(set_a.symmetric_difference(set_b))  # Output: {1, 2, 4, 5}"
   ]
  },
  {
   "cell_type": "code",
   "execution_count": 9,
   "id": "bec83813",
   "metadata": {},
   "outputs": [
    {
     "data": {
      "text/plain": [
       "{1, 2, 3, 4, 5}"
      ]
     },
     "execution_count": 9,
     "metadata": {},
     "output_type": "execute_result"
    }
   ],
   "source": [
    "my_set"
   ]
  },
  {
   "cell_type": "code",
   "execution_count": 10,
   "id": "93d7d47d",
   "metadata": {},
   "outputs": [
    {
     "name": "stdout",
     "output_type": "stream",
     "text": [
      "{1, 2, 3, 4, 5, 6}\n",
      "{1, 2, 3, 4, 5}\n",
      "{1, 2, 3, 4}\n",
      "1\n",
      "{2, 3, 4}\n",
      "set()\n"
     ]
    }
   ],
   "source": [
    "my_set.add(6)  # Adding an element\n",
    "print(my_set)  # Output: {1, 2, 3, 4, 5, 6}\n",
    "my_set.remove(6)  # Removing an element\n",
    "print(my_set)  # Output: {1, 2, 3, 4, 5}\n",
    "my_set.discard(5)  # Discarding an element (no error if not present)\n",
    "print(my_set)  # Output: {1, 2, 3, 4}\n",
    "print(my_set.pop())  # Removes and returns an arbitrary element\n",
    "print(my_set)  # Output: {2, 3, 4} (the output may vary)\n",
    "my_set.clear()  # Clears the set\n",
    "print(my_set)  # Output: set() (empty set)  \n"
   ]
  },
  {
   "cell_type": "code",
   "execution_count": 11,
   "id": "797fe17e",
   "metadata": {},
   "outputs": [
    {
     "name": "stdout",
     "output_type": "stream",
     "text": [
      "False\n",
      "False\n",
      "set()\n",
      "{2}\n"
     ]
    }
   ],
   "source": [
    "## Set Membership\n",
    "# You can check if an element is in a set using the `in` keyword.\n",
    "print(3 in my_set)  # Output: True\n",
    "print(6 in my_set)  # Output: False\n",
    "# Sets are unordered, so the order of elements may not be the same as when they were added.\n",
    "print(my_set)  # Output: {2, 3, 4} (the output may vary)\n",
    "# Sets do not allow duplicate elements, so adding a duplicate will not change the set.\n",
    "my_set.add(2)  # Adding a duplicate element\n",
    "print(my_set)  # Output: {2, 3, 4} (no change)\n",
    "# You can also create a set from a string, which will treat each character as an individual element.\n",
    "my_string_set = set(\"hello\")    "
   ]
  },
  {
   "cell_type": "code",
   "execution_count": 12,
   "id": "953e19a0",
   "metadata": {},
   "outputs": [
    {
     "name": "stdout",
     "output_type": "stream",
     "text": [
      "False\n",
      "True\n",
      "{1, 2, 3, 4}\n",
      "{1, 3, 4}\n"
     ]
    }
   ],
   "source": [
    "set1 = {1, 2, 3}\n",
    "set2 = {3, 4, 5}\n",
    "print(set1 == set2)  # Output: False (sets are not equal)\n",
    "set3 = {1, 2, 3}\n",
    "print(set1 == set3)  # Output: True (sets are equal)\n",
    "# Sets are mutable, meaning you can add or remove elements after creation.\n",
    "set1.add(4)  # Adding an element\n",
    "print(set1)  # Output: {1, 2, 3, 4}\n",
    "set1.remove(2)  # Removing an element\n",
    "print(set1)  # Output: {1, 3, 4}    "
   ]
  },
  {
   "cell_type": "code",
   "execution_count": 13,
   "id": "3ceabb9b",
   "metadata": {},
   "outputs": [],
   "source": [
    "## Sets methods\n",
    "# Sets have several built-in methods for common operations.\n",
    "# - `add(element)`: Adds an element to the set.\n",
    "# - `remove(element)`: Removes an element from the set; raises KeyError if not found.\n",
    "# - `discard(element)`: Removes an element from the set; does not raise an error if not found.\n",
    "# - `pop()`: Removes and returns an arbitrary element from the set.\n",
    "# - `clear()`: Removes all elements from the set.\n",
    "# - `union(other_set)`: Returns a new set with elements from both sets.\n",
    "# - `intersection(other_set)`: Returns a new set with elements common to both sets.\n",
    "# - `difference(other_set)`: Returns a new set with elements in the first set but not in the second.\n",
    "# - `symmetric_difference(other_set)`: Returns a new set with elements in either set but not both.\n",
    "# - `issubset(other_set)`: Returns True if the set is a subset of another set.\n",
    "# - `issuperset(other_set)`: Returns True if the set is a superset of another set.\n",
    "# - `copy()`: Returns a shallow copy of the set.\n",
    "# - `update(other_set)`: Updates the set with elements from another set.\n",
    "# - `intersection_update(other_set)`: Updates the set with elements common to both sets.\n",
    "# - `difference_update(other_set)`: Updates the set by removing elements found in another set.\n",
    "# - `symmetric_difference_update(other_set)`: Updates the set with elements in either set but not both.\n",
    "# - `isdisjoint(other_set)`: Returns True if the sets have no elements in common.\n",
    "# - `len(set)`: Returns the number of elements in the set.\n",
    "# - `max(set)`: Returns the maximum element in the set.\n",
    "# - `min(set)`: Returns the minimum element in the set. "
   ]
  },
  {
   "cell_type": "code",
   "execution_count": 15,
   "id": "67316b98",
   "metadata": {},
   "outputs": [
    {
     "name": "stdout",
     "output_type": "stream",
     "text": [
      "False\n",
      "True\n"
     ]
    }
   ],
   "source": [
    "set1 = {1, 2, 3, 4, 5}\n",
    "set2 = {3, 4, 5}\n",
    "\n",
    "print(set1.issubset(set2))  # Output: False (set1 is not a subset of set2)\n",
    "print(set1.issuperset(set2))  # Output: False (set1 is not a superset of set2)"
   ]
  },
  {
   "cell_type": "code",
   "execution_count": 16,
   "id": "0da37c38",
   "metadata": {},
   "outputs": [
    {
     "data": {
      "text/plain": [
       "{1, 2, 3, 4, 5}"
      ]
     },
     "execution_count": 16,
     "metadata": {},
     "output_type": "execute_result"
    }
   ],
   "source": [
    "lst1 = [1, 2, 3, 4, 4, 2, 5]\n",
    "set(lst1)  # Output: {1, 2, 3, 4, 5} (duplicates removed)"
   ]
  },
  {
   "cell_type": "code",
   "execution_count": 17,
   "id": "58f3f5e7",
   "metadata": {},
   "outputs": [
    {
     "name": "stdout",
     "output_type": "stream",
     "text": [
      "{'hello', 'world'}\n"
     ]
    }
   ],
   "source": [
    "## counting unique words in a string\n",
    "text = \"hello world hello\"\n",
    "words = text.split()  # Split the string into words\n",
    "unique_words = set(words)  # Create a set of unique words\n",
    "print(unique_words)  # Output: {'hello', 'world'} (order may vary)"
   ]
  },
  {
   "cell_type": "code",
   "execution_count": null,
   "id": "e64dd9c1",
   "metadata": {},
   "outputs": [],
   "source": []
  }
 ],
 "metadata": {
  "kernelspec": {
   "display_name": "Python 3",
   "language": "python",
   "name": "python3"
  },
  "language_info": {
   "codemirror_mode": {
    "name": "ipython",
    "version": 3
   },
   "file_extension": ".py",
   "mimetype": "text/x-python",
   "name": "python",
   "nbconvert_exporter": "python",
   "pygments_lexer": "ipython3",
   "version": "3.12.11"
  }
 },
 "nbformat": 4,
 "nbformat_minor": 5
}
