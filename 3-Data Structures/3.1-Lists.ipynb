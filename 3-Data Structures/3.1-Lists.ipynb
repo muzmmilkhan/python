{
 "cells": [
  {
   "cell_type": "markdown",
   "id": "d437954e",
   "metadata": {},
   "source": [
    "# Lists\n",
    "\n",
    "## Definition\n",
    "- Lists are ordered or unordered collections of items\n",
    "- They allow you to store multiple values in a single variable\n",
    "- Lists are mutable, meaning their contents can be changed after creation\n",
    "- Items in a list can be of different data types (strings, numbers, booleans, etc.)"
   ]
  },
  {
   "cell_type": "code",
   "execution_count": 1,
   "id": "5ece42d2",
   "metadata": {},
   "outputs": [],
   "source": [
    "# list declaration and initialization\n",
    "my_list = [1, 2, 3, 4, 5]"
   ]
  },
  {
   "cell_type": "code",
   "execution_count": 2,
   "id": "f49fcfaf",
   "metadata": {},
   "outputs": [
    {
     "name": "stdout",
     "output_type": "stream",
     "text": [
      "<class 'list'>\n"
     ]
    }
   ],
   "source": [
    "type_of_list = type(my_list)  # This will return <class 'list'>\n",
    "print(type_of_list)  # This will print <class 'list'>, indicating that my"
   ]
  },
  {
   "cell_type": "code",
   "execution_count": 3,
   "id": "9390bd50",
   "metadata": {},
   "outputs": [
    {
     "name": "stdout",
     "output_type": "stream",
     "text": [
      "['Muzammil', 'Ali', 'Ahmed', 'Sara', 'Fatima']\n"
     ]
    }
   ],
   "source": [
    "names = [\"Muzammil\", \"Ali\", \"Ahmed\", \"Sara\", \"Fatima\"]\n",
    "print(names)  # This will print the list of names"
   ]
  },
  {
   "cell_type": "code",
   "execution_count": 4,
   "id": "11eae5d7",
   "metadata": {},
   "outputs": [
    {
     "name": "stdout",
     "output_type": "stream",
     "text": [
      "Muzammil\n"
     ]
    }
   ],
   "source": [
    "## Accessing List Items\n",
    "# You can access items in a list using their index, which starts at 0.\n",
    "first_name = names[0]  # Accessing the first item in the list\n",
    "print(first_name)  # This will print \"Muzammil\""
   ]
  },
  {
   "cell_type": "code",
   "execution_count": 16,
   "id": "95c9fdde",
   "metadata": {},
   "outputs": [
    {
     "name": "stdout",
     "output_type": "stream",
     "text": [
      "apple\n",
      "banana\n",
      "cherry\n"
     ]
    }
   ],
   "source": [
    "fruits = [\"apple\", \"banana\", \"cherry\"]\n",
    "print(fruits[0])  # This will print \"apple\", the first item in the list\n",
    "print(fruits[1])  # This will print \"banana\", the second item in the list\n",
    "print(fruits[2])  # This will print \"cherry\", the third item in the list"
   ]
  },
  {
   "cell_type": "code",
   "execution_count": 17,
   "id": "0cc6fadb",
   "metadata": {},
   "outputs": [
    {
     "name": "stdout",
     "output_type": "stream",
     "text": [
      "cherry\n",
      "banana\n",
      "apple\n"
     ]
    }
   ],
   "source": [
    "print(fruits[-1])  # This will print \"cherry\", the last item in the list\n",
    "print(fruits[-2])  # This will print \"banana\", the second to last item\n",
    "print(fruits[-3])  # This will print \"apple\", the third to last item"
   ]
  },
  {
   "cell_type": "markdown",
   "id": "f82e0273",
   "metadata": {},
   "source": [
    "### slicing\n"
   ]
  },
  {
   "cell_type": "code",
   "execution_count": null,
   "id": "bdf4ab44",
   "metadata": {},
   "outputs": [
    {
     "name": "stdout",
     "output_type": "stream",
     "text": [
      "['apple', 'banana']\n",
      "['banana', 'cherry']\n",
      "['apple', 'banana']\n",
      "['banana', 'cherry']\n",
      "['banana', 'cherry']\n",
      "['apple', 'banana']\n",
      "['banana']\n"
     ]
    }
   ],
   "source": [
    "# You can access a range of items in a list using slicing.\n",
    "# Syntax: list[start:end]\n",
    "print(fruits[0:2])  # This will print the first two items: [\"apple\", \"banana\"]\n",
    "print(fruits[1:3])  # This will print the second and third items: [\"banana\", \"cherry\"]\n",
    "print(fruits[:2])   # This will print the first two items: [\"apple\", \"banana\"]\n",
    "print(fruits[1:])  # This will print from the second item to the end: [\"banana\", \"cherry\"]\n",
    "print(fruits[-2:])  # This will print the last two items: [\"banana\", \"cherry\"]\n",
    "print(fruits[:-1])  # This will print all items except the last one: [\"apple\", \"banana\"]\n",
    "print(fruits[1:-1])  # This will print from the second item to the second to last item: [\"banana\", \"cherry\"]"
   ]
  },
  {
   "cell_type": "markdown",
   "id": "3f496564",
   "metadata": {},
   "source": [
    "### Modifying Lists"
   ]
  },
  {
   "cell_type": "code",
   "execution_count": null,
   "id": "982a0723",
   "metadata": {},
   "outputs": [
    {
     "name": "stdout",
     "output_type": "stream",
     "text": [
      "['orange', 'banana', 'cherry']\n"
     ]
    }
   ],
   "source": [
    "# Lists are mutable, meaning you can change their contents after creation.\n",
    "fruits[0] = \"orange\"  # Changing the first item from \"apple\" to \"orange\"\n",
    "print(fruits)  # This will print [\"orange\", \"banana\", \"cherry\"]"
   ]
  },
  {
   "cell_type": "markdown",
   "id": "1f909795",
   "metadata": {},
   "source": [
    "### List Methods"
   ]
  },
  {
   "cell_type": "code",
   "execution_count": null,
   "id": "7fb08c75",
   "metadata": {},
   "outputs": [
    {
     "name": "stdout",
     "output_type": "stream",
     "text": [
      "['orange', 'banana', 'cherry', 'kiwi']\n"
     ]
    }
   ],
   "source": [
    "# Lists come with several built-in methods to manipulate their contents.\n",
    "# Adding Items\n",
    "fruits.append(\"kiwi\")  # Adding \"kiwi\" to the end of the list\n",
    "print(fruits)  # This will print [\"orange\", \"banana\", \"cherry\", \"kiwi\"]\n"
   ]
  },
  {
   "cell_type": "code",
   "execution_count": 21,
   "id": "79d265cf",
   "metadata": {},
   "outputs": [
    {
     "name": "stdout",
     "output_type": "stream",
     "text": [
      "['orange', 'mango', 'banana', 'cherry', 'kiwi']\n"
     ]
    }
   ],
   "source": [
    "fruits.insert(1, \"mango\")  # Inserting \"mango\" at index 1\n",
    "print(fruits)  # This will print [\"orange\", \"mango\", \"banana\", \"cherry\", \"kiwi\"]"
   ]
  },
  {
   "cell_type": "code",
   "execution_count": 22,
   "id": "cd709433",
   "metadata": {},
   "outputs": [
    {
     "name": "stdout",
     "output_type": "stream",
     "text": [
      "['orange', 'mango', 'cherry', 'kiwi']\n",
      "['orange', 'mango', 'cherry']\n"
     ]
    }
   ],
   "source": [
    "fruits.remove(\"banana\")  # Removing \"banana\" from the list\n",
    "print(fruits)  # This will print [\"orange\", \"mango\", \"cherry\", \"kiwi\"]\n",
    "fruits.pop()  # Removing the last item from the list\n",
    "print(fruits)  # This will print [\"orange\", \"mango\", \"cherry\"]"
   ]
  },
  {
   "cell_type": "code",
   "execution_count": 23,
   "id": "285190a6",
   "metadata": {},
   "outputs": [
    {
     "data": {
      "text/plain": [
       "1"
      ]
     },
     "execution_count": 23,
     "metadata": {},
     "output_type": "execute_result"
    }
   ],
   "source": [
    "fruits.index(\"mango\")  # This will return the index of \"mango\", which is 1"
   ]
  },
  {
   "cell_type": "markdown",
   "id": "4b70b1b0",
   "metadata": {},
   "source": [
    "### Slicing List\n"
   ]
  },
  {
   "cell_type": "code",
   "execution_count": 30,
   "id": "e7faef0b",
   "metadata": {},
   "outputs": [
    {
     "name": "stdout",
     "output_type": "stream",
     "text": [
      "[3, 4, 5]\n",
      "[1, 2, 3]\n",
      "[6, 7, 8, 9, 10]\n",
      "[8, 9, 10]\n",
      "[1, 2, 3, 4, 5, 6, 7]\n"
     ]
    }
   ],
   "source": [
    "numbers = [1, 2, 3, 4, 5, 6, 7, 8, 9, 10]\n",
    "print(numbers[2:5])  # This will print [3, 4, 5]\n",
    "print(numbers[:3])   # This will print [1, 2, 3]\n",
    "print(numbers[5:])   # This will print [6, 7, 8, 9, 10]\n",
    "print(numbers[-3:])  # This will print [8, 9, 10]\n",
    "print(numbers[:-3])  # This will print [1, 2, 3, 4, 5, 6, 7]"
   ]
  },
  {
   "cell_type": "markdown",
   "id": "5e36ab5f",
   "metadata": {},
   "source": [
    "### Iterating Through a List\n"
   ]
  },
  {
   "cell_type": "code",
   "execution_count": 31,
   "id": "e4909fbf",
   "metadata": {},
   "outputs": [
    {
     "name": "stdout",
     "output_type": "stream",
     "text": [
      "orange\n",
      "mango\n",
      "cherry\n"
     ]
    }
   ],
   "source": [
    "# You can iterate through a list using a for loop.\n",
    "for fruit in fruits:\n",
    "    print(fruit)  # This will print each fruit in the list"
   ]
  },
  {
   "cell_type": "code",
   "execution_count": 32,
   "id": "4fb697c7",
   "metadata": {},
   "outputs": [
    {
     "name": "stdout",
     "output_type": "stream",
     "text": [
      "1\n",
      "2\n",
      "3\n",
      "4\n",
      "5\n",
      "6\n",
      "7\n",
      "8\n",
      "9\n",
      "10\n"
     ]
    }
   ],
   "source": [
    "for number in numbers:\n",
    "    print(number)  # This will print each number in the list"
   ]
  },
  {
   "cell_type": "markdown",
   "id": "7cca2500",
   "metadata": {},
   "source": [
    "### Iterating with index\n"
   ]
  },
  {
   "cell_type": "code",
   "execution_count": null,
   "id": "44b76bdc",
   "metadata": {},
   "outputs": [
    {
     "name": "stdout",
     "output_type": "stream",
     "text": [
      "0: orange\n",
      "1: mango\n",
      "2: cherry\n"
     ]
    }
   ],
   "source": [
    "for index in range(len(fruits)):\n",
    "    print(f\"{index}: {fruits[index]}\")  # This will print the index and the corresponding fruit"
   ]
  },
  {
   "cell_type": "markdown",
   "id": "281aaead",
   "metadata": {},
   "source": [
    "### List Comprehensions\n",
    "List comprehensions are a concise and Pythonic way to create lists based on existing iterables. They provide a more readable and efficient alternative to traditional for loops when creating new lists.\n",
    "\n",
    "**Syntax:**\n",
    "```\n",
    "[expression for item in iterable if condition]\n",
    "```\n",
    "\n",
    "**Basic Example:**\n",
    "- Instead of writing a traditional loop, you can create a new list in a single line\n",
    "- The expression defines what each element in the new list will be\n",
    "- The optional condition filters which items to include\n",
    "\n",
    "List comprehensions are faster and more memory-efficient than equivalent for loops, making them a preferred approach for list creation in Python."
   ]
  },
  {
   "cell_type": "code",
   "execution_count": 33,
   "id": "9104cb3f",
   "metadata": {},
   "outputs": [
    {
     "name": "stdout",
     "output_type": "stream",
     "text": [
      "[1, 4, 9, 16, 25, 36, 49, 64, 81, 100]\n"
     ]
    }
   ],
   "source": [
    "# List comprehensions provide a concise way to create lists.\n",
    "squared_numbers = [x**2 for x in numbers]  # This will create a list of squared numbers\n",
    "print(squared_numbers)  # This will print [1, 4, 9, 16, 25, 36, 49, 64, 81, 100]"
   ]
  },
  {
   "cell_type": "code",
   "execution_count": 34,
   "id": "a71f35c9",
   "metadata": {},
   "outputs": [
    {
     "name": "stdout",
     "output_type": "stream",
     "text": [
      "[2, 4, 6, 8, 10]\n"
     ]
    }
   ],
   "source": [
    "[x**2 for x in range(10)]  # This will create a list of squares from 0 to 9\n",
    "# This will print [0, 1, 4, 9, 16, 25, 36, 49, 64, 81]\n",
    "even_numbers = [x for x in numbers if x % 2 == 0]  # This will create a list of even numbers from the original list\n",
    "print(even_numbers)"
   ]
  },
  {
   "cell_type": "code",
   "execution_count": 35,
   "id": "2656381b",
   "metadata": {},
   "outputs": [
    {
     "name": "stdout",
     "output_type": "stream",
     "text": [
      "['1a', '2b', '3c']\n"
     ]
    }
   ],
   "source": [
    "lst1 = [1, 2, 3]\n",
    "lst2 = ['a', 'b', 'c']\n",
    "combined = [f\"{x}{y}\" for x, y in zip(lst1, lst2)]  # This will combine elements from both lists\n",
    "print(combined)  # This will print ['1a', '2b', '3c']"
   ]
  },
  {
   "cell_type": "code",
   "execution_count": 38,
   "id": "bec3a9a6",
   "metadata": {},
   "outputs": [
    {
     "name": "stdout",
     "output_type": "stream",
     "text": [
      "[[1, 'a'], [1, 'b'], [1, 'c'], [2, 'a'], [2, 'b'], [2, 'c'], [3, 'a'], [3, 'b'], [3, 'c']]\n"
     ]
    }
   ],
   "source": [
    "list_of_lists = [[i,j] for i in lst1 for j in lst2]  # This will create a list of lists\n",
    "print(list_of_lists)  # This will print [[1, 'a'], [1, 'b'], [1, 'c'], [2, 'a'], [2, 'b'], [2, 'c'], [3, 'a'], [3, 'b'], [3, 'c']]"
   ]
  },
  {
   "cell_type": "markdown",
   "id": "2e98f9ad",
   "metadata": {},
   "source": [
    "### List comprehension with function calss"
   ]
  },
  {
   "cell_type": "code",
   "execution_count": 39,
   "id": "a224d845",
   "metadata": {},
   "outputs": [
    {
     "name": "stdout",
     "output_type": "stream",
     "text": [
      "[1, 4, 9, 16, 25, 36, 49, 64, 81, 100]\n"
     ]
    }
   ],
   "source": [
    "## List Comprehensions with functions calls\n",
    "def square(x):\n",
    "    return x ** 2\n",
    "\n",
    "squared_numbers = [square(x) for x in numbers]\n",
    "print(squared_numbers)"
   ]
  },
  {
   "cell_type": "code",
   "execution_count": 40,
   "id": "5993701c",
   "metadata": {},
   "outputs": [
    {
     "name": "stdout",
     "output_type": "stream",
     "text": [
      "<class 'list'>\n",
      "[1, 2, 3, 4, 5]\n",
      "['Muzammil', 'Ali', 'Ahmed', 'Sara', 'Fatima']\n",
      "['orange', 'mango', 'cherry']\n",
      "[1, 4, 9, 16, 25, 36, 49, 64, 81, 100]\n"
     ]
    }
   ],
   "source": [
    "## Conclusion\n",
    "# Lists are versatile data structures in Python that allow you to store and manipulate collections of items.\n",
    "# They support various operations such as adding, removing, and accessing items, and can be easily iterated over.\n",
    "# List comprehensions provide a powerful way to create and manipulate lists in a concise manner.\n",
    "# Understanding how to work with lists is essential for effective programming in Python.\n",
    "# This will print <class 'list'>, indicating that my_list is indeed a list.\n",
    "print(type_of_list)  # This will print <class 'list'>, indicating that my_list is indeed a list.\n",
    "print(my_list)  # This will print the contents of my_list\n",
    "print(names)  # This will print the list of names\n",
    "print(fruits)  # This will print the list of fruits\n",
    "print(squared_numbers)  # This will print the list of squared numbers   "
   ]
  },
  {
   "cell_type": "code",
   "execution_count": null,
   "id": "e53e678e",
   "metadata": {},
   "outputs": [],
   "source": []
  }
 ],
 "metadata": {
  "kernelspec": {
   "display_name": "Python 3",
   "language": "python",
   "name": "python3"
  },
  "language_info": {
   "codemirror_mode": {
    "name": "ipython",
    "version": 3
   },
   "file_extension": ".py",
   "mimetype": "text/x-python",
   "name": "python",
   "nbconvert_exporter": "python",
   "pygments_lexer": "ipython3",
   "version": "3.12.11"
  }
 },
 "nbformat": 4,
 "nbformat_minor": 5
}
