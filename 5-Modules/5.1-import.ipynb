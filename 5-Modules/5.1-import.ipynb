{
 "cells": [
  {
   "cell_type": "markdown",
   "id": "34889123",
   "metadata": {},
   "source": [
    "### Importing Modules in Python: Modules and packages\n",
    "\n",
    "**Modules** are Python files containing Python code that can define functions, classes, and variables. They allow you to organize and reuse code across different programs. A module is simply a `.py` file that you can import into other Python scripts.\n",
    "\n",
    "**Packages** are directories containing multiple modules. They provide a way to structure and organize related modules together. A package must contain an `__init__.py` file (which can be empty) to be recognized as a package by Python.\n",
    "\n",
    "Key benefits:\n",
    "- **Code reusability**: Write once, use multiple times\n",
    "- **Organization**: Keep related functionality together\n",
    "- **Namespace management**: Avoid naming conflicts\n",
    "- **Modularity**: Break large programs into smaller, manageable pieces\n",
    "\n",
    "Common import patterns:\n",
    "- `import module_name` - imports the entire module\n",
    "- `from module_name import function_name` - imports specific functions\n",
    "- `import module_name as alias` - imports with a custom name\n"
   ]
  },
  {
   "cell_type": "code",
   "execution_count": 1,
   "id": "d7674fb8",
   "metadata": {},
   "outputs": [
    {
     "name": "stdout",
     "output_type": "stream",
     "text": [
      "The square root of 16 is 4.0\n"
     ]
    }
   ],
   "source": [
    "import math\n",
    "\n",
    "# The math module provides access to mathematical functions and constants.\n",
    "# It includes functions for trigonometry, logarithms, factorials, and more.\n",
    "# For example, you can use math.sqrt() to calculate the square root of a number.\n",
    "def calculate_square_root(number):\n",
    "    \"\"\"Calculate the square root of a number using the math module.\"\"\"\n",
    "    return math.sqrt(number)\n",
    "\n",
    "# Example usage\n",
    "if __name__ == \"__main__\":\n",
    "    number = 16\n",
    "    square_root = calculate_square_root(number)\n",
    "    print(f\"The square root of {number} is {square_root}\")"
   ]
  },
  {
   "cell_type": "code",
   "execution_count": 2,
   "id": "ac62f7de",
   "metadata": {},
   "outputs": [
    {
     "name": "stdout",
     "output_type": "stream",
     "text": [
      "The value of pi is approximately 3.141592653589793\n",
      "The square root of 25 is 5.0\n"
     ]
    }
   ],
   "source": [
    "from math import pi, sqrt\n",
    "print(f\"The value of pi is approximately {pi}\")\n",
    "print(f\"The square root of 25 is {sqrt(25)}\")\n"
   ]
  },
  {
   "cell_type": "code",
   "execution_count": 1,
   "id": "6d19fe3c",
   "metadata": {},
   "outputs": [],
   "source": [
    "import numpy as np"
   ]
  },
  {
   "cell_type": "code",
   "execution_count": 3,
   "id": "66492300",
   "metadata": {},
   "outputs": [],
   "source": [
    "from package.maths import add, subtract, multiply, divide"
   ]
  },
  {
   "cell_type": "code",
   "execution_count": 5,
   "id": "b0a25ce8",
   "metadata": {},
   "outputs": [
    {
     "name": "stdout",
     "output_type": "stream",
     "text": [
      "8\n",
      "6\n",
      "12\n",
      "4.0\n"
     ]
    }
   ],
   "source": [
    "print(add(5, 3))  # Example usage of the add function\n",
    "print(subtract(10, 4))  # Example usage of the subtract function\n",
    "print(multiply(2, 6))  # Example usage of the multiply function\n",
    "print(divide(8, 2))  # Example usage of the divide function"
   ]
  },
  {
   "cell_type": "code",
   "execution_count": null,
   "id": "97e718c8",
   "metadata": {},
   "outputs": [],
   "source": []
  }
 ],
 "metadata": {
  "kernelspec": {
   "display_name": "Python 3",
   "language": "python",
   "name": "python3"
  },
  "language_info": {
   "codemirror_mode": {
    "name": "ipython",
    "version": 3
   },
   "file_extension": ".py",
   "mimetype": "text/x-python",
   "name": "python",
   "nbconvert_exporter": "python",
   "pygments_lexer": "ipython3",
   "version": "3.12.11"
  }
 },
 "nbformat": 4,
 "nbformat_minor": 5
}
