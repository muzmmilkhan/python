{
 "cells": [
  {
   "cell_type": "markdown",
   "id": "be1229c6",
   "metadata": {},
   "source": [
    "### Standard Library Overview\n",
    "A collection of modules and packages that come pre-installed with Python, providing essential functionality for common programming tasks such as file handling, system operations, data structures, and mathematical operations. These modules are available without requiring separate installation and form the foundation for most Python applications."
   ]
  },
  {
   "cell_type": "code",
   "execution_count": 1,
   "id": "11732e0e",
   "metadata": {},
   "outputs": [
    {
     "name": "stdout",
     "output_type": "stream",
     "text": [
      "Integer Array: array('i', [1, 2, 3, 4, 5])\n",
      "Float Array: array('f', [1.100000023841858, 2.200000047683716, 3.299999952316284])\n",
      "Character Array: array('u', 'hello')\n",
      "Byte Array: array('b', [65, 66, 67])\n"
     ]
    }
   ],
   "source": [
    "import array as arr\n",
    "# Create an array of integers\n",
    "int_array = arr.array('i', [1, 2, 3, 4, 5])\n",
    "print(\"Integer Array:\", int_array)\n",
    "\n",
    "# Create an array of floats\n",
    "float_array = arr.array('f', [1.1, 2.2, 3.3])\n",
    "print(\"Float Array:\", float_array)\n",
    "\n",
    "# Create an array of characters\n",
    "char_array = arr.array('u', 'hello')\n",
    "print(\"Character Array:\", char_array)\n",
    "\n",
    "# Create an array of bytes\n",
    "byte_array = arr.array('b', [65, 66, 67])  # ASCII values for 'A', 'B', 'C'\n",
    "print(\"Byte Array:\", byte_array)"
   ]
  },
  {
   "cell_type": "code",
   "execution_count": 2,
   "id": "e82f8f15",
   "metadata": {},
   "outputs": [
    {
     "name": "stdout",
     "output_type": "stream",
     "text": [
      "Square root of 16: 4.0\n",
      "Value of pi: 3.141592653589793\n"
     ]
    }
   ],
   "source": [
    "import math\n",
    "print(\"Square root of 16:\", math.sqrt(16))\n",
    "print(\"Value of pi:\", math.pi)"
   ]
  },
  {
   "cell_type": "code",
   "execution_count": 3,
   "id": "b19dcab4",
   "metadata": {},
   "outputs": [
    {
     "name": "stdout",
     "output_type": "stream",
     "text": [
      "Random Integer: 9\n"
     ]
    }
   ],
   "source": [
    "import random\n",
    "# Generate a random integer between 1 and 10\n",
    "random_integer = random.randint(1, 10)\n",
    "print(\"Random Integer:\", random_integer)"
   ]
  },
  {
   "cell_type": "code",
   "execution_count": 5,
   "id": "a02c845a",
   "metadata": {},
   "outputs": [
    {
     "name": "stdout",
     "output_type": "stream",
     "text": [
      "cherry\n"
     ]
    }
   ],
   "source": [
    "print(random.choice(['apple', 'banana', 'cherry']))  # Randomly choose an element from a list"
   ]
  },
  {
   "cell_type": "code",
   "execution_count": 8,
   "id": "2800e35d",
   "metadata": {},
   "outputs": [
    {
     "name": "stdout",
     "output_type": "stream",
     "text": [
      "Current Directory: /Users/MU20414673/Udemy_Final/python/5-Modules\n",
      "Files in Current Directory: ['5.1-import.ipynb', 'test.py', '5.2-Standardlibrary.ipynb', 'package']\n",
      "New Directory Created: /Users/MU20414673/Udemy_Final/python/5-Modules/new_folder\n"
     ]
    }
   ],
   "source": [
    "## File and Directory Operations\n",
    "import os\n",
    "# Get the current working directory\n",
    "current_directory = os.getcwd()\n",
    "print(\"Current Directory:\", current_directory)\n",
    "\n",
    "# List files in the current directory\n",
    "files = os.listdir(current_directory)\n",
    "print(\"Files in Current Directory:\", files)\n",
    "\n",
    "# Create a new directory\n",
    "new_directory = os.path.join(current_directory, 'new_folder')\n",
    "os.makedirs(new_directory, exist_ok=True)\n",
    "print(\"New Directory Created:\", new_directory)"
   ]
  },
  {
   "cell_type": "code",
   "execution_count": 9,
   "id": "2eec4fd0",
   "metadata": {},
   "outputs": [
    {
     "name": "stdout",
     "output_type": "stream",
     "text": [
      "File copied from /Users/MU20414673/Udemy_Final/python/5-Modules/example.txt to /Users/MU20414673/Udemy_Final/python/5-Modules/new_folder/example_copy.txt\n"
     ]
    }
   ],
   "source": [
    "# High Level File Operations\n",
    "import shutil\n",
    "# Copy a file\n",
    "source_file = os.path.join(current_directory, 'example.txt')\n",
    "destination_file = os.path.join(new_directory, 'example_copy.txt')\n",
    "shutil.copy(source_file, destination_file)\n",
    "print(\"File copied from\", source_file, \"to\", destination_file)"
   ]
  },
  {
   "cell_type": "code",
   "execution_count": 12,
   "id": "5a903149",
   "metadata": {},
   "outputs": [
    {
     "name": "stdout",
     "output_type": "stream",
     "text": [
      "Serialized JSON String: {\"name\": \"Muzmmil\", \"age\": 30, \"country\": \"India\"}\n",
      "Type of JSON String: <class 'str'>\n",
      "Deserialized Data: {'name': 'Muzmmil', 'age': 30, 'country': 'India'}\n",
      "Type of Deserialized Data: <class 'dict'>\n"
     ]
    }
   ],
   "source": [
    "## Data Serialization\n",
    "import json\n",
    "# Create a sample dictionary\n",
    "data = {'name': 'Muzmmil', 'age': 30, 'country': 'India'}\n",
    "# Serialize the dictionary to a JSON string\n",
    "json_string = json.dumps(data)\n",
    "print(\"Serialized JSON String:\", json_string)\n",
    "print(\"Type of JSON String:\", type(json_string))\n",
    "\n",
    "# Deserialize the JSON string back to a dictionary\n",
    "deserialized_data = json.loads(json_string)\n",
    "print(\"Deserialized Data:\", deserialized_data)\n",
    "print(\"Type of Deserialized Data:\", type(deserialized_data))"
   ]
  },
  {
   "cell_type": "code",
   "execution_count": 13,
   "id": "3fbe5b8b",
   "metadata": {},
   "outputs": [
    {
     "name": "stdout",
     "output_type": "stream",
     "text": [
      "Row: ['Name', 'Age', 'Country']\n",
      "Row: ['Muzmmil', '30', 'India']\n",
      "Row: ['Najmin', '25', 'USA']\n"
     ]
    }
   ],
   "source": [
    "## csv File Operations\n",
    "import csv\n",
    "# Create a sample CSV file\n",
    "with open('sample.csv', mode='w', newline='') as file:\n",
    "    writer = csv.writer(file)\n",
    "    writer.writerow(['Name', 'Age', 'Country'])\n",
    "    writer.writerow(['Muzmmil', 30, 'India'])\n",
    "    writer.writerow(['Najmin', 25, 'USA'])\n",
    "\n",
    "# Read the CSV file\n",
    "with open('sample.csv', mode='r') as file:\n",
    "    reader = csv.reader(file)\n",
    "    for row in reader:\n",
    "        print(\"Row:\", row)"
   ]
  },
  {
   "cell_type": "code",
   "execution_count": 14,
   "id": "ec6558fe",
   "metadata": {},
   "outputs": [
    {
     "name": "stdout",
     "output_type": "stream",
     "text": [
      "Current Date and Time: 2025-07-13 18:43:13.920019\n",
      "Formatted Date and Time: 2025-07-13 18:43:13\n",
      "Future Date (5 days later): 2025-07-18 18:43:13.920019\n",
      "Past Date (3 days earlier): 2025-07-10 18:43:13.920019\n"
     ]
    }
   ],
   "source": [
    "## datetime Module\n",
    "from datetime import datetime, timedelta\n",
    "# Get the current date and time\n",
    "current_datetime = datetime.now()\n",
    "print(\"Current Date and Time:\", current_datetime)\n",
    "\n",
    "# Format the date and time\n",
    "formatted_datetime = current_datetime.strftime('%Y-%m-%d %H:%M:%S')\n",
    "print(\"Formatted Date and Time:\", formatted_datetime)\n",
    "# Add 5 days to the current date\n",
    "future_date = current_datetime + timedelta(days=5)\n",
    "print(\"Future Date (5 days later):\", future_date)\n",
    "# Subtract 3 days from the current date\n",
    "past_date = current_datetime - timedelta(days=3)\n",
    "print(\"Past Date (3 days earlier):\", past_date)"
   ]
  },
  {
   "cell_type": "code",
   "execution_count": 15,
   "id": "91b6cf7c",
   "metadata": {},
   "outputs": [
    {
     "name": "stdout",
     "output_type": "stream",
     "text": [
      "Current Time (seconds since epoch): 1752412430.453585\n",
      "Slept for 2 seconds\n"
     ]
    }
   ],
   "source": [
    "import time\n",
    "# Get the current time in seconds since the epoch\n",
    "current_time = time.time()\n",
    "print(\"Current Time (seconds since epoch):\", current_time)  \n",
    "# Sleep for 2 seconds\n",
    "time.sleep(2)\n",
    "print(\"Slept for 2 seconds\")    \n"
   ]
  },
  {
   "cell_type": "code",
   "execution_count": 17,
   "id": "8cce74b0",
   "metadata": {},
   "outputs": [
    {
     "name": "stdout",
     "output_type": "stream",
     "text": [
      "Matches found: ['2', '345']\n"
     ]
    }
   ],
   "source": [
    "import re\n",
    "# Example of a regular expression to find all words in a string\n",
    "pattern = r'\\d+'\n",
    "text = \"There are 2 apples and 345 oranges.\"\n",
    "matches = re.findall(pattern, text)\n",
    "print(\"Matches found:\", matches)"
   ]
  },
  {
   "cell_type": "code",
   "execution_count": 18,
   "id": "887b3c94",
   "metadata": {},
   "outputs": [],
   "source": [
    "## Conclusion\n",
    "# In this notebook, we explored various modules in the Python Standard Library, including `datetime`, `time`, and `re`. \n",
    "# These modules provide essential functionality for working with dates and times, handling time-related tasks, and performing regular expression operations. \n",
    "# Understanding and utilizing these modules can greatly enhance your Python programming skills and enable you to build more powerful applications."
   ]
  },
  {
   "cell_type": "code",
   "execution_count": null,
   "id": "465736a9",
   "metadata": {},
   "outputs": [],
   "source": []
  }
 ],
 "metadata": {
  "kernelspec": {
   "display_name": "Python 3",
   "language": "python",
   "name": "python3"
  },
  "language_info": {
   "codemirror_mode": {
    "name": "ipython",
    "version": 3
   },
   "file_extension": ".py",
   "mimetype": "text/x-python",
   "name": "python",
   "nbconvert_exporter": "python",
   "pygments_lexer": "ipython3",
   "version": "3.12.11"
  }
 },
 "nbformat": 4,
 "nbformat_minor": 5
}
