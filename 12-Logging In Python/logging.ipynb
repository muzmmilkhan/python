{
 "cells": [
  {
   "cell_type": "markdown",
   "id": "9c9178df",
   "metadata": {},
   "source": [
    "### Python Logging\n",
    "Python logging is a built-in module that provides a flexible framework for emitting log messages from Python programs. It allows developers to track events, debug issues, and monitor application behavior by recording messages at different severity levels (DEBUG, INFO, WARNING, ERROR, CRITICAL)."
   ]
  },
  {
   "cell_type": "code",
   "execution_count": 1,
   "id": "3202b078",
   "metadata": {},
   "outputs": [],
   "source": [
    "import logging"
   ]
  },
  {
   "cell_type": "code",
   "execution_count": 2,
   "id": "b969314c",
   "metadata": {},
   "outputs": [],
   "source": [
    "## configuring logging\n",
    "logging.basicConfig(\n",
    "    filename='app.log',  # Log messages will be written to this file\n",
    "    filemode='w',  # 'w' for write mode, 'a' for append mode\n",
    "    level=logging.DEBUG,  # Set the logging level to DEBUG\n",
    "    format='%(asctime)s - %(levelname)s - %(message)s',  # Define the log message format\n",
    "    datefmt='%Y-%m-%d %H:%M:%S'  # Define the date format\n",
    ")"
   ]
  },
  {
   "cell_type": "code",
   "execution_count": 3,
   "id": "0afbb80e",
   "metadata": {},
   "outputs": [],
   "source": [
    "logging.debug(\"This is a debug message\")\n",
    "logging.info(\"This is an info message\")\n",
    "logging.warning(\"This is a warning message\")\n",
    "logging.error(\"This is an error message\")\n",
    "logging.critical(\"This is a critical message\")"
   ]
  },
  {
   "cell_type": "markdown",
   "id": "b61972f0",
   "metadata": {},
   "source": [
    "### Log Level\n",
    "Log levels in Python logging determine which messages are recorded. Each level has a numeric value, and only messages at or above the configured level are output:\n",
    "\n",
    "- **DEBUG (10)**: Detailed information for diagnosing problems, typically only of interest when diagnosing problems\n",
    "- **INFO (20)**: General information about program execution, confirmation that things are working as expected\n",
    "- **WARNING (30)**: Something unexpected happened or potential problems, but the software is still working\n",
    "- **ERROR (40)**: A serious problem occurred, the software couldn't perform some function\n",
    "- **CRITICAL (50)**: A very serious error occurred, the program may not be able to continue\n",
    "\n",
    "You can set the logging level using `logging.basicConfig(level=logging.LEVEL_NAME)` or `logger.setLevel(logging.LEVEL_NAME)`. Messages below the set level will be ignored."
   ]
  },
  {
   "cell_type": "code",
   "execution_count": null,
   "id": "222ef11a",
   "metadata": {},
   "outputs": [],
   "source": []
  }
 ],
 "metadata": {
  "kernelspec": {
   "display_name": "Python 3",
   "language": "python",
   "name": "python3"
  },
  "language_info": {
   "codemirror_mode": {
    "name": "ipython",
    "version": 3
   },
   "file_extension": ".py",
   "mimetype": "text/x-python",
   "name": "python",
   "nbconvert_exporter": "python",
   "pygments_lexer": "ipython3",
   "version": "3.12.11"
  }
 },
 "nbformat": 4,
 "nbformat_minor": 5
}
