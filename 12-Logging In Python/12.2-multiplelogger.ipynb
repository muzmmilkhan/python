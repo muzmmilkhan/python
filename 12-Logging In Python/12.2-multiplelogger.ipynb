{
 "cells": [
  {
   "cell_type": "markdown",
   "id": "834f2f93",
   "metadata": {},
   "source": [
    "## Logging With Multiple Loggers\n",
    "A system that uses separate logger instances to categorize and route log messages based on different components, modules, or severity levels."
   ]
  },
  {
   "cell_type": "code",
   "execution_count": 1,
   "id": "0a9ff839",
   "metadata": {},
   "outputs": [],
   "source": [
    "import logging"
   ]
  },
  {
   "cell_type": "code",
   "execution_count": 2,
   "id": "cea05382",
   "metadata": {},
   "outputs": [],
   "source": [
    "# create a logger for module1\n",
    "logger1 = logging.getLogger('module1')\n",
    "logger1.setLevel(logging.DEBUG)\n",
    "\n",
    "# create a logger for module2\n",
    "logger2 = logging.getLogger('module2')\n",
    "logger2.setLevel(logging.WARNING)\n",
    "\n",
    "\n",
    "# configure logging settings\n",
    "logging.basicConfig(\n",
    "    level=logging.DEBUG,  # Set the logging level to DEBUG\n",
    "    format='%(asctime)s - %(name)s - %(levelname)s - %(message)s',  # Define the log message format\n",
    "    datefmt='%Y-%m-%d %H:%M:%S'  # Define the date format\n",
    ")"
   ]
  },
  {
   "cell_type": "code",
   "execution_count": 3,
   "id": "41524831",
   "metadata": {},
   "outputs": [
    {
     "name": "stderr",
     "output_type": "stream",
     "text": [
      "2025-07-14 09:10:05 - module1 - DEBUG - This is a debug message from module1\n",
      "2025-07-14 09:10:05 - module2 - WARNING - This is a warning message from module2\n",
      "2025-07-14 09:10:05 - module2 - ERROR - This is an error message from module2\n"
     ]
    }
   ],
   "source": [
    "logger1.debug(\"This is a debug message from module1\")\n",
    "logger2.warning(\"This is a warning message from module2\")\n",
    "logger2.error(\"This is an error message from module2\")"
   ]
  },
  {
   "cell_type": "code",
   "execution_count": null,
   "id": "227eeb7a",
   "metadata": {},
   "outputs": [],
   "source": []
  }
 ],
 "metadata": {
  "kernelspec": {
   "display_name": "Python 3",
   "language": "python",
   "name": "python3"
  },
  "language_info": {
   "codemirror_mode": {
    "name": "ipython",
    "version": 3
   },
   "file_extension": ".py",
   "mimetype": "text/x-python",
   "name": "python",
   "nbconvert_exporter": "python",
   "pygments_lexer": "ipython3",
   "version": "3.12.11"
  }
 },
 "nbformat": 4,
 "nbformat_minor": 5
}
