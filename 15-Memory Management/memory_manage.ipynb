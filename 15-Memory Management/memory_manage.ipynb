{
 "cells": [
  {
   "cell_type": "markdown",
   "id": "7dc80fd0",
   "metadata": {},
   "source": [
    "### Python Memory Mangement\n",
    "Memory management in Python refers to the automatic allocation and deallocation of memory for objects during program execution. Python uses a private heap to store all objects and data structures, with the Python memory manager handling the allocation and freeing of memory automatically through reference counting and garbage collection."
   ]
  },
  {
   "cell_type": "markdown",
   "id": "a9613574",
   "metadata": {},
   "source": [
    "### Reference Counting\n",
    "Reference counting is Python's primary memory management mechanism where each object maintains a counter that tracks the number of references pointing to it. When an object's reference count reaches zero, meaning no variables or other objects reference it, the object is immediately deallocated and its memory is freed. This automatic process helps prevent memory leaks by ensuring unused objects are promptly removed from memory."
   ]
  },
  {
   "cell_type": "code",
   "execution_count": 2,
   "id": "a0598edf",
   "metadata": {},
   "outputs": [
    {
     "name": "stdout",
     "output_type": "stream",
     "text": [
      "2\n"
     ]
    }
   ],
   "source": [
    "import sys\n",
    "\n",
    "a = []\n",
    "## 2 (one reference from the variable `a` and one from getrefcount)\n",
    "print(sys.getrefcount(a))  # Initial reference count"
   ]
  },
  {
   "cell_type": "code",
   "execution_count": 3,
   "id": "9dd47eae",
   "metadata": {},
   "outputs": [
    {
     "name": "stdout",
     "output_type": "stream",
     "text": [
      "3\n"
     ]
    }
   ],
   "source": [
    "b = a\n",
    "## 3 (one reference from the variable `b`)\n",
    "print(sys.getrefcount(a))  # Reference count after assigning `b`"
   ]
  },
  {
   "cell_type": "code",
   "execution_count": 4,
   "id": "3de95ebf",
   "metadata": {},
   "outputs": [
    {
     "name": "stdout",
     "output_type": "stream",
     "text": [
      "2\n"
     ]
    }
   ],
   "source": [
    "del b\n",
    "## 2 (back to one reference from the variable `a`)\n",
    "print(sys.getrefcount(a))  # Reference count after deleting `b`"
   ]
  },
  {
   "cell_type": "markdown",
   "id": "f16a7b23",
   "metadata": {},
   "source": [
    "### Garbage Collection\n",
    "Garbage collection is Python's secondary memory management mechanism that handles circular references and other complex memory scenarios that reference counting alone cannot resolve. When objects reference each other in cycles, their reference counts never reach zero even when they become unreachable from the program. Python's garbage collector periodically identifies and cleans up these unreachable object cycles, ensuring that memory is freed even in complex reference situations."
   ]
  },
  {
   "cell_type": "code",
   "execution_count": 5,
   "id": "7b64433f",
   "metadata": {},
   "outputs": [],
   "source": [
    "import gc\n",
    "gc.enable()  # Enable garbage collection"
   ]
  },
  {
   "cell_type": "code",
   "execution_count": 6,
   "id": "f23fe183",
   "metadata": {},
   "outputs": [],
   "source": [
    "gc.disable()  # Disable garbage collection"
   ]
  },
  {
   "cell_type": "code",
   "execution_count": 7,
   "id": "21bb543a",
   "metadata": {},
   "outputs": [
    {
     "data": {
      "text/plain": [
       "67"
      ]
     },
     "execution_count": 7,
     "metadata": {},
     "output_type": "execute_result"
    }
   ],
   "source": [
    "gc.collect()  # Force garbage collection to clean up any unreachable objects"
   ]
  },
  {
   "cell_type": "code",
   "execution_count": 8,
   "id": "e2027d98",
   "metadata": {},
   "outputs": [
    {
     "name": "stdout",
     "output_type": "stream",
     "text": [
      "[{'collections': 269, 'collected': 1200, 'uncollectable': 0}, {'collections': 24, 'collected': 621, 'uncollectable': 0}, {'collections': 3, 'collected': 70, 'uncollectable': 0}]\n"
     ]
    }
   ],
   "source": [
    "### Get garbage collection stats\n",
    "print(gc.get_stats())  # Display garbage collection statistics"
   ]
  },
  {
   "cell_type": "code",
   "execution_count": 9,
   "id": "9a4a38db",
   "metadata": {},
   "outputs": [
    {
     "name": "stdout",
     "output_type": "stream",
     "text": [
      "[]\n"
     ]
    }
   ],
   "source": [
    "### Get unreachable objects\n",
    "unreachable_objects = gc.garbage  # Retrieve unreachable objects\n",
    "print(unreachable_objects)  # Print the list of unreachable objects"
   ]
  },
  {
   "cell_type": "markdown",
   "id": "eb4815da",
   "metadata": {},
   "source": [
    "### Memory Management Best Practices\n",
    "1. **Avoid Circular References**: Be mindful of objects that reference each other in cycles, as they can prevent proper garbage collection and lead to memory leaks.\n",
    "\n",
    "2. **Use Context Managers**: Employ `with` statements for file operations and resource management to ensure proper cleanup and automatic resource deallocation.\n",
    "\n",
    "3. **Delete Large Objects Explicitly**: Use `del` to remove references to large objects when they're no longer needed, especially in long-running programs.\n",
    "\n",
    "4. **Monitor Memory Usage**: Regularly check memory consumption using tools like `sys.getsizeof()` and memory profilers to identify potential issues early.\n",
    "\n",
    "5. **Use Generators for Large Datasets**: Replace lists with generators when processing large amounts of data to reduce memory footprint and improve performance.\n",
    "\n",
    "6. **Avoid Global Variables**: Minimize the use of global variables as they persist throughout the program's lifetime and can prevent garbage collection.\n",
    "\n",
    "7. **Close Resources Properly**: Always close files, database connections, and network connections when finished to free up system resources.\n",
    "\n",
    "8. **Use Weak References**: Consider `weakref` module for cases where you need to reference objects without preventing their garbage collection.\n",
    "\n",
    "9. **Profile Memory Usage**: Use tools like `memory_profiler` or `tracemalloc` to identify memory bottlenecks and optimize accordingly.\n",
    "\n",
    "10. **Understand Reference Semantics**: Be aware of when operations create new objects versus when they create new references to existing objects."
   ]
  },
  {
   "cell_type": "code",
   "execution_count": 11,
   "id": "ea6489c4",
   "metadata": {},
   "outputs": [],
   "source": [
    "import gc\n",
    "\n",
    "class MyClass:\n",
    "    def __init__(self, name):\n",
    "        self.name = name\n",
    "        print(f\"Object {self.name} created.\")\n",
    "\n",
    "    def __del__(self):\n",
    "        print(f\"Object {self.name} destroyed.\")"
   ]
  },
  {
   "cell_type": "code",
   "execution_count": 13,
   "id": "8beb4010",
   "metadata": {},
   "outputs": [
    {
     "name": "stdout",
     "output_type": "stream",
     "text": [
      "Object Object 1 created.\n",
      "Object Object 2 created.\n",
      "Object Object 1 destroyed.\n",
      "Object Object 2 destroyed.\n",
      "Object Object 1 destroyed.\n",
      "Object Object 2 destroyed.\n",
      "Garbage collection completed.\n"
     ]
    }
   ],
   "source": [
    "## Create Circular Reference\n",
    "obj1 = MyClass(\"Object 1\")\n",
    "obj2 = MyClass(\"Object 2\")\n",
    "obj1.ref = obj2\n",
    "obj2.ref = obj1\n",
    "\n",
    "del obj1\n",
    "del obj2\n",
    "## Manually trigger garbage collection to clean up circular references\n",
    "gc.collect()  # This will invoke the __del__ method for both objects if they are unreachable\n",
    "print(\"Garbage collection completed.\")"
   ]
  },
  {
   "cell_type": "code",
   "execution_count": 14,
   "id": "f87cf4c0",
   "metadata": {},
   "outputs": [
    {
     "name": "stdout",
     "output_type": "stream",
     "text": [
      "0\n",
      "1\n",
      "2\n",
      "3\n",
      "4\n",
      "5\n",
      "6\n",
      "7\n",
      "8\n",
      "9\n",
      "10\n"
     ]
    }
   ],
   "source": [
    "## Genrators for Memory Management\n",
    "# Generator functions are a memory-efficient way to handle large datasets or streams of data in Python.\n",
    "#  Instead of returning a complete list, they yield one item at a time, allowing you to iterate over the data without loading everything into memory at once. \n",
    "# This is particularly useful for processing large files or data streams where you only need to access one item at a time.\n",
    "\n",
    "def generator_numbers(n):\n",
    "    for i in range(n):\n",
    "        yield i  # Yield one number at a time\n",
    "\n",
    "# Example usage\n",
    "for num in generator_numbers(100000):\n",
    "    print(num)\n",
    "    if num >= 10:  # Stop after printing the first 10 numbers\n",
    "        break"
   ]
  },
  {
   "cell_type": "code",
   "execution_count": 15,
   "id": "f1e47c68",
   "metadata": {},
   "outputs": [
    {
     "name": "stdout",
     "output_type": "stream",
     "text": [
      "Current memory usage: 39494.0595703125 KB; Peak: 39512.140625 KB\n"
     ]
    }
   ],
   "source": [
    "## Profiling Memory Usage with tracemalloc\n",
    "# The `tracemalloc` module allows you to track memory allocations in your Python program.\n",
    "import tracemalloc\n",
    "def create_large_list():\n",
    "    return [i for i in range(1000000)]  # Create a large list\n",
    "\n",
    "tracemalloc.start()  # Start tracing memory allocations\n",
    "large_list = create_large_list()  # Create a large list\n",
    "current, peak = tracemalloc.get_traced_memory()  # Get current and peak memory\n",
    "print(f\"Current memory usage: {current / 1024} KB; Peak: {peak / 1024} KB\")\n",
    "tracemalloc.stop()  # Stop tracing memory allocations"
   ]
  },
  {
   "cell_type": "code",
   "execution_count": null,
   "id": "d6e48641",
   "metadata": {},
   "outputs": [],
   "source": []
  }
 ],
 "metadata": {
  "kernelspec": {
   "display_name": "Python 3",
   "language": "python",
   "name": "python3"
  },
  "language_info": {
   "codemirror_mode": {
    "name": "ipython",
    "version": 3
   },
   "file_extension": ".py",
   "mimetype": "text/x-python",
   "name": "python",
   "nbconvert_exporter": "python",
   "pygments_lexer": "ipython3",
   "version": "3.12.11"
  }
 },
 "nbformat": 4,
 "nbformat_minor": 5
}
